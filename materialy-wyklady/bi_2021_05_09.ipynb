{
  "nbformat": 4,
  "nbformat_minor": 0,
  "metadata": {
    "colab": {
      "name": "materialy-wyklady/bi_2021_05_09.ipynb",
      "provenance": [],
      "authorship_tag": "ABX9TyOAgWMCbc8XO+R4eN4HdDbb",
      "include_colab_link": true
    },
    "kernelspec": {
      "name": "ir",
      "display_name": "R"
    },
    "language_info": {
      "name": "R"
    }
  },
  "cells": [
    {
      "cell_type": "markdown",
      "metadata": {
        "id": "view-in-github",
        "colab_type": "text"
      },
      "source": [
        "<a href=\"https://colab.research.google.com/github/DepartmentOfStatisticsPUE/bi-2021/blob/main/materialy-wyklady/bi_2021_05_09.ipynb\" target=\"_parent\"><img src=\"https://colab.research.google.com/assets/colab-badge.svg\" alt=\"Open In Colab\"/></a>"
      ]
    },
    {
      "cell_type": "markdown",
      "metadata": {
        "id": "umyriqI3N_kd"
      },
      "source": [
        "W artykule \n",
        "\n",
        "Chen, Y., Li, P., & Wu, C. (2020). Doubly Robust Inference With Nonprobability Survey Samples. Journal of the American Statistical Association, 115(532), 2011–2021. https://doi.org/10.1080/01621459.2019.1677241\n",
        "\n",
        "\n",
        "przedstawiono dwa podejścia do estymacji (w przypadku badania na podstawie próby):\n",
        "\n",
        "1. dwukrokowe (kolejność nie ma znaczenia):\n",
        "  + estymacja propensity scores celem uzyskania wektora parametrów $\\boldsymbol{\\lambda}$\n",
        "  + estymacja modelu $E(y_i|\\boldsymbol{x}_i)$ w celu uzyskania wektora parametrów $\\boldsymbol{\\beta}$\n",
        "  + wyznaczenie estymatora DR\n",
        "\n",
        "\\begin{equation}\n",
        "\\hat{\\theta}_{\\mathrm{DR}}=\n",
        "\\overbrace{\n",
        "\\frac{1}{\\hat{N}^A} \n",
        "\\sum_{i=1}^{n^A} \n",
        "\\frac{\n",
        "y_{i}-m\\left(\\hat{\\boldsymbol{\\beta}};\\boldsymbol{x}_{i}\\right)}\n",
        "{\\rho\\left(\\hat{\\boldsymbol{\\lambda}};\\boldsymbol{x}_{i}\\right)}}^{\\text{Średnia ważona reszt z modelu}} \n",
        "+\n",
        "\\overbrace{\n",
        "\\frac{1}{\\hat{N}^B} \n",
        "\\sum_{i=1}^{n^B} \n",
        "m\\left(\\hat{\\boldsymbol{\\beta}}; \\boldsymbol{x}_{i}\\right)}^{\\text{Średnia z predykcji dla całej populacji}},\n",
        "\\end{equation}\n",
        "\n",
        "\n",
        "2. jednokrokowe, w którym jednocześnie rozwiązujemy następujący układ równań\n",
        "\n",
        "\\begin{equation}\n",
        "\\begin{array}{c}\n",
        "\\frac{1}{N} \\sum_{i=1}^{N} R_{i}\\left\\{\\frac{1}{\\rho\\left(\\boldsymbol{\\lambda};\\boldsymbol{x}_{i}\\right)}-1\\right\\}\\left\\{y_{i}-m\\left(\\boldsymbol{\\beta};\\boldsymbol{x}_{i}\\right)\\right\\} \\boldsymbol{x}_{i}=\\mathbf{0} \\\\ \n",
        "\\frac{1}{N} \\sum_{i=1}^{N} \\frac{R_{i}}{\\rho\\left(\\boldsymbol{\\lambda}; \\boldsymbol{x}_{i}\\right)} \\dot{m}\\left(\\boldsymbol{\\beta}; \\boldsymbol{x}_{i}\\right)-\\frac{1}{N} \\sum_{i \\in \\mathcal{S}_{\\mathrm{B}}} d_{i}^{\\mathrm{B}} \\dot{m}\\left(\\boldsymbol{\\beta}; \\boldsymbol{x}_{i}\\right)=\\mathbf{0}\\end{array},\n",
        "\\end{equation}\n",
        "\n",
        "gdzie $\\dot{m}\\left(\\boldsymbol{\\beta}, \\boldsymbol{x}\\right) = \\partial m(\\boldsymbol{\\beta}, \\boldsymbol{x}) /\\partial \\boldsymbol{\\beta}$, czyli w przypadku modelu liniowego: $\\dot{m}\\left(\\boldsymbol{\\beta}, \\boldsymbol{x}\\right)=\\boldsymbol{x}$. \n",
        "\n",
        "Przy czym podejście to zakłada znajomość całej populacji, a estymator wariancji wyznaczony jest wyłącznie dla modelu regresji logistycznej.\n"
      ]
    },
    {
      "cell_type": "code",
      "metadata": {
        "id": "LmPJ1knvRidF"
      },
      "source": [
        ""
      ],
      "execution_count": null,
      "outputs": []
    }
  ]
}