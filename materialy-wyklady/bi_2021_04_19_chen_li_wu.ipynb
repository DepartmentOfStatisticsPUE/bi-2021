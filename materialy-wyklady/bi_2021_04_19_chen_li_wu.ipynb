{
  "nbformat": 4,
  "nbformat_minor": 0,
  "metadata": {
    "colab": {
      "name": "bi_2021_04_19-chen-li-wu.ipynb",
      "provenance": [],
      "collapsed_sections": [],
      "authorship_tag": "ABX9TyOwgegtuVsRsjwZCv5ShrUy",
      "include_colab_link": true
    },
    "kernelspec": {
      "name": "ir",
      "display_name": "R"
    },
    "language_info": {
      "name": "R"
    }
  },
  "cells": [
    {
      "cell_type": "markdown",
      "metadata": {
        "id": "view-in-github",
        "colab_type": "text"
      },
      "source": [
        "<a href=\"https://colab.research.google.com/github/DepartmentOfStatisticsPUE/bi-2021/blob/main/materialy-wyklady/bi_2021_04_19_chen_li_wu.ipynb\" target=\"_parent\"><img src=\"https://colab.research.google.com/assets/colab-badge.svg\" alt=\"Open In Colab\"/></a>"
      ]
    },
    {
      "cell_type": "markdown",
      "metadata": {
        "id": "EQwovVY2xmJJ"
      },
      "source": [
        "## Wprowadzenie\n",
        "\n",
        "W tym notatniku pokażę w jaki sposób estymować parametry wykorzystując podejście zaprezentowane w pracy:\n",
        "\n",
        "Chen, Y., Li, P., & Wu, C. (2020). **Doubly Robust Inference With Nonprobability Survey Samples**. Journal of the American Statistical Association, 115(532), 2011–2021. https://doi.org/10.1080/01621459.2019.1677241\n",
        "\n",
        "Zanim jednak zacznę omawiać jak należy do tego podejść zainstalujemy wymagane pakiety: `survey` oraz `rootSolve`. \n"
      ]
    },
    {
      "cell_type": "code",
      "metadata": {
        "colab": {
          "base_uri": "https://localhost:8080/"
        },
        "id": "o2OS2tYXxXFE",
        "outputId": "96a83890-2ef8-48ce-e2b8-6ea738984b2b"
      },
      "source": [
        "install.packages(c(\"survey\", \"rootSolve\"))"
      ],
      "execution_count": 1,
      "outputs": [
        {
          "output_type": "stream",
          "text": [
            "Installing packages into ‘/usr/local/lib/R/site-library’\n",
            "(as ‘lib’ is unspecified)\n",
            "\n",
            "also installing the dependencies ‘minqa’, ‘numDeriv’, ‘mitools’\n",
            "\n",
            "\n"
          ],
          "name": "stderr"
        }
      ]
    },
    {
      "cell_type": "markdown",
      "metadata": {
        "id": "Ne5YY5tnyIeG"
      },
      "source": [
        "Ładujemy pakiety oraz wczytujemy dane"
      ]
    },
    {
      "cell_type": "code",
      "metadata": {
        "id": "tkzeec8yyLFM"
      },
      "source": [
        "library(survey) \n",
        "library(rootSolve)\n",
        "library(tidyverse)\n",
        "library(Matrix) ## macierze rzadkie, wprowadzimy je później"
      ],
      "execution_count": 22,
      "outputs": []
    },
    {
      "cell_type": "code",
      "metadata": {
        "colab": {
          "base_uri": "https://localhost:8080/",
          "height": 295
        },
        "id": "CLn-ItCyyNxL",
        "outputId": "7bd8937b-eb76-4389-c147-07fce39c8363"
      },
      "source": [
        "download.file(\"https://raw.githubusercontent.com/DepartmentOfStatisticsPUE/bi-2021/main/data/popyt-zajecia-dane.csv\",\n",
        "              \"popyt-dane.csv\")\n",
        "dane <- read.csv(\"popyt-dane.csv\", stringsAsFactors = FALSE)\n",
        "head(dane)              "
      ],
      "execution_count": 3,
      "outputs": [
        {
          "output_type": "display_data",
          "data": {
            "text/plain": [
              "  id_popyt id_jednostki                             waga sek klasa_pr sekc_pkd\n",
              "1 1        a9cc990df6a99ab215a1bc13f51d4825c7d52d18 1    1   D        O       \n",
              "2 2        a9cc990df6a99ab215a1bc13f51d4825c7d52d18 1    1   D        O       \n",
              "3 3        c9dbaf50890165ebe810aa770de0e9df903dc35b 6    1   D        O       \n",
              "4 4        718e0bba42bcec6ed98f9690db6d26cb7b93c880 1    1   D        R.S     \n",
              "5 5        532a1879a692b9d7bbb7282ba757d028156ef341 1    1   D        R.S     \n",
              "6 6        0b6b623fa45e257284a3049d097af322841337e3 1    1   D        R.S     \n",
              "  woj zawod_kod2 wolne_miejsca id_cbop jedna_zmiana wymiar_40\n",
              "1 14  1          2             NA      NA           NA       \n",
              "2 14  2          7             NA      NA           NA       \n",
              "3 24  2          6             NA      NA           NA       \n",
              "4 14  2          7             NA      NA           NA       \n",
              "5 14  2          6             NA      NA           NA       \n",
              "6 22  2          1             NA      NA           NA       \n",
              "  wolne_miejsca_cbop wolne_miejsca_niepeln_cbop\n",
              "1 NA                 NA                        \n",
              "2 NA                 NA                        \n",
              "3 NA                 NA                        \n",
              "4 NA                 NA                        \n",
              "5 NA                 NA                        \n",
              "6 NA                 NA                        "
            ],
            "text/latex": "A data.frame: 6 × 14\n\\begin{tabular}{r|llllllllllllll}\n  & id\\_popyt & id\\_jednostki & waga & sek & klasa\\_pr & sekc\\_pkd & woj & zawod\\_kod2 & wolne\\_miejsca & id\\_cbop & jedna\\_zmiana & wymiar\\_40 & wolne\\_miejsca\\_cbop & wolne\\_miejsca\\_niepeln\\_cbop\\\\\n  & <int> & <chr> & <int> & <int> & <chr> & <chr> & <int> & <int> & <int> & <int> & <lgl> & <lgl> & <int> & <int>\\\\\n\\hline\n\t1 & 1 & a9cc990df6a99ab215a1bc13f51d4825c7d52d18 & 1 & 1 & D & O   & 14 & 1 & 2 & NA & NA & NA & NA & NA\\\\\n\t2 & 2 & a9cc990df6a99ab215a1bc13f51d4825c7d52d18 & 1 & 1 & D & O   & 14 & 2 & 7 & NA & NA & NA & NA & NA\\\\\n\t3 & 3 & c9dbaf50890165ebe810aa770de0e9df903dc35b & 6 & 1 & D & O   & 24 & 2 & 6 & NA & NA & NA & NA & NA\\\\\n\t4 & 4 & 718e0bba42bcec6ed98f9690db6d26cb7b93c880 & 1 & 1 & D & R.S & 14 & 2 & 7 & NA & NA & NA & NA & NA\\\\\n\t5 & 5 & 532a1879a692b9d7bbb7282ba757d028156ef341 & 1 & 1 & D & R.S & 14 & 2 & 6 & NA & NA & NA & NA & NA\\\\\n\t6 & 6 & 0b6b623fa45e257284a3049d097af322841337e3 & 1 & 1 & D & R.S & 22 & 2 & 1 & NA & NA & NA & NA & NA\\\\\n\\end{tabular}\n",
            "text/markdown": "\nA data.frame: 6 × 14\n\n| <!--/--> | id_popyt &lt;int&gt; | id_jednostki &lt;chr&gt; | waga &lt;int&gt; | sek &lt;int&gt; | klasa_pr &lt;chr&gt; | sekc_pkd &lt;chr&gt; | woj &lt;int&gt; | zawod_kod2 &lt;int&gt; | wolne_miejsca &lt;int&gt; | id_cbop &lt;int&gt; | jedna_zmiana &lt;lgl&gt; | wymiar_40 &lt;lgl&gt; | wolne_miejsca_cbop &lt;int&gt; | wolne_miejsca_niepeln_cbop &lt;int&gt; |\n|---|---|---|---|---|---|---|---|---|---|---|---|---|---|---|\n| 1 | 1 | a9cc990df6a99ab215a1bc13f51d4825c7d52d18 | 1 | 1 | D | O   | 14 | 1 | 2 | NA | NA | NA | NA | NA |\n| 2 | 2 | a9cc990df6a99ab215a1bc13f51d4825c7d52d18 | 1 | 1 | D | O   | 14 | 2 | 7 | NA | NA | NA | NA | NA |\n| 3 | 3 | c9dbaf50890165ebe810aa770de0e9df903dc35b | 6 | 1 | D | O   | 24 | 2 | 6 | NA | NA | NA | NA | NA |\n| 4 | 4 | 718e0bba42bcec6ed98f9690db6d26cb7b93c880 | 1 | 1 | D | R.S | 14 | 2 | 7 | NA | NA | NA | NA | NA |\n| 5 | 5 | 532a1879a692b9d7bbb7282ba757d028156ef341 | 1 | 1 | D | R.S | 14 | 2 | 6 | NA | NA | NA | NA | NA |\n| 6 | 6 | 0b6b623fa45e257284a3049d097af322841337e3 | 1 | 1 | D | R.S | 22 | 2 | 1 | NA | NA | NA | NA | NA |\n\n",
            "text/html": [
              "<table class=\"dataframe\">\n",
              "<caption>A data.frame: 6 × 14</caption>\n",
              "<thead>\n",
              "\t<tr><th></th><th scope=col>id_popyt</th><th scope=col>id_jednostki</th><th scope=col>waga</th><th scope=col>sek</th><th scope=col>klasa_pr</th><th scope=col>sekc_pkd</th><th scope=col>woj</th><th scope=col>zawod_kod2</th><th scope=col>wolne_miejsca</th><th scope=col>id_cbop</th><th scope=col>jedna_zmiana</th><th scope=col>wymiar_40</th><th scope=col>wolne_miejsca_cbop</th><th scope=col>wolne_miejsca_niepeln_cbop</th></tr>\n",
              "\t<tr><th></th><th scope=col>&lt;int&gt;</th><th scope=col>&lt;chr&gt;</th><th scope=col>&lt;int&gt;</th><th scope=col>&lt;int&gt;</th><th scope=col>&lt;chr&gt;</th><th scope=col>&lt;chr&gt;</th><th scope=col>&lt;int&gt;</th><th scope=col>&lt;int&gt;</th><th scope=col>&lt;int&gt;</th><th scope=col>&lt;int&gt;</th><th scope=col>&lt;lgl&gt;</th><th scope=col>&lt;lgl&gt;</th><th scope=col>&lt;int&gt;</th><th scope=col>&lt;int&gt;</th></tr>\n",
              "</thead>\n",
              "<tbody>\n",
              "\t<tr><th scope=row>1</th><td>1</td><td>a9cc990df6a99ab215a1bc13f51d4825c7d52d18</td><td>1</td><td>1</td><td>D</td><td>O  </td><td>14</td><td>1</td><td>2</td><td>NA</td><td>NA</td><td>NA</td><td>NA</td><td>NA</td></tr>\n",
              "\t<tr><th scope=row>2</th><td>2</td><td>a9cc990df6a99ab215a1bc13f51d4825c7d52d18</td><td>1</td><td>1</td><td>D</td><td>O  </td><td>14</td><td>2</td><td>7</td><td>NA</td><td>NA</td><td>NA</td><td>NA</td><td>NA</td></tr>\n",
              "\t<tr><th scope=row>3</th><td>3</td><td>c9dbaf50890165ebe810aa770de0e9df903dc35b</td><td>6</td><td>1</td><td>D</td><td>O  </td><td>24</td><td>2</td><td>6</td><td>NA</td><td>NA</td><td>NA</td><td>NA</td><td>NA</td></tr>\n",
              "\t<tr><th scope=row>4</th><td>4</td><td>718e0bba42bcec6ed98f9690db6d26cb7b93c880</td><td>1</td><td>1</td><td>D</td><td>R.S</td><td>14</td><td>2</td><td>7</td><td>NA</td><td>NA</td><td>NA</td><td>NA</td><td>NA</td></tr>\n",
              "\t<tr><th scope=row>5</th><td>5</td><td>532a1879a692b9d7bbb7282ba757d028156ef341</td><td>1</td><td>1</td><td>D</td><td>R.S</td><td>14</td><td>2</td><td>6</td><td>NA</td><td>NA</td><td>NA</td><td>NA</td><td>NA</td></tr>\n",
              "\t<tr><th scope=row>6</th><td>6</td><td>0b6b623fa45e257284a3049d097af322841337e3</td><td>1</td><td>1</td><td>D</td><td>R.S</td><td>22</td><td>2</td><td>1</td><td>NA</td><td>NA</td><td>NA</td><td>NA</td><td>NA</td></tr>\n",
              "</tbody>\n",
              "</table>\n"
            ]
          },
          "metadata": {
            "tags": []
          }
        }
      ]
    },
    {
      "cell_type": "markdown",
      "metadata": {
        "id": "FKkTfjTY3Xas"
      },
      "source": [
        "Na potrzeby tego przykładu przyjmiemy uproszczone podejście tj.\n",
        "\n",
        "+ zakładamy, że dwa zbiory danych są rozłączne,\n",
        "+ skupimy się wyłącznie na podmiotach gospodarczych,\n",
        "+ cechą, która nas interesuje to odsetek ofert, które dotyczą pracy na jedną zmianę.\n",
        "\n",
        "Czyli agregujemy dane na poziom podmiotów gospodarczych \n"
      ]
    },
    {
      "cell_type": "code",
      "metadata": {
        "colab": {
          "base_uri": "https://localhost:8080/"
        },
        "id": "z0fGgqPe4AZ2",
        "outputId": "7633c4d9-b995-4578-f53b-d50383d866ae"
      },
      "source": [
        "proba_losowa <- dane %>%\n",
        "  ungroup() %>%\n",
        "  filter(!is.na(id_popyt)) %>%\n",
        "  distinct(id_jednostki, waga, sek, wielk = klasa_pr, pkd = sekc_pkd, woj) \n",
        "\n",
        "proba_nielosowa <- dane %>%\n",
        "  ungroup() %>%\n",
        "  filter(!is.na(id_cbop)) %>%\n",
        "  group_by(id_jednostki, sek, wielk = klasa_pr, pkd = sekc_pkd, woj) %>%\n",
        "  summarise(odsetek = weighted.mean(jedna_zmiana, wolne_miejsca_cbop))"
      ],
      "execution_count": 16,
      "outputs": [
        {
          "output_type": "stream",
          "text": [
            "`summarise()` has grouped output by 'id_jednostki', 'sek', 'wielk', 'pkd'. You can override using the `.groups` argument.\n",
            "\n"
          ],
          "name": "stderr"
        }
      ]
    },
    {
      "cell_type": "code",
      "metadata": {
        "colab": {
          "base_uri": "https://localhost:8080/",
          "height": 52
        },
        "id": "TqWbCikF5cNb",
        "outputId": "1995d1de-3617-4fae-d5eb-64f26213149b"
      },
      "source": [
        "## liczebność próby losowej\n",
        "nrow(proba_losowa)\n",
        "\n",
        "## liczebnosć próby\n",
        "nrow(proba_nielosowa)"
      ],
      "execution_count": 17,
      "outputs": [
        {
          "output_type": "display_data",
          "data": {
            "text/plain": [
              "[1] 6523"
            ],
            "text/latex": "6523",
            "text/markdown": "6523",
            "text/html": [
              "6523"
            ]
          },
          "metadata": {
            "tags": []
          }
        },
        {
          "output_type": "display_data",
          "data": {
            "text/plain": [
              "[1] 9344"
            ],
            "text/latex": "9344",
            "text/markdown": "9344",
            "text/html": [
              "9344"
            ]
          },
          "metadata": {
            "tags": []
          }
        }
      ]
    },
    {
      "cell_type": "markdown",
      "metadata": {
        "id": "D4cnBABH5lzX"
      },
      "source": [
        "Łączymy dane w jeden zbiór danych"
      ]
    },
    {
      "cell_type": "code",
      "metadata": {
        "colab": {
          "base_uri": "https://localhost:8080/",
          "height": 275
        },
        "id": "ORmqPu745lZ_",
        "outputId": "912c7da5-5abe-4742-ac0a-d923778f8138"
      },
      "source": [
        "dane_estymacja <- bind_rows(\n",
        "  proba_nielosowa %>% \n",
        "      ungroup()  %>%\n",
        "      mutate(proba = 1, waga = 1, sek = factor(sek), woj = factor(woj)),\n",
        "  proba_losowa %>% \n",
        "    ungroup()  %>%\n",
        "    mutate(proba = 0, sek = factor(sek), woj = factor(woj))\n",
        ")\n",
        "\n",
        "head(dane_estymacja)"
      ],
      "execution_count": 165,
      "outputs": [
        {
          "output_type": "display_data",
          "data": {
            "text/plain": [
              "  id_jednostki                             sek wielk pkd woj odsetek proba waga\n",
              "1 000167228537c46b1b084e9c501b065ca42374ce 1   M     Q   8   1       1     1   \n",
              "2 0001d7cc2ffede0b1bde90bd4441d63fda57bcf0 2   M     G   12  0       1     1   \n",
              "3 000be1bfb49ae8082ef18d325c2ca6a7aeb0efe6 2   M     C   22  0       1     1   \n",
              "4 000f0546b2f54d82de8efd89612c2cb9e8728112 2   S     P   12  1       1     1   \n",
              "5 001a4ae4b2153adce49fa5a77825990cbd008419 2   D     G   24  0       1     1   \n",
              "6 0022b78360fff23fb836b05a93cffafa1d951593 2   D     N   4   0       1     1   "
            ],
            "text/latex": "A tibble: 6 × 8\n\\begin{tabular}{llllllll}\n id\\_jednostki & sek & wielk & pkd & woj & odsetek & proba & waga\\\\\n <chr> & <fct> & <chr> & <chr> & <fct> & <dbl> & <dbl> & <dbl>\\\\\n\\hline\n\t 000167228537c46b1b084e9c501b065ca42374ce & 1 & M & Q & 8  & 1 & 1 & 1\\\\\n\t 0001d7cc2ffede0b1bde90bd4441d63fda57bcf0 & 2 & M & G & 12 & 0 & 1 & 1\\\\\n\t 000be1bfb49ae8082ef18d325c2ca6a7aeb0efe6 & 2 & M & C & 22 & 0 & 1 & 1\\\\\n\t 000f0546b2f54d82de8efd89612c2cb9e8728112 & 2 & S & P & 12 & 1 & 1 & 1\\\\\n\t 001a4ae4b2153adce49fa5a77825990cbd008419 & 2 & D & G & 24 & 0 & 1 & 1\\\\\n\t 0022b78360fff23fb836b05a93cffafa1d951593 & 2 & D & N & 4  & 0 & 1 & 1\\\\\n\\end{tabular}\n",
            "text/markdown": "\nA tibble: 6 × 8\n\n| id_jednostki &lt;chr&gt; | sek &lt;fct&gt; | wielk &lt;chr&gt; | pkd &lt;chr&gt; | woj &lt;fct&gt; | odsetek &lt;dbl&gt; | proba &lt;dbl&gt; | waga &lt;dbl&gt; |\n|---|---|---|---|---|---|---|---|\n| 000167228537c46b1b084e9c501b065ca42374ce | 1 | M | Q | 8  | 1 | 1 | 1 |\n| 0001d7cc2ffede0b1bde90bd4441d63fda57bcf0 | 2 | M | G | 12 | 0 | 1 | 1 |\n| 000be1bfb49ae8082ef18d325c2ca6a7aeb0efe6 | 2 | M | C | 22 | 0 | 1 | 1 |\n| 000f0546b2f54d82de8efd89612c2cb9e8728112 | 2 | S | P | 12 | 1 | 1 | 1 |\n| 001a4ae4b2153adce49fa5a77825990cbd008419 | 2 | D | G | 24 | 0 | 1 | 1 |\n| 0022b78360fff23fb836b05a93cffafa1d951593 | 2 | D | N | 4  | 0 | 1 | 1 |\n\n",
            "text/html": [
              "<table class=\"dataframe\">\n",
              "<caption>A tibble: 6 × 8</caption>\n",
              "<thead>\n",
              "\t<tr><th scope=col>id_jednostki</th><th scope=col>sek</th><th scope=col>wielk</th><th scope=col>pkd</th><th scope=col>woj</th><th scope=col>odsetek</th><th scope=col>proba</th><th scope=col>waga</th></tr>\n",
              "\t<tr><th scope=col>&lt;chr&gt;</th><th scope=col>&lt;fct&gt;</th><th scope=col>&lt;chr&gt;</th><th scope=col>&lt;chr&gt;</th><th scope=col>&lt;fct&gt;</th><th scope=col>&lt;dbl&gt;</th><th scope=col>&lt;dbl&gt;</th><th scope=col>&lt;dbl&gt;</th></tr>\n",
              "</thead>\n",
              "<tbody>\n",
              "\t<tr><td>000167228537c46b1b084e9c501b065ca42374ce</td><td>1</td><td>M</td><td>Q</td><td>8 </td><td>1</td><td>1</td><td>1</td></tr>\n",
              "\t<tr><td>0001d7cc2ffede0b1bde90bd4441d63fda57bcf0</td><td>2</td><td>M</td><td>G</td><td>12</td><td>0</td><td>1</td><td>1</td></tr>\n",
              "\t<tr><td>000be1bfb49ae8082ef18d325c2ca6a7aeb0efe6</td><td>2</td><td>M</td><td>C</td><td>22</td><td>0</td><td>1</td><td>1</td></tr>\n",
              "\t<tr><td>000f0546b2f54d82de8efd89612c2cb9e8728112</td><td>2</td><td>S</td><td>P</td><td>12</td><td>1</td><td>1</td><td>1</td></tr>\n",
              "\t<tr><td>001a4ae4b2153adce49fa5a77825990cbd008419</td><td>2</td><td>D</td><td>G</td><td>24</td><td>0</td><td>1</td><td>1</td></tr>\n",
              "\t<tr><td>0022b78360fff23fb836b05a93cffafa1d951593</td><td>2</td><td>D</td><td>N</td><td>4 </td><td>0</td><td>1</td><td>1</td></tr>\n",
              "</tbody>\n",
              "</table>\n"
            ]
          },
          "metadata": {
            "tags": []
          }
        }
      ]
    },
    {
      "cell_type": "markdown",
      "metadata": {
        "id": "dUK88VyUyb0A"
      },
      "source": [
        "## Metodyka\n",
        "\n",
        "### Funkcja wiarygodności \n",
        "\n",
        "W skrócie, Chen, Li i Wu (2020) zaproponowali następującą logarytm pseudo-funkcji wiarygodności:\n",
        "\n",
        "$$\n",
        "\\log L^* = \\sum_{i \\in S_A} \\mathbf{x}_i^T \\mathbf{\\theta} - \\sum_{i \\in S_B} d_i^B \\log \\{ 1 + \\exp(\\mathbf{x}_i^T \\mathbf{\\theta}) \\},\n",
        "$$\n",
        "\n",
        "gdzie $S_A$ to próba nielosowa, $S_B$ to próba losowa, $\\mathbf{x}_i$ to wektor zmiennych, które wykorzystujemy w modelu, $\\mathbf{\\theta}$ to wektor parametrów funkcji *propensity score* (w tym przypadku zastosowano regresję logistyczną; uwaga: powyższa funkcja jest wynikiem przeksztalceń dlatego nigdzie nie ma standardowego zapisu $\\exp(\\mathbf{x}_i^T \\mathbf{\\theta})/(1 + \\exp(\\mathbf{x}_i^T \\mathbf{\\theta}))$), $d_i^B$ to wagi wynikajace z losowania (lub wagi finalne) przypisane każdej jednostce $i$ w próbie losowej.\n",
        "\n",
        "Aby znaleźć wektor parametrów $\\mathbf{\\theta}$, który maksymalizuje $\\log L^*$ należy albo zastosować procedurę optymalizacyjną albo rozwiązać następujący układ równań (tzw. score equations):\n",
        "\n",
        "$$\n",
        "U(\\mathbf{\\theta}) = \\frac{\\partial \\log L^*(\\mathbf{\\theta})}{\\partial \\mathbf{\\theta}} = \\sum_{i \\in S_A} \\mathbf{x}_i - \\sum_{i \\in S_B} d_i^B \\pi(\\mathbf{x}_i, \\mathbf{\\theta})\\mathbf{x}_i,\n",
        "$$\n",
        "\n",
        "gdzie $\\pi(\\mathbf{x}_i, \\mathbf{\\theta}) = \\exp(\\mathbf{x}_i^T \\mathbf{\\theta})/(1 + \\exp(\\mathbf{x}_i^T \\mathbf{\\theta}))$. \n",
        "\n",
        "Powyższy układ równań możemy rozwiązać funkcją `rootSolve::multiroot`.\n",
        "\n",
        "### Estymator IPW\n",
        "\n",
        "Po uzyskaniu oszacowań (\\hat{\\mathbf{\\theta})}) wyznaczamy ocenę estymatora *inverse probability weighted regression* (IPW) dany wzorem\n",
        "\n",
        "$$\n",
        "\\hat{\\mu}_{IPW1} = \\frac{1}{N} \\sum_{i \\in S_A}\\frac{y_i}{\\hat{\\pi}_i^A},\n",
        "$$\n",
        "\n",
        "oraz\n",
        "\n",
        "$$\n",
        "\\hat{\\mu}_{IPW2} = \\frac{1}{\\hat{N}} \\sum_{i \\in S_A}\\frac{y_i}{\\hat{\\pi}_i^A},\n",
        "$$\n",
        "\n",
        "gdzie $\\hat{N} = \\sum_{i \\in S_A} (\\hat{\\pi}_i^A)^{-1}$.\n",
        "\n",
        "\n",
        "### Estymacja wariancji IPW2\n",
        "\n",
        "Chen, Li i Wu (2020) wykazali, że wariancja estymatora IPW2 dany jest wzorem\n",
        "\n",
        "\\begin{equation}\n",
        "V_{\\mathrm{IPW} 2}=\\frac{1}{N^{2}} \\sum_{i=1}^{N}\\left(1-\\pi_{i}^{\\mathrm{A}}\\right) \\pi_{i}^{\\mathrm{A}}\\left(\\frac{y_{i}-\\mu_{y}}{\\pi_{i}^{\\mathrm{A}}}-\\mathbf{b}_{2}^{\\top} \\boldsymbol{x}_{i}\\right)^{2}+\\mathbf{b}_{2}^{\\top} \\mathbf{D} \\mathbf{b}_{2},\n",
        "\\end{equation}\n",
        "\n",
        "która w skrócie składa się z wariancji wynikajacej z próby nielosowej (przed symbolem +) oraz próby losowej (po symbolu +). Natomiast, w dalszej części wykazali, ze estymator ten można obliczyć następująco.\n",
        "\n",
        "\n",
        "1. Cześć dotycząca wariancji wynikajacej z próby nielosowej.\n",
        "\n",
        "\\begin{equation}\n",
        "\\frac{1}{N^{2}} \\sum_{i \\in \\mathcal{S}_{\\mathrm{A}}}\\left(1-\\hat{\\pi}_{i}^{\\mathrm{A}}\\right)\\left(\\frac{y_{i}-\\hat{\\mu}_{\\mathrm{IPW} 2}}{\\hat{\\pi}_{i}^{\\mathrm{A}}}-\\hat{\\mathbf{b}}_{2}^{\\top} \\boldsymbol{x}_{i}\\right)^{2},\n",
        "\\end{equation}\n",
        "\n",
        "gdzie \n",
        "\n",
        "\\begin{equation}\n",
        "\\begin{aligned} \n",
        "\\hat{\\mathbf{b}}_{2}^{\\top}=&\\left\\{\\sum_{i \\in \\mathcal{S}_{\\mathrm{A}}}\\left(\\frac{1}{\\hat{\\pi}_{i}^{\\mathrm{A}}}-1\\right)\\left(y_{i}-\\hat{\\mu}_{\\mathrm{IPW} 2}\\right) \\boldsymbol{x}_{i}^{\\top}\\right\\} \\times\\left\\{\\sum_{i \\in \\mathcal{S}_{\\mathrm{B}}} d_{i}^{\\mathrm{B}} \\hat{\\pi}_{i}^{\\mathrm{A}}\\left(1-\\hat{\\pi}_{i}^{\\mathrm{A}}\\right) \\boldsymbol{x}_{i} \\boldsymbol{x}_{i}^{\\top}\\right\\}^{-1} \n",
        "\\end{aligned}\n",
        "\\end{equation}\n",
        "\n",
        "2. Cześć wariancji wynikajaca z próby losowej (to wariancja wynikająca ze schematu losowania).\n",
        "\n",
        "\\begin{equation}\n",
        "\\hat{\\mathbf{D}}=\\frac{1}{N^{2}} \\sum_{i \\in \\mathcal{S}_{\\mathrm{B}} j \\in \\mathcal{S}_{\\mathrm{B}}} \\frac{\\pi_{i j}^{\\mathrm{B}}-\\pi_{i}^{\\mathrm{B}} \\pi_{j}^{\\mathrm{B}}}{\\pi_{i j}^{\\mathrm{B}}} \\frac{\\hat{\\pi}_{i}^{\\mathrm{A}}}{\\pi_{i}^{\\mathrm{B}}} \\frac{\\hat{\\pi}_{j}^{\\mathrm{A}}}{\\pi_{j}^{\\mathrm{B}}} \\boldsymbol{x}_{i} \\boldsymbol{x}_{j}^{\\top}\n",
        "\\end{equation}\n",
        "\n"
      ]
    },
    {
      "cell_type": "markdown",
      "metadata": {
        "id": "sF5038eD6Gxv"
      },
      "source": [
        "## Implementacja\n",
        "\n",
        "Musimy rozwiązać następujacy układ równań:\n",
        "\n",
        "$$\n",
        "U(\\mathbf{\\theta}) = \\frac{\\partial \\log L^*(\\mathbf{\\theta})}{\\partial \\mathbf{\\theta}} = \\sum_{i \\in S_A} \\mathbf{x}_i - \\sum_{i \\in S_B} d_i^B \\pi(\\mathbf{x}_i, \\mathbf{\\theta})\\mathbf{x}_i.\n",
        "$$\n",
        "\n",
        "Oznacza to, że:\n",
        "\n",
        "1. musimy określić zmienne $x$,\n",
        "2. napisać funkcję, która przyjmie następujące parametry: $\\theta$, $\\mathbf{x}$ oraz $d$,\n",
        "3. musimy również określić punkty startowe tj. $\\theta_0$. W tym celu skorzystamy z funkcji `glm`,\n",
        "4. do rozwiązania tego układu potrzebujemy funkcji `multiroot` z pakietu `rootSolve`.\n",
        "\n",
        "Propozycja funkcji\n",
        "\n",
        "```\n",
        "propensity_score_Chen_Li_Wu_grad <- function(theta, x_a, x_b, d_b) {\n",
        "\n",
        "  rho <- exp(x_b %*% theta) / (1 + exp(x_b %*% theta))\n",
        "  \n",
        "  ll_grad <- colSums(x_a) - colSums(d*rho*x_b)\n",
        "\n",
        "  return(ll_grad)\n",
        "}\n",
        "```\n",
        "\n",
        "Uwaga: macierze $x_a$ i $x_b$ będą macierzami rzadkimi (dużo zer, mało jedynek) dlatego warto rozważyć użycie wbudowanego pakietu `Matrix`.\n"
      ]
    },
    {
      "cell_type": "markdown",
      "metadata": {
        "id": "k4tBJ0bZFsJA"
      },
      "source": [
        "Określamy punkty startowe wykorzystując funkcję `glm`. Ta funkcja posłuży również do określenia argumentów naszej funkcji tj. `x_a` i `x_b`."
      ]
    },
    {
      "cell_type": "code",
      "metadata": {
        "colab": {
          "base_uri": "https://localhost:8080/",
          "height": 933
        },
        "id": "NSex1BV81oH8",
        "outputId": "b1386934-aaba-46ca-d9cf-1553286c87f0"
      },
      "source": [
        "m1 <- glm(proba ~ woj + wielk + sek + pkd, dane_estymacja, family = binomial, weights = waga)\n",
        "summary(m1)"
      ],
      "execution_count": 168,
      "outputs": [
        {
          "output_type": "display_data",
          "data": {
            "text/plain": [
              "\n",
              "Call:\n",
              "glm(formula = proba ~ woj + wielk + sek + pkd, family = binomial, \n",
              "    data = dane_estymacja, weights = waga)\n",
              "\n",
              "Deviance Residuals: \n",
              "     Min        1Q    Median        3Q       Max  \n",
              "-15.1136   -0.7098    1.5266    1.9084    2.7246  \n",
              "\n",
              "Coefficients:\n",
              "            Estimate Std. Error z value Pr(>|z|)    \n",
              "(Intercept) -1.13143    0.07012 -16.135  < 2e-16 ***\n",
              "woj4         0.59290    0.06493   9.131  < 2e-16 ***\n",
              "woj6         0.22225    0.06806   3.265 0.001093 ** \n",
              "woj8         0.08578    0.08501   1.009 0.312927    \n",
              "woj10       -0.10920    0.06162  -1.772 0.076382 .  \n",
              "woj12       -0.44348    0.05809  -7.634 2.27e-14 ***\n",
              "woj14       -0.66321    0.05202 -12.750  < 2e-16 ***\n",
              "woj16        0.54342    0.07945   6.840 7.93e-12 ***\n",
              "woj18        0.77734    0.06490  11.978  < 2e-16 ***\n",
              "woj20        0.17500    0.08781   1.993 0.046274 *  \n",
              "woj22       -0.01320    0.05762  -0.229 0.818800    \n",
              "woj24       -0.29648    0.05255  -5.641 1.69e-08 ***\n",
              "woj26        0.16736    0.08088   2.069 0.038522 *  \n",
              "woj28        0.41230    0.06452   6.390 1.66e-10 ***\n",
              "woj30       -0.45434    0.05700  -7.971 1.57e-15 ***\n",
              "woj32        0.23648    0.06581   3.593 0.000327 ***\n",
              "wielkM      -0.74697    0.03293 -22.686  < 2e-16 ***\n",
              "wielkS      -0.23290    0.03202  -7.273 3.52e-13 ***\n",
              "sek2         0.05738    0.05480   1.047 0.295114    \n",
              "pkdD.E       0.50407    0.09044   5.573 2.50e-08 ***\n",
              "pkdF        -0.30484    0.04120  -7.399 1.37e-13 ***\n",
              "pkdG        -0.26197    0.03617  -7.243 4.39e-13 ***\n",
              "pkdH        -0.49830    0.05784  -8.615  < 2e-16 ***\n",
              "pkdI         0.30314    0.05435   5.578 2.43e-08 ***\n",
              "pkdJ        -1.20278    0.13482  -8.921  < 2e-16 ***\n",
              "pkdK.L       0.06053    0.07611   0.795 0.426429    \n",
              "pkdM        -0.31623    0.06571  -4.812 1.49e-06 ***\n",
              "pkdN         0.51655    0.06207   8.322  < 2e-16 ***\n",
              "pkdO        -0.47476    0.09023  -5.262 1.43e-07 ***\n",
              "pkdP         0.76149    0.06874  11.078  < 2e-16 ***\n",
              "pkdQ         0.23515    0.06395   3.677 0.000236 ***\n",
              "pkdR.S       0.18383    0.06692   2.747 0.006018 ** \n",
              "---\n",
              "Signif. codes:  0 ‘***’ 0.001 ‘**’ 0.01 ‘*’ 0.05 ‘.’ 0.1 ‘ ’ 1\n",
              "\n",
              "(Dispersion parameter for binomial family taken to be 1)\n",
              "\n",
              "    Null deviance: 52310  on 15866  degrees of freedom\n",
              "Residual deviance: 49108  on 15835  degrees of freedom\n",
              "AIC: 49172\n",
              "\n",
              "Number of Fisher Scoring iterations: 6\n"
            ]
          },
          "metadata": {
            "tags": []
          }
        }
      ]
    },
    {
      "cell_type": "markdown",
      "metadata": {
        "id": "a2emCg_YF55l"
      },
      "source": [
        "Skorzystamy z obiektu `m1` i wywołamy w poniższym kodzie dwie funkcje `model.matrix` (zwróci macierz $\\mathbf{X}$ dla obydwu zbiorów) oraz `coef`, która zwróci wektor parametrów z powyższego rozwiązania."
      ]
    },
    {
      "cell_type": "code",
      "metadata": {
        "colab": {
          "base_uri": "https://localhost:8080/"
        },
        "id": "kVL2pHH19M02",
        "outputId": "fc51b423-9e87-4c90-b128-c5475fe2d765"
      },
      "source": [
        "X <- model.matrix(m1) ## wyciągamy macierz X z obiektu m1\n",
        "X_a <- X[dane_estymacja$proba == 1, ]\n",
        "X_b <- X[dane_estymacja$proba == 0, ]\n",
        "d_b <- dane_estymacja$waga[dane_estymacja$proba == 0] ## waga tylko dla tych rekordów z próby nielosowej\n",
        "theta_0 <- coef(m1) ## parametry startowe\n",
        "print(theta_0)"
      ],
      "execution_count": 169,
      "outputs": [
        {
          "output_type": "stream",
          "text": [
            "(Intercept)        woj4        woj6        woj8       woj10       woj12 \n",
            "-1.13143144  0.59290290  0.22225067  0.08578418 -0.10919791 -0.44347549 \n",
            "      woj14       woj16       woj18       woj20       woj22       woj24 \n",
            "-0.66320954  0.54342174  0.77734499  0.17499654 -0.01320078 -0.29648025 \n",
            "      woj26       woj28       woj30       woj32      wielkM      wielkS \n",
            " 0.16736498  0.41229717 -0.45433993  0.23647663 -0.74697007 -0.23289845 \n",
            "       sek2      pkdD.E        pkdF        pkdG        pkdH        pkdI \n",
            " 0.05737559  0.50407033 -0.30484161 -0.26197458 -0.49829949  0.30314176 \n",
            "       pkdJ      pkdK.L        pkdM        pkdN        pkdO        pkdP \n",
            "-1.20277711  0.06052943 -0.31623204  0.51655442 -0.47475660  0.76149170 \n",
            "       pkdQ      pkdR.S \n",
            " 0.23515286  0.18382817 \n"
          ],
          "name": "stdout"
        }
      ]
    },
    {
      "cell_type": "code",
      "metadata": {
        "id": "M-93He9s9sJb"
      },
      "source": [
        "propensity_score_Chen_Li_Wu_grad <- function(theta, x_a, x_b, d_b) {\n",
        " \n",
        "  rho <- as.numeric(exp(x_b %*% theta) / (1 + exp(x_b %*% theta)))\n",
        " \n",
        "  ll_grad <- colSums(x_a) - colSums(d_b*rho*x_b)\n",
        " \n",
        "  return(ll_grad)\n",
        "}\n"
      ],
      "execution_count": 170,
      "outputs": []
    },
    {
      "cell_type": "markdown",
      "metadata": {
        "id": "-djk8T7IGTax"
      },
      "source": [
        "Sprawdzmy jak daleko od zera są punkty startowe z obiektu `theta_0`."
      ]
    },
    {
      "cell_type": "code",
      "metadata": {
        "colab": {
          "base_uri": "https://localhost:8080/"
        },
        "id": "uGwIslTJBDmu",
        "outputId": "0fc03c6c-2ef7-4093-b769-0e6b17f4fb53"
      },
      "source": [
        "print(\n",
        "  propensity_score_Chen_Li_Wu_grad(theta_0, X_a, X_b, d_b)\n",
        ")"
      ],
      "execution_count": 171,
      "outputs": [
        {
          "output_type": "stream",
          "text": [
            "(Intercept)        woj4        woj6        woj8       woj10       woj12 \n",
            "1875.512004  174.012954  104.016860   49.875420  100.292608   90.207448 \n",
            "      woj14       woj16       woj18       woj20       woj22       woj24 \n",
            " 134.169330   89.113284  191.146572   49.048079  151.190522  159.245438 \n",
            "      woj26       woj28       woj30       woj32      wielkM      wielkS \n",
            "  56.020906  134.746546   97.247294  120.958287  504.538395  684.040271 \n",
            "       sek2      pkdD.E        pkdF        pkdG        pkdH        pkdI \n",
            "1473.251074   67.737457  170.633843  289.727696   56.221557  132.361289 \n",
            "       pkdJ      pkdK.L        pkdM        pkdN        pkdO        pkdP \n",
            "   3.717895   52.580060   41.109803  132.376037   44.435993  228.586429 \n",
            "       pkdQ      pkdR.S \n",
            " 141.576530   66.314641 \n"
          ],
          "name": "stdout"
        }
      ]
    },
    {
      "cell_type": "markdown",
      "metadata": {
        "id": "0p7cDPfz-NFs"
      },
      "source": [
        "Rozwiązujemy układ równań $U(\\mathbf{\\theta}) = \\mathbf{0}$. Funkcja `multiroot` zwraca listę z następującymi argumentami \n",
        "\n",
        "+ `root` -- wektor parametrów $\\hat{\\mathbf{\\theta}}$, który spełnia równianie $U(\\hat{\\mathbf{\\theta}}) \\approx \\mathbf{0}$,\n",
        "+ `f.root` -- jak blisko wartości zero jesteśmy,\n",
        "+ `iter` -- po ilu iteracjach dochodzimy do celu"
      ]
    },
    {
      "cell_type": "code",
      "metadata": {
        "colab": {
          "base_uri": "https://localhost:8080/"
        },
        "id": "sPfS4UE_CF5S",
        "outputId": "edfdd867-5c5d-48c8-b59f-7759ff113519"
      },
      "source": [
        "rsolve_res <- multiroot(f = propensity_score_Chen_Li_Wu_grad, \n",
        "                        start = theta_0, \n",
        "                        x_a = X_a, x_b = X_b, d_b = d_b)\n",
        "print(rsolve_res)"
      ],
      "execution_count": 172,
      "outputs": [
        {
          "output_type": "stream",
          "text": [
            "$root\n",
            "(Intercept)        woj4        woj6        woj8       woj10       woj12 \n",
            "-0.65277121  0.83779550  0.19953188  0.10479761 -0.15756693 -0.60987005 \n",
            "      woj14       woj16       woj18       woj20       woj22       woj24 \n",
            "-0.84150300  0.76385615  1.17810496  0.22251032 -0.03753066 -0.40670702 \n",
            "      woj26       woj28       woj30       woj32      wielkM      wielkS \n",
            " 0.20287478  0.57862243 -0.61021662  0.32742204 -1.02915884 -0.36412124 \n",
            "       sek2      pkdD.E        pkdF        pkdG        pkdH        pkdI \n",
            " 0.05899377  0.77273741 -0.37783229 -0.33370352 -0.65174566  0.41179116 \n",
            "       pkdJ      pkdK.L        pkdM        pkdN        pkdO        pkdP \n",
            "-1.42637011  0.06171389 -0.40677813  0.80034162 -0.69354695  1.25095429 \n",
            "       pkdQ      pkdR.S \n",
            " 0.30286775  0.22227967 \n",
            "\n",
            "$f.root\n",
            "  (Intercept)          woj4          woj6          woj8         woj10 \n",
            "-1.818989e-12 -2.273737e-13  5.684342e-14  0.000000e+00  1.136868e-13 \n",
            "        woj12         woj14         woj16         woj18         woj20 \n",
            " 0.000000e+00 -2.273737e-13  5.684342e-14  0.000000e+00  0.000000e+00 \n",
            "        woj22         woj24         woj26         woj28         woj30 \n",
            "-1.136868e-13  2.273737e-13  0.000000e+00  1.136868e-13  0.000000e+00 \n",
            "        woj32        wielkM        wielkS          sek2        pkdD.E \n",
            " 0.000000e+00  4.547474e-13  4.547474e-13  9.094947e-13  0.000000e+00 \n",
            "         pkdF          pkdG          pkdH          pkdI          pkdJ \n",
            "-2.273737e-13  0.000000e+00  5.684342e-14  1.136868e-13 -1.421085e-14 \n",
            "       pkdK.L          pkdM          pkdN          pkdO          pkdP \n",
            " 2.842171e-14  0.000000e+00  5.684342e-14  0.000000e+00  0.000000e+00 \n",
            "         pkdQ        pkdR.S \n",
            " 0.000000e+00  5.684342e-14 \n",
            "\n",
            "$iter\n",
            "[1] 5\n",
            "\n",
            "$estim.precis\n",
            "[1] 1.665335e-13\n",
            "\n"
          ],
          "name": "stdout"
        }
      ]
    },
    {
      "cell_type": "markdown",
      "metadata": {
        "id": "xGtYxkV9G1KO"
      },
      "source": [
        "Wyznaczmy oszacowanie błędów standardowych dla wektora $\\hat{\\mathbf{\\theta}}$ wykorzystując funkcję `rootSolve::gradient`."
      ]
    },
    {
      "cell_type": "code",
      "metadata": {
        "colab": {
          "base_uri": "https://localhost:8080/",
          "height": 1000
        },
        "id": "Av6A5CeLDAet",
        "outputId": "1b3ec9a3-7809-46a7-f31b-61e7dedc58dd"
      },
      "source": [
        "solve_grad <- rootSolve::gradient(f = propensity_score_Chen_Li_Wu_grad, \n",
        "                                  x = rsolve_res$root, \n",
        "                                  x_a = X_a, x_b = X_b, d_b = d_b)\n",
        "\n",
        "theta_se <- sqrt(abs(diag(solve(solve_grad))))\n",
        "\n",
        "data.frame(theta = rsolve_res$root, theta_se = theta_se, t_value = rsolve_res$root/theta_se)"
      ],
      "execution_count": 173,
      "outputs": [
        {
          "output_type": "display_data",
          "data": {
            "text/plain": [
              "            theta       theta_se   t_value    \n",
              "(Intercept) -0.65277121 0.07497595  -8.7064080\n",
              "woj4         0.83779550 0.07121158  11.7648778\n",
              "woj6         0.19953188 0.07245355   2.7539281\n",
              "woj8         0.10479761 0.08910929   1.1760570\n",
              "woj10       -0.15756693 0.06407774  -2.4589962\n",
              "woj12       -0.60987005 0.06029341 -10.1150366\n",
              "woj14       -0.84150300 0.05418685 -15.5296526\n",
              "woj16        0.76385615 0.08659560   8.8209582\n",
              "woj18        1.17810496 0.07142034  16.4953714\n",
              "woj20        0.22251032 0.09260510   2.4027870\n",
              "woj22       -0.03753066 0.06039488  -0.6214213\n",
              "woj24       -0.40670702 0.05473740  -7.4301483\n",
              "woj26        0.20287478 0.08488761   2.3899222\n",
              "woj28        0.57862243 0.06796628   8.5133752\n",
              "woj30       -0.61021662 0.05908176 -10.3283418\n",
              "woj32        0.32742204 0.06957406   4.7060935\n",
              "wielkM      -1.02915884 0.03504195 -29.3693357\n",
              "wielkS      -0.36412124 0.03443592 -10.5738800\n",
              "sek2         0.05899377 0.05879932   1.0033071\n",
              "pkdD.E       0.77273741 0.10033190   7.7018119\n",
              "pkdF        -0.37783229 0.04270698  -8.8470856\n",
              "pkdG        -0.33370352 0.03788038  -8.8094034\n",
              "pkdH        -0.65174566 0.05977390 -10.9035157\n",
              "pkdI         0.41179116 0.05726196   7.1913569\n",
              "pkdJ        -1.42637011 0.13621939 -10.4711241\n",
              "pkdK.L       0.06171389 0.07981254   0.7732354\n",
              "pkdM        -0.40677813 0.06741450  -6.0339855\n",
              "pkdN         0.80034162 0.06732638  11.8874895\n",
              "pkdO        -0.69354695 0.09460427  -7.3310324\n",
              "pkdP         1.25095429 0.07646979  16.3588037\n",
              "pkdQ         0.30286775 0.06799051   4.4545591\n",
              "pkdR.S       0.22227967 0.06974639   3.1869703"
            ],
            "text/latex": "A data.frame: 32 × 3\n\\begin{tabular}{r|lll}\n  & theta & theta\\_se & t\\_value\\\\\n  & <dbl> & <dbl> & <dbl>\\\\\n\\hline\n\t(Intercept) & -0.65277121 & 0.07497595 &  -8.7064080\\\\\n\twoj4 &  0.83779550 & 0.07121158 &  11.7648778\\\\\n\twoj6 &  0.19953188 & 0.07245355 &   2.7539281\\\\\n\twoj8 &  0.10479761 & 0.08910929 &   1.1760570\\\\\n\twoj10 & -0.15756693 & 0.06407774 &  -2.4589962\\\\\n\twoj12 & -0.60987005 & 0.06029341 & -10.1150366\\\\\n\twoj14 & -0.84150300 & 0.05418685 & -15.5296526\\\\\n\twoj16 &  0.76385615 & 0.08659560 &   8.8209582\\\\\n\twoj18 &  1.17810496 & 0.07142034 &  16.4953714\\\\\n\twoj20 &  0.22251032 & 0.09260510 &   2.4027870\\\\\n\twoj22 & -0.03753066 & 0.06039488 &  -0.6214213\\\\\n\twoj24 & -0.40670702 & 0.05473740 &  -7.4301483\\\\\n\twoj26 &  0.20287478 & 0.08488761 &   2.3899222\\\\\n\twoj28 &  0.57862243 & 0.06796628 &   8.5133752\\\\\n\twoj30 & -0.61021662 & 0.05908176 & -10.3283418\\\\\n\twoj32 &  0.32742204 & 0.06957406 &   4.7060935\\\\\n\twielkM & -1.02915884 & 0.03504195 & -29.3693357\\\\\n\twielkS & -0.36412124 & 0.03443592 & -10.5738800\\\\\n\tsek2 &  0.05899377 & 0.05879932 &   1.0033071\\\\\n\tpkdD.E &  0.77273741 & 0.10033190 &   7.7018119\\\\\n\tpkdF & -0.37783229 & 0.04270698 &  -8.8470856\\\\\n\tpkdG & -0.33370352 & 0.03788038 &  -8.8094034\\\\\n\tpkdH & -0.65174566 & 0.05977390 & -10.9035157\\\\\n\tpkdI &  0.41179116 & 0.05726196 &   7.1913569\\\\\n\tpkdJ & -1.42637011 & 0.13621939 & -10.4711241\\\\\n\tpkdK.L &  0.06171389 & 0.07981254 &   0.7732354\\\\\n\tpkdM & -0.40677813 & 0.06741450 &  -6.0339855\\\\\n\tpkdN &  0.80034162 & 0.06732638 &  11.8874895\\\\\n\tpkdO & -0.69354695 & 0.09460427 &  -7.3310324\\\\\n\tpkdP &  1.25095429 & 0.07646979 &  16.3588037\\\\\n\tpkdQ &  0.30286775 & 0.06799051 &   4.4545591\\\\\n\tpkdR.S &  0.22227967 & 0.06974639 &   3.1869703\\\\\n\\end{tabular}\n",
            "text/markdown": "\nA data.frame: 32 × 3\n\n| <!--/--> | theta &lt;dbl&gt; | theta_se &lt;dbl&gt; | t_value &lt;dbl&gt; |\n|---|---|---|---|\n| (Intercept) | -0.65277121 | 0.07497595 |  -8.7064080 |\n| woj4 |  0.83779550 | 0.07121158 |  11.7648778 |\n| woj6 |  0.19953188 | 0.07245355 |   2.7539281 |\n| woj8 |  0.10479761 | 0.08910929 |   1.1760570 |\n| woj10 | -0.15756693 | 0.06407774 |  -2.4589962 |\n| woj12 | -0.60987005 | 0.06029341 | -10.1150366 |\n| woj14 | -0.84150300 | 0.05418685 | -15.5296526 |\n| woj16 |  0.76385615 | 0.08659560 |   8.8209582 |\n| woj18 |  1.17810496 | 0.07142034 |  16.4953714 |\n| woj20 |  0.22251032 | 0.09260510 |   2.4027870 |\n| woj22 | -0.03753066 | 0.06039488 |  -0.6214213 |\n| woj24 | -0.40670702 | 0.05473740 |  -7.4301483 |\n| woj26 |  0.20287478 | 0.08488761 |   2.3899222 |\n| woj28 |  0.57862243 | 0.06796628 |   8.5133752 |\n| woj30 | -0.61021662 | 0.05908176 | -10.3283418 |\n| woj32 |  0.32742204 | 0.06957406 |   4.7060935 |\n| wielkM | -1.02915884 | 0.03504195 | -29.3693357 |\n| wielkS | -0.36412124 | 0.03443592 | -10.5738800 |\n| sek2 |  0.05899377 | 0.05879932 |   1.0033071 |\n| pkdD.E |  0.77273741 | 0.10033190 |   7.7018119 |\n| pkdF | -0.37783229 | 0.04270698 |  -8.8470856 |\n| pkdG | -0.33370352 | 0.03788038 |  -8.8094034 |\n| pkdH | -0.65174566 | 0.05977390 | -10.9035157 |\n| pkdI |  0.41179116 | 0.05726196 |   7.1913569 |\n| pkdJ | -1.42637011 | 0.13621939 | -10.4711241 |\n| pkdK.L |  0.06171389 | 0.07981254 |   0.7732354 |\n| pkdM | -0.40677813 | 0.06741450 |  -6.0339855 |\n| pkdN |  0.80034162 | 0.06732638 |  11.8874895 |\n| pkdO | -0.69354695 | 0.09460427 |  -7.3310324 |\n| pkdP |  1.25095429 | 0.07646979 |  16.3588037 |\n| pkdQ |  0.30286775 | 0.06799051 |   4.4545591 |\n| pkdR.S |  0.22227967 | 0.06974639 |   3.1869703 |\n\n",
            "text/html": [
              "<table class=\"dataframe\">\n",
              "<caption>A data.frame: 32 × 3</caption>\n",
              "<thead>\n",
              "\t<tr><th></th><th scope=col>theta</th><th scope=col>theta_se</th><th scope=col>t_value</th></tr>\n",
              "\t<tr><th></th><th scope=col>&lt;dbl&gt;</th><th scope=col>&lt;dbl&gt;</th><th scope=col>&lt;dbl&gt;</th></tr>\n",
              "</thead>\n",
              "<tbody>\n",
              "\t<tr><th scope=row>(Intercept)</th><td>-0.65277121</td><td>0.07497595</td><td> -8.7064080</td></tr>\n",
              "\t<tr><th scope=row>woj4</th><td> 0.83779550</td><td>0.07121158</td><td> 11.7648778</td></tr>\n",
              "\t<tr><th scope=row>woj6</th><td> 0.19953188</td><td>0.07245355</td><td>  2.7539281</td></tr>\n",
              "\t<tr><th scope=row>woj8</th><td> 0.10479761</td><td>0.08910929</td><td>  1.1760570</td></tr>\n",
              "\t<tr><th scope=row>woj10</th><td>-0.15756693</td><td>0.06407774</td><td> -2.4589962</td></tr>\n",
              "\t<tr><th scope=row>woj12</th><td>-0.60987005</td><td>0.06029341</td><td>-10.1150366</td></tr>\n",
              "\t<tr><th scope=row>woj14</th><td>-0.84150300</td><td>0.05418685</td><td>-15.5296526</td></tr>\n",
              "\t<tr><th scope=row>woj16</th><td> 0.76385615</td><td>0.08659560</td><td>  8.8209582</td></tr>\n",
              "\t<tr><th scope=row>woj18</th><td> 1.17810496</td><td>0.07142034</td><td> 16.4953714</td></tr>\n",
              "\t<tr><th scope=row>woj20</th><td> 0.22251032</td><td>0.09260510</td><td>  2.4027870</td></tr>\n",
              "\t<tr><th scope=row>woj22</th><td>-0.03753066</td><td>0.06039488</td><td> -0.6214213</td></tr>\n",
              "\t<tr><th scope=row>woj24</th><td>-0.40670702</td><td>0.05473740</td><td> -7.4301483</td></tr>\n",
              "\t<tr><th scope=row>woj26</th><td> 0.20287478</td><td>0.08488761</td><td>  2.3899222</td></tr>\n",
              "\t<tr><th scope=row>woj28</th><td> 0.57862243</td><td>0.06796628</td><td>  8.5133752</td></tr>\n",
              "\t<tr><th scope=row>woj30</th><td>-0.61021662</td><td>0.05908176</td><td>-10.3283418</td></tr>\n",
              "\t<tr><th scope=row>woj32</th><td> 0.32742204</td><td>0.06957406</td><td>  4.7060935</td></tr>\n",
              "\t<tr><th scope=row>wielkM</th><td>-1.02915884</td><td>0.03504195</td><td>-29.3693357</td></tr>\n",
              "\t<tr><th scope=row>wielkS</th><td>-0.36412124</td><td>0.03443592</td><td>-10.5738800</td></tr>\n",
              "\t<tr><th scope=row>sek2</th><td> 0.05899377</td><td>0.05879932</td><td>  1.0033071</td></tr>\n",
              "\t<tr><th scope=row>pkdD.E</th><td> 0.77273741</td><td>0.10033190</td><td>  7.7018119</td></tr>\n",
              "\t<tr><th scope=row>pkdF</th><td>-0.37783229</td><td>0.04270698</td><td> -8.8470856</td></tr>\n",
              "\t<tr><th scope=row>pkdG</th><td>-0.33370352</td><td>0.03788038</td><td> -8.8094034</td></tr>\n",
              "\t<tr><th scope=row>pkdH</th><td>-0.65174566</td><td>0.05977390</td><td>-10.9035157</td></tr>\n",
              "\t<tr><th scope=row>pkdI</th><td> 0.41179116</td><td>0.05726196</td><td>  7.1913569</td></tr>\n",
              "\t<tr><th scope=row>pkdJ</th><td>-1.42637011</td><td>0.13621939</td><td>-10.4711241</td></tr>\n",
              "\t<tr><th scope=row>pkdK.L</th><td> 0.06171389</td><td>0.07981254</td><td>  0.7732354</td></tr>\n",
              "\t<tr><th scope=row>pkdM</th><td>-0.40677813</td><td>0.06741450</td><td> -6.0339855</td></tr>\n",
              "\t<tr><th scope=row>pkdN</th><td> 0.80034162</td><td>0.06732638</td><td> 11.8874895</td></tr>\n",
              "\t<tr><th scope=row>pkdO</th><td>-0.69354695</td><td>0.09460427</td><td> -7.3310324</td></tr>\n",
              "\t<tr><th scope=row>pkdP</th><td> 1.25095429</td><td>0.07646979</td><td> 16.3588037</td></tr>\n",
              "\t<tr><th scope=row>pkdQ</th><td> 0.30286775</td><td>0.06799051</td><td>  4.4545591</td></tr>\n",
              "\t<tr><th scope=row>pkdR.S</th><td> 0.22227967</td><td>0.06974639</td><td>  3.1869703</td></tr>\n",
              "</tbody>\n",
              "</table>\n"
            ]
          },
          "metadata": {
            "tags": []
          }
        }
      ]
    },
    {
      "cell_type": "markdown",
      "metadata": {
        "id": "DRdsK73-HW23"
      },
      "source": [
        "Dokonujemy estymacji wykorzystując wzór na IPW2."
      ]
    },
    {
      "cell_type": "code",
      "metadata": {
        "colab": {
          "base_uri": "https://localhost:8080/",
          "height": 143
        },
        "id": "MTsRfPPgEEDA",
        "outputId": "c2d6dc65-2877-436c-fc67-8353e72491dd"
      },
      "source": [
        "nielosowa <- dane_estymacja %>% filter(proba == 1)\n",
        "\n",
        "nielosowa <- nielosowa %>% \n",
        "    mutate(rho_Chen_Li_Wu = exp(as.numeric(X_a %*% rsolve_res$root))/(1 + exp(as.numeric(X_a %*% rsolve_res$root))),\n",
        "           waga_Chen_Li_Wu = 1/rho_Chen_Li_Wu) \n",
        "\n",
        "ipw2_estym <- nielosowa %>%\n",
        "  summarise(ipw2 = weighted.mean(odsetek, waga_Chen_Li_Wu))\n",
        "\n",
        "ipw2_estym"
      ],
      "execution_count": 175,
      "outputs": [
        {
          "output_type": "display_data",
          "data": {
            "text/plain": [
              "  ipw2     \n",
              "1 0.7215773"
            ],
            "text/latex": "A tibble: 1 × 1\n\\begin{tabular}{l}\n ipw2\\\\\n <dbl>\\\\\n\\hline\n\t 0.7215773\\\\\n\\end{tabular}\n",
            "text/markdown": "\nA tibble: 1 × 1\n\n| ipw2 &lt;dbl&gt; |\n|---|\n| 0.7215773 |\n\n",
            "text/html": [
              "<table class=\"dataframe\">\n",
              "<caption>A tibble: 1 × 1</caption>\n",
              "<thead>\n",
              "\t<tr><th scope=col>ipw2</th></tr>\n",
              "\t<tr><th scope=col>&lt;dbl&gt;</th></tr>\n",
              "</thead>\n",
              "<tbody>\n",
              "\t<tr><td>0.7215773</td></tr>\n",
              "</tbody>\n",
              "</table>\n"
            ]
          },
          "metadata": {
            "tags": []
          }
        }
      ]
    },
    {
      "cell_type": "markdown",
      "metadata": {
        "id": "zN7cH3CJIK_f"
      },
      "source": [
        "Interpretacja: wynik oznacza, że 72% wakatów dotyczy stanowisk na jedną zmianę."
      ]
    },
    {
      "cell_type": "markdown",
      "metadata": {
        "id": "Gp5DgUA5IbSK"
      },
      "source": [
        "### Estymacja wariancji\n",
        "\n",
        "Wariancja estymatora IPW2 wynikająca z próby nielosowej dana jest\n",
        "\n",
        "\\begin{equation}\n",
        "\\frac{1}{N^{2}} \\sum_{i \\in \\mathcal{S}_{\\mathrm{A}}}\\left(1-\\hat{\\pi}_{i}^{\\mathrm{A}}\\right)\\left(\\frac{y_{i}-\\hat{\\mu}_{\\mathrm{IPW} 2}}{\\hat{\\pi}_{i}^{\\mathrm{A}}}-\\hat{\\mathbf{b}}_{2}^{\\top} \\boldsymbol{x}_{i}\\right)^{2},\n",
        "\\end{equation}\n",
        "\n",
        "gdzie \n",
        "\n",
        "\\begin{equation}\n",
        "\\begin{aligned} \n",
        "\\hat{\\mathbf{b}}_{2}^{\\top}=&\\left\\{\\sum_{i \\in \\mathcal{S}_{\\mathrm{A}}}\\left(\\frac{1}{\\hat{\\pi}_{i}^{\\mathrm{A}}}-1\\right)\\left(y_{i}-\\hat{\\mu}_{\\mathrm{IPW} 2}\\right) \\boldsymbol{x}_{i}^{\\top}\\right\\} \\times\\left\\{\\sum_{i \\in \\mathcal{S}_{\\mathrm{B}}} d_{i}^{\\mathrm{B}} \\hat{\\pi}_{i}^{\\mathrm{A}}\\left(1-\\hat{\\pi}_{i}^{\\mathrm{A}}\\right) \\boldsymbol{x}_{i} \\boldsymbol{x}_{i}^{\\top}\\right\\}^{-1} \n",
        "\\end{aligned}\n",
        "\\end{equation}\n",
        "\n",
        "\n",
        "\n"
      ]
    },
    {
      "cell_type": "code",
      "metadata": {
        "id": "9M0xadFjKT0o"
      },
      "source": [
        ""
      ],
      "execution_count": null,
      "outputs": []
    }
  ]
}