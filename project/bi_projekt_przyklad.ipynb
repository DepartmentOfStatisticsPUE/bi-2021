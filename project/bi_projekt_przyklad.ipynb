{
  "nbformat": 4,
  "nbformat_minor": 0,
  "metadata": {
    "colab": {
      "name": "bi-projekt-przyklad.ipynb",
      "provenance": [],
      "collapsed_sections": [],
      "authorship_tag": "ABX9TyOgf4esI8PBItZm/I38BovB",
      "include_colab_link": true
    },
    "kernelspec": {
      "name": "ir",
      "display_name": "R"
    },
    "language_info": {
      "name": "R"
    }
  },
  "cells": [
    {
      "cell_type": "markdown",
      "metadata": {
        "id": "view-in-github",
        "colab_type": "text"
      },
      "source": [
        "<a href=\"https://colab.research.google.com/github/DepartmentOfStatisticsPUE/bi-2021/blob/main/project/bi_projekt_przyklad.ipynb\" target=\"_parent\"><img src=\"https://colab.research.google.com/assets/colab-badge.svg\" alt=\"Open In Colab\"/></a>"
      ]
    },
    {
      "cell_type": "markdown",
      "metadata": {
        "id": "iCJDhBwsOCBY"
      },
      "source": [
        "## Wstęp\n",
        "\n",
        "Na podstawie opisu zbiorów oraz zmiennych nie jestem w 100% pewien czy są Państwo pewni jak ma wyglądać projekt zaliczeniowy. \n",
        "\n",
        "W związku z tym postanowiłem przygotować krótki przykład jak ma wyglądać projekt. Szczegółowy opis znajdą Państwo na moodle, natomiast poniżej opisuję najważniejsze kroki:\n",
        "\n",
        "1. Wybrany zbiór danych traktujemy jako populację, dla której znamy rozkłady cech $X$ oraz $Y$.\n",
        "2. Wybieramy zmienne $X$ oraz $Y$ na potrzeby badania, zmiennych $X$ kilka i mieć różny charakter (jakościowe lub ilościowe). $Y$ powinna być jedna lub maksymalnie dwie. Sugeruję aby to była zmienna ilościowa, wyliczeniowa (rozkład Poissona) czy binarna.\n",
        "3. Następnie w zależności od metod(y) generujemy z populacji próbę nielosową (można na dwa sposoby, wyciągając np. próbę 10% obserwacji z górnej lub dolnej cześci rozkładu albo według modelu regresji logistycznej) i próbę losową (o ile jest potrzebna).\n",
        "4. Przeprowadzamy to losowanie $B$ razy, gdzie $B$ to liczba powtórzeń\n",
        "5. W każdym powtórzeniu stosujemy metodę/metody korekcji błędów dla prób nielosowych i sprawdzamy jak dobra jest dana metoda.\n",
        "\n",
        "## Opis przykładowego zadania\n",
        "\n",
        "W poniższym przykładzie skorzystam ze zbioru `diamonds` z pakietu `ggplot2`, który będę trakował jako populację. \n",
        "\n",
        "Moją zmienną celu będzie cena (`price`), a zmienymi objaśniającymi cięcie (`cut`) oraz kolor (`color`). Wybrałem dwie zmienne jakosciowe bo chcę zastosować post-stratyfikację z pakietu `survey`.\n",
        "\n",
        "Symulacja wygląda następująco:\n",
        "\n",
        "1. określam cenę dla całej populacji (wartość prawdziwa),\n",
        "2. generuję 100 razy próbę nielosową według następujacego schematu:\n",
        "    + probę o wielkosci 20% proporcjonalnie do ceny (im wyższa cena tym większe prawdopodobieństwo znalezienia się w próbie),\n",
        "3. w każdym przebiegu liczę dwa estymatory:\n",
        "    + naiwny -- bez żadnej korekty, zwykła średnia arytmentyczna,\n",
        "    + post-stratyfikacyjny -- według dwóch zmiennych określonych powyżej (`cut`, `color`),\n",
        "\n",
        "4. w każdym przebiegu zapisuję oszacowanie średniej ceny,\n",
        "5. po wykonaniu symulacji wyliczam:\n",
        "    + wartość oczekiwaną dla każdego estymatora,\n",
        "    + wariancję dla każdego estymatora,\n",
        "    + obciążenie dla każdego estymatora.\n",
        "\n",
        "Oczywiście w projekcie muszą Państwo opisać jak dobre są zmienne $X$ (korelacje) czy model, który chcecie zastosować (np. `R2`, `pseudoR2` dla regresji logistycznej) oraz zinterpretować wyniki. \n",
        "\n",
        "Ja w tym przykładzie wykonam tylko ćwiczenia aby pokazać jak należy do projektu podejść. **TO NIE JEST PROJEKT, KTÓRY DA PAŃSTWU ZALICZENIE** to tylko przykład. "
      ]
    },
    {
      "cell_type": "code",
      "metadata": {
        "id": "g_y0c-M9WToQ"
      },
      "source": [
        "install.packages(\"survey\")"
      ],
      "execution_count": null,
      "outputs": []
    },
    {
      "cell_type": "code",
      "metadata": {
        "colab": {
          "base_uri": "https://localhost:8080/",
          "height": 275
        },
        "id": "oRj1im3QN_6Y",
        "outputId": "6e91642c-94fc-449d-e765-97a7d8e40ecc"
      },
      "source": [
        "library(ggplot2)\n",
        "library(survey)\n",
        "data(diamonds)\n",
        "## sortujemy dane według ceny\n",
        "diamonds <- diamonds[order(-diamonds$price),]\n",
        "head(diamonds)"
      ],
      "execution_count": 12,
      "outputs": [
        {
          "output_type": "display_data",
          "data": {
            "text/plain": [
              "  carat cut       color clarity depth table price x    y    z   \n",
              "1 2.29  Premium   I     VS2     60.8  60    18823 8.50 8.47 5.16\n",
              "2 2.00  Very Good G     SI1     63.5  56    18818 7.90 7.97 5.04\n",
              "3 1.51  Ideal     G     IF      61.7  55    18806 7.37 7.41 4.56\n",
              "4 2.07  Ideal     G     SI2     62.5  55    18804 8.20 8.13 5.11\n",
              "5 2.00  Very Good H     SI1     62.8  57    18803 7.95 8.00 5.01\n",
              "6 2.29  Premium   I     SI1     61.8  59    18797 8.52 8.45 5.24"
            ],
            "text/latex": "A tibble: 6 × 10\n\\begin{tabular}{llllllllll}\n carat & cut & color & clarity & depth & table & price & x & y & z\\\\\n <dbl> & <ord> & <ord> & <ord> & <dbl> & <dbl> & <int> & <dbl> & <dbl> & <dbl>\\\\\n\\hline\n\t 2.29 & Premium   & I & VS2 & 60.8 & 60 & 18823 & 8.50 & 8.47 & 5.16\\\\\n\t 2.00 & Very Good & G & SI1 & 63.5 & 56 & 18818 & 7.90 & 7.97 & 5.04\\\\\n\t 1.51 & Ideal     & G & IF  & 61.7 & 55 & 18806 & 7.37 & 7.41 & 4.56\\\\\n\t 2.07 & Ideal     & G & SI2 & 62.5 & 55 & 18804 & 8.20 & 8.13 & 5.11\\\\\n\t 2.00 & Very Good & H & SI1 & 62.8 & 57 & 18803 & 7.95 & 8.00 & 5.01\\\\\n\t 2.29 & Premium   & I & SI1 & 61.8 & 59 & 18797 & 8.52 & 8.45 & 5.24\\\\\n\\end{tabular}\n",
            "text/markdown": "\nA tibble: 6 × 10\n\n| carat &lt;dbl&gt; | cut &lt;ord&gt; | color &lt;ord&gt; | clarity &lt;ord&gt; | depth &lt;dbl&gt; | table &lt;dbl&gt; | price &lt;int&gt; | x &lt;dbl&gt; | y &lt;dbl&gt; | z &lt;dbl&gt; |\n|---|---|---|---|---|---|---|---|---|---|\n| 2.29 | Premium   | I | VS2 | 60.8 | 60 | 18823 | 8.50 | 8.47 | 5.16 |\n| 2.00 | Very Good | G | SI1 | 63.5 | 56 | 18818 | 7.90 | 7.97 | 5.04 |\n| 1.51 | Ideal     | G | IF  | 61.7 | 55 | 18806 | 7.37 | 7.41 | 4.56 |\n| 2.07 | Ideal     | G | SI2 | 62.5 | 55 | 18804 | 8.20 | 8.13 | 5.11 |\n| 2.00 | Very Good | H | SI1 | 62.8 | 57 | 18803 | 7.95 | 8.00 | 5.01 |\n| 2.29 | Premium   | I | SI1 | 61.8 | 59 | 18797 | 8.52 | 8.45 | 5.24 |\n\n",
            "text/html": [
              "<table class=\"dataframe\">\n",
              "<caption>A tibble: 6 × 10</caption>\n",
              "<thead>\n",
              "\t<tr><th scope=col>carat</th><th scope=col>cut</th><th scope=col>color</th><th scope=col>clarity</th><th scope=col>depth</th><th scope=col>table</th><th scope=col>price</th><th scope=col>x</th><th scope=col>y</th><th scope=col>z</th></tr>\n",
              "\t<tr><th scope=col>&lt;dbl&gt;</th><th scope=col>&lt;ord&gt;</th><th scope=col>&lt;ord&gt;</th><th scope=col>&lt;ord&gt;</th><th scope=col>&lt;dbl&gt;</th><th scope=col>&lt;dbl&gt;</th><th scope=col>&lt;int&gt;</th><th scope=col>&lt;dbl&gt;</th><th scope=col>&lt;dbl&gt;</th><th scope=col>&lt;dbl&gt;</th></tr>\n",
              "</thead>\n",
              "<tbody>\n",
              "\t<tr><td>2.29</td><td>Premium  </td><td>I</td><td>VS2</td><td>60.8</td><td>60</td><td>18823</td><td>8.50</td><td>8.47</td><td>5.16</td></tr>\n",
              "\t<tr><td>2.00</td><td>Very Good</td><td>G</td><td>SI1</td><td>63.5</td><td>56</td><td>18818</td><td>7.90</td><td>7.97</td><td>5.04</td></tr>\n",
              "\t<tr><td>1.51</td><td>Ideal    </td><td>G</td><td>IF </td><td>61.7</td><td>55</td><td>18806</td><td>7.37</td><td>7.41</td><td>4.56</td></tr>\n",
              "\t<tr><td>2.07</td><td>Ideal    </td><td>G</td><td>SI2</td><td>62.5</td><td>55</td><td>18804</td><td>8.20</td><td>8.13</td><td>5.11</td></tr>\n",
              "\t<tr><td>2.00</td><td>Very Good</td><td>H</td><td>SI1</td><td>62.8</td><td>57</td><td>18803</td><td>7.95</td><td>8.00</td><td>5.01</td></tr>\n",
              "\t<tr><td>2.29</td><td>Premium  </td><td>I</td><td>SI1</td><td>61.8</td><td>59</td><td>18797</td><td>8.52</td><td>8.45</td><td>5.24</td></tr>\n",
              "</tbody>\n",
              "</table>\n"
            ]
          },
          "metadata": {
            "tags": []
          }
        }
      ]
    },
    {
      "cell_type": "markdown",
      "metadata": {
        "id": "XuWK9mtfWz_F"
      },
      "source": [
        "Wartość prawdziwa"
      ]
    },
    {
      "cell_type": "code",
      "metadata": {
        "colab": {
          "base_uri": "https://localhost:8080/",
          "height": 35
        },
        "id": "9uBEU-m1WuP1",
        "outputId": "1b3d45a0-f120-4d37-8762-031c828c4591"
      },
      "source": [
        "cena_prawdziwa <- mean(diamonds$price)\n",
        "cena_prawdziwa"
      ],
      "execution_count": 6,
      "outputs": [
        {
          "output_type": "display_data",
          "data": {
            "text/plain": [
              "[1] 3932.8"
            ],
            "text/latex": "3932.79972191324",
            "text/markdown": "3932.79972191324",
            "text/html": [
              "3932.79972191324"
            ]
          },
          "metadata": {
            "tags": []
          }
        }
      ]
    },
    {
      "cell_type": "markdown",
      "metadata": {
        "id": "DRihNC-mW1nP"
      },
      "source": [
        "Symulacja\n"
      ]
    },
    {
      "cell_type": "code",
      "metadata": {
        "id": "t_vOOsPPW2hJ"
      },
      "source": [
        "B <- 100\n",
        "wyniki_naiwny <- numeric(B)\n",
        "wyniki_ps <- numeric(B)\n",
        "total_rows <- nrow(diamonds)\n",
        "\n",
        "## wartości globalne\n",
        "pop_cut_color <- xtabs(~ cut + color, data = diamonds)\n",
        "\n",
        "for (b in 1:B) {\n",
        "  set.seed(b) ## pełna replikacja, a poniżej losowanie próby\n",
        "  nielos_id <- sample(x = 1:total_rows, size = 0.2*total_rows, \n",
        "                      prob = diamonds$price/sum(diamonds$price))\n",
        "  ## wybieram rekordy\n",
        "  nielosowa <- diamonds[nielos_id, ]\n",
        "  ## wyliczam estymator naiwny\n",
        "  wyniki_naiwny[b] <- mean(nielosowa$price)\n",
        "  ## przygotowanie do post-stratyfikcji\n",
        "  svydes <- svydesign(ids = ~1, data = nielosowa, weights = ~1)\n",
        "  ## post-stratyfikacja\n",
        "  svydes_post <- postStratify(svydes, ~ cut + color, pop_cut_color)\n",
        "  ## wyliczam estymator post-stratyfikacyjny\n",
        "  wyniki_ps[b] <- svymean(~ price, svydes_post)[1]\n",
        "}\n"
      ],
      "execution_count": 33,
      "outputs": []
    },
    {
      "cell_type": "markdown",
      "metadata": {
        "id": "Cs0XS55ualK8"
      },
      "source": [
        "Wyliczam: 1) wartość oczekiwaną, 2) wariancję lub odchylenie standardowe oraz 3) obciążenie dla każdego estymatora."
      ]
    },
    {
      "cell_type": "code",
      "metadata": {
        "colab": {
          "base_uri": "https://localhost:8080/",
          "height": 125
        },
        "id": "ghQqNMIrajsW",
        "outputId": "214b2813-4942-48f2-fbc8-5e1378b1ea0b"
      },
      "source": [
        "wyniki <- data.frame(naive_oczekiwana = mean(wyniki_naiwny), \n",
        "                     naive_odchyl = sd(wyniki_naiwny), \n",
        "                     naive_obciazenie = mean(wyniki_naiwny) - cena_prawdziwa,\n",
        "                     post_oczekiwana = mean(wyniki_ps), \n",
        "                     post_odchyl = sd(wyniki_ps), \n",
        "                     post_obciazenie = mean(wyniki_ps) - cena_prawdziwa,\n",
        "                     cena_prawdziwa = cena_prawdziwa\n",
        ")\n",
        "wyniki"
      ],
      "execution_count": 38,
      "outputs": [
        {
          "output_type": "display_data",
          "data": {
            "text/plain": [
              "  naive_oczekiwana naive_odchyl naive_obciazenie post_oczekiwana post_odchyl\n",
              "1 7256.763         32.38995     3323.963         7085.002        32.18905   \n",
              "  post_obciazenie cena_prawdziwa\n",
              "1 3152.202        3932.8        "
            ],
            "text/latex": "A data.frame: 1 × 7\n\\begin{tabular}{lllllll}\n naive\\_oczekiwana & naive\\_odchyl & naive\\_obciazenie & post\\_oczekiwana & post\\_odchyl & post\\_obciazenie & cena\\_prawdziwa\\\\\n <dbl> & <dbl> & <dbl> & <dbl> & <dbl> & <dbl> & <dbl>\\\\\n\\hline\n\t 7256.763 & 32.38995 & 3323.963 & 7085.002 & 32.18905 & 3152.202 & 3932.8\\\\\n\\end{tabular}\n",
            "text/markdown": "\nA data.frame: 1 × 7\n\n| naive_oczekiwana &lt;dbl&gt; | naive_odchyl &lt;dbl&gt; | naive_obciazenie &lt;dbl&gt; | post_oczekiwana &lt;dbl&gt; | post_odchyl &lt;dbl&gt; | post_obciazenie &lt;dbl&gt; | cena_prawdziwa &lt;dbl&gt; |\n|---|---|---|---|---|---|---|\n| 7256.763 | 32.38995 | 3323.963 | 7085.002 | 32.18905 | 3152.202 | 3932.8 |\n\n",
            "text/html": [
              "<table class=\"dataframe\">\n",
              "<caption>A data.frame: 1 × 7</caption>\n",
              "<thead>\n",
              "\t<tr><th scope=col>naive_oczekiwana</th><th scope=col>naive_odchyl</th><th scope=col>naive_obciazenie</th><th scope=col>post_oczekiwana</th><th scope=col>post_odchyl</th><th scope=col>post_obciazenie</th><th scope=col>cena_prawdziwa</th></tr>\n",
              "\t<tr><th scope=col>&lt;dbl&gt;</th><th scope=col>&lt;dbl&gt;</th><th scope=col>&lt;dbl&gt;</th><th scope=col>&lt;dbl&gt;</th><th scope=col>&lt;dbl&gt;</th><th scope=col>&lt;dbl&gt;</th><th scope=col>&lt;dbl&gt;</th></tr>\n",
              "</thead>\n",
              "<tbody>\n",
              "\t<tr><td>7256.763</td><td>32.38995</td><td>3323.963</td><td>7085.002</td><td>32.18905</td><td>3152.202</td><td>3932.8</td></tr>\n",
              "</tbody>\n",
              "</table>\n"
            ]
          },
          "metadata": {
            "tags": []
          }
        }
      ]
    },
    {
      "cell_type": "markdown",
      "metadata": {
        "id": "5T_dJdHibKMz"
      },
      "source": [
        "Krótki komentarz:\n",
        "  1. odchylenie standardowe jest takie same,\n",
        "  2. obciążenie jest większe dla estymatora naiwnego niż dla post-stratyfikacyjnego ale się niewiele różni,\n",
        "  3. słaby wynik dla estymatora PS jest spowodowany słabymi zmiennymi wykorzystanymi do post-stratyfikacji."
      ]
    }
  ]
}