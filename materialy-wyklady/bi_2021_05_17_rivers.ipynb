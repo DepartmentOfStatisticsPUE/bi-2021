{
  "nbformat": 4,
  "nbformat_minor": 0,
  "metadata": {
    "colab": {
      "name": "bi_2021_05_17-rivers.ipynb",
      "provenance": [],
      "collapsed_sections": [],
      "authorship_tag": "ABX9TyN/nGBWokhLz3N9CoqqbKry",
      "include_colab_link": true
    },
    "kernelspec": {
      "name": "ir",
      "display_name": "R"
    },
    "language_info": {
      "name": "R"
    }
  },
  "cells": [
    {
      "cell_type": "markdown",
      "metadata": {
        "id": "view-in-github",
        "colab_type": "text"
      },
      "source": [
        "<a href=\"https://colab.research.google.com/github/DepartmentOfStatisticsPUE/bi-2021/blob/main/materialy-wyklady/bi_2021_05_17_rivers.ipynb\" target=\"_parent\"><img src=\"https://colab.research.google.com/assets/colab-badge.svg\" alt=\"Open In Colab\"/></a>"
      ]
    },
    {
      "cell_type": "markdown",
      "metadata": {
        "id": "u0CsHczIJFmz"
      },
      "source": [
        "# Wstęp"
      ]
    },
    {
      "cell_type": "markdown",
      "metadata": {
        "id": "EG_iph6mHHpO"
      },
      "source": [
        "W tym skrypcie zastosujemy metodę opartą na pracy [Rivers, D. (2007). Sampling for web surveys, Proceedings of the Survey Research Methods\n",
        "Section of the American Statistical Association, pp. 1–26.](https://static.texastribune.org/media/documents/Rivers_matching4.pdf). \n",
        "\n",
        "W tym ćwiczeniu porównamy dwa podejścia:\n",
        "\n",
        "1. wykorzystując zmienne $\\mathbf{X}$ do łączenia\n",
        "2. wykorzystując wartości przewidywane $\\hat{y}_i$ na podstawie modelu regresji logistycznej\n",
        "\n",
        "Poszukiwania sąsiadów dokonamy wykorzystując metodę K-D tree dla przybliżonych sąsiadów oprogramowaną w pakiecie `RANN` (funkcja `nn2`), która opiera się na bibliotece [ANN w C++](http://www.cs.umd.edu/~mount/ANN/)."
      ]
    },
    {
      "cell_type": "markdown",
      "metadata": {
        "id": "V4exOiasJHqk"
      },
      "source": [
        "# Pakiety i dane"
      ]
    },
    {
      "cell_type": "markdown",
      "metadata": {
        "id": "xYOHcx0HI0n_"
      },
      "source": [
        "Instalujemy pakiet"
      ]
    },
    {
      "cell_type": "code",
      "metadata": {
        "colab": {
          "base_uri": "https://localhost:8080/"
        },
        "id": "1In_8peYGvby",
        "outputId": "7776c83f-43d0-4041-db8e-51a8f288c9ab"
      },
      "source": [
        "install.packages(\"RANN\")"
      ],
      "execution_count": 1,
      "outputs": [
        {
          "output_type": "stream",
          "text": [
            "Installing package into ‘/usr/local/lib/R/site-library’\n",
            "(as ‘lib’ is unspecified)\n",
            "\n"
          ],
          "name": "stderr"
        }
      ]
    },
    {
      "cell_type": "markdown",
      "metadata": {
        "id": "Cc-v7Bv1JB2C"
      },
      "source": [
        "Ładujemy pakiety"
      ]
    },
    {
      "cell_type": "code",
      "metadata": {
        "id": "LxrB3rmlJCy2"
      },
      "source": [
        "library(tidyverse) \n",
        "library(RANN) "
      ],
      "execution_count": null,
      "outputs": []
    },
    {
      "cell_type": "markdown",
      "metadata": {
        "id": "5c4sztugI3Gs"
      },
      "source": [
        "Pobieramy dane z zajęć"
      ]
    },
    {
      "cell_type": "code",
      "metadata": {
        "id": "1hqV3DNZI4iF"
      },
      "source": [
        "download.file(\"https://raw.githubusercontent.com/DepartmentOfStatisticsPUE/bi-2021/main/data/popyt-zajecia-dane.csv\",\n",
        "              \"popyt-dane.csv\")"
      ],
      "execution_count": 4,
      "outputs": []
    },
    {
      "cell_type": "code",
      "metadata": {
        "colab": {
          "base_uri": "https://localhost:8080/",
          "height": 295
        },
        "id": "UZjj5343JYGx",
        "outputId": "1bb20825-2085-4fb0-8f2e-0a1c8a8badb6"
      },
      "source": [
        "dane <- read.csv(\"popyt-dane.csv\", stringsAsFactors = FALSE)\n",
        "head(dane)"
      ],
      "execution_count": 5,
      "outputs": [
        {
          "output_type": "display_data",
          "data": {
            "text/plain": [
              "  id_popyt id_jednostki                             waga sek klasa_pr sekc_pkd\n",
              "1 1        a9cc990df6a99ab215a1bc13f51d4825c7d52d18 1    1   D        O       \n",
              "2 2        a9cc990df6a99ab215a1bc13f51d4825c7d52d18 1    1   D        O       \n",
              "3 3        c9dbaf50890165ebe810aa770de0e9df903dc35b 6    1   D        O       \n",
              "4 4        718e0bba42bcec6ed98f9690db6d26cb7b93c880 1    1   D        R.S     \n",
              "5 5        532a1879a692b9d7bbb7282ba757d028156ef341 1    1   D        R.S     \n",
              "6 6        0b6b623fa45e257284a3049d097af322841337e3 1    1   D        R.S     \n",
              "  woj zawod_kod2 wolne_miejsca id_cbop jedna_zmiana wymiar_40\n",
              "1 14  1          2             NA      NA           NA       \n",
              "2 14  2          7             NA      NA           NA       \n",
              "3 24  2          6             NA      NA           NA       \n",
              "4 14  2          7             NA      NA           NA       \n",
              "5 14  2          6             NA      NA           NA       \n",
              "6 22  2          1             NA      NA           NA       \n",
              "  wolne_miejsca_cbop wolne_miejsca_niepeln_cbop\n",
              "1 NA                 NA                        \n",
              "2 NA                 NA                        \n",
              "3 NA                 NA                        \n",
              "4 NA                 NA                        \n",
              "5 NA                 NA                        \n",
              "6 NA                 NA                        "
            ],
            "text/latex": "A data.frame: 6 × 14\n\\begin{tabular}{r|llllllllllllll}\n  & id\\_popyt & id\\_jednostki & waga & sek & klasa\\_pr & sekc\\_pkd & woj & zawod\\_kod2 & wolne\\_miejsca & id\\_cbop & jedna\\_zmiana & wymiar\\_40 & wolne\\_miejsca\\_cbop & wolne\\_miejsca\\_niepeln\\_cbop\\\\\n  & <int> & <chr> & <int> & <int> & <chr> & <chr> & <int> & <int> & <int> & <int> & <lgl> & <lgl> & <int> & <int>\\\\\n\\hline\n\t1 & 1 & a9cc990df6a99ab215a1bc13f51d4825c7d52d18 & 1 & 1 & D & O   & 14 & 1 & 2 & NA & NA & NA & NA & NA\\\\\n\t2 & 2 & a9cc990df6a99ab215a1bc13f51d4825c7d52d18 & 1 & 1 & D & O   & 14 & 2 & 7 & NA & NA & NA & NA & NA\\\\\n\t3 & 3 & c9dbaf50890165ebe810aa770de0e9df903dc35b & 6 & 1 & D & O   & 24 & 2 & 6 & NA & NA & NA & NA & NA\\\\\n\t4 & 4 & 718e0bba42bcec6ed98f9690db6d26cb7b93c880 & 1 & 1 & D & R.S & 14 & 2 & 7 & NA & NA & NA & NA & NA\\\\\n\t5 & 5 & 532a1879a692b9d7bbb7282ba757d028156ef341 & 1 & 1 & D & R.S & 14 & 2 & 6 & NA & NA & NA & NA & NA\\\\\n\t6 & 6 & 0b6b623fa45e257284a3049d097af322841337e3 & 1 & 1 & D & R.S & 22 & 2 & 1 & NA & NA & NA & NA & NA\\\\\n\\end{tabular}\n",
            "text/markdown": "\nA data.frame: 6 × 14\n\n| <!--/--> | id_popyt &lt;int&gt; | id_jednostki &lt;chr&gt; | waga &lt;int&gt; | sek &lt;int&gt; | klasa_pr &lt;chr&gt; | sekc_pkd &lt;chr&gt; | woj &lt;int&gt; | zawod_kod2 &lt;int&gt; | wolne_miejsca &lt;int&gt; | id_cbop &lt;int&gt; | jedna_zmiana &lt;lgl&gt; | wymiar_40 &lt;lgl&gt; | wolne_miejsca_cbop &lt;int&gt; | wolne_miejsca_niepeln_cbop &lt;int&gt; |\n|---|---|---|---|---|---|---|---|---|---|---|---|---|---|---|\n| 1 | 1 | a9cc990df6a99ab215a1bc13f51d4825c7d52d18 | 1 | 1 | D | O   | 14 | 1 | 2 | NA | NA | NA | NA | NA |\n| 2 | 2 | a9cc990df6a99ab215a1bc13f51d4825c7d52d18 | 1 | 1 | D | O   | 14 | 2 | 7 | NA | NA | NA | NA | NA |\n| 3 | 3 | c9dbaf50890165ebe810aa770de0e9df903dc35b | 6 | 1 | D | O   | 24 | 2 | 6 | NA | NA | NA | NA | NA |\n| 4 | 4 | 718e0bba42bcec6ed98f9690db6d26cb7b93c880 | 1 | 1 | D | R.S | 14 | 2 | 7 | NA | NA | NA | NA | NA |\n| 5 | 5 | 532a1879a692b9d7bbb7282ba757d028156ef341 | 1 | 1 | D | R.S | 14 | 2 | 6 | NA | NA | NA | NA | NA |\n| 6 | 6 | 0b6b623fa45e257284a3049d097af322841337e3 | 1 | 1 | D | R.S | 22 | 2 | 1 | NA | NA | NA | NA | NA |\n\n",
            "text/html": [
              "<table class=\"dataframe\">\n",
              "<caption>A data.frame: 6 × 14</caption>\n",
              "<thead>\n",
              "\t<tr><th></th><th scope=col>id_popyt</th><th scope=col>id_jednostki</th><th scope=col>waga</th><th scope=col>sek</th><th scope=col>klasa_pr</th><th scope=col>sekc_pkd</th><th scope=col>woj</th><th scope=col>zawod_kod2</th><th scope=col>wolne_miejsca</th><th scope=col>id_cbop</th><th scope=col>jedna_zmiana</th><th scope=col>wymiar_40</th><th scope=col>wolne_miejsca_cbop</th><th scope=col>wolne_miejsca_niepeln_cbop</th></tr>\n",
              "\t<tr><th></th><th scope=col>&lt;int&gt;</th><th scope=col>&lt;chr&gt;</th><th scope=col>&lt;int&gt;</th><th scope=col>&lt;int&gt;</th><th scope=col>&lt;chr&gt;</th><th scope=col>&lt;chr&gt;</th><th scope=col>&lt;int&gt;</th><th scope=col>&lt;int&gt;</th><th scope=col>&lt;int&gt;</th><th scope=col>&lt;int&gt;</th><th scope=col>&lt;lgl&gt;</th><th scope=col>&lt;lgl&gt;</th><th scope=col>&lt;int&gt;</th><th scope=col>&lt;int&gt;</th></tr>\n",
              "</thead>\n",
              "<tbody>\n",
              "\t<tr><th scope=row>1</th><td>1</td><td>a9cc990df6a99ab215a1bc13f51d4825c7d52d18</td><td>1</td><td>1</td><td>D</td><td>O  </td><td>14</td><td>1</td><td>2</td><td>NA</td><td>NA</td><td>NA</td><td>NA</td><td>NA</td></tr>\n",
              "\t<tr><th scope=row>2</th><td>2</td><td>a9cc990df6a99ab215a1bc13f51d4825c7d52d18</td><td>1</td><td>1</td><td>D</td><td>O  </td><td>14</td><td>2</td><td>7</td><td>NA</td><td>NA</td><td>NA</td><td>NA</td><td>NA</td></tr>\n",
              "\t<tr><th scope=row>3</th><td>3</td><td>c9dbaf50890165ebe810aa770de0e9df903dc35b</td><td>6</td><td>1</td><td>D</td><td>O  </td><td>24</td><td>2</td><td>6</td><td>NA</td><td>NA</td><td>NA</td><td>NA</td><td>NA</td></tr>\n",
              "\t<tr><th scope=row>4</th><td>4</td><td>718e0bba42bcec6ed98f9690db6d26cb7b93c880</td><td>1</td><td>1</td><td>D</td><td>R.S</td><td>14</td><td>2</td><td>7</td><td>NA</td><td>NA</td><td>NA</td><td>NA</td><td>NA</td></tr>\n",
              "\t<tr><th scope=row>5</th><td>5</td><td>532a1879a692b9d7bbb7282ba757d028156ef341</td><td>1</td><td>1</td><td>D</td><td>R.S</td><td>14</td><td>2</td><td>6</td><td>NA</td><td>NA</td><td>NA</td><td>NA</td><td>NA</td></tr>\n",
              "\t<tr><th scope=row>6</th><td>6</td><td>0b6b623fa45e257284a3049d097af322841337e3</td><td>1</td><td>1</td><td>D</td><td>R.S</td><td>22</td><td>2</td><td>1</td><td>NA</td><td>NA</td><td>NA</td><td>NA</td><td>NA</td></tr>\n",
              "</tbody>\n",
              "</table>\n"
            ]
          },
          "metadata": {
            "tags": []
          }
        }
      ]
    },
    {
      "cell_type": "markdown",
      "metadata": {
        "id": "2Z8ji6BZJL2d"
      },
      "source": [
        "## Metoda Rivers'a -- łączenie na podstawie zmiennych X"
      ]
    },
    {
      "cell_type": "markdown",
      "metadata": {
        "id": "H6jmccnXKL88"
      },
      "source": [
        "Na tę chwilę założymy, że zbiory są rozłączne!"
      ]
    },
    {
      "cell_type": "code",
      "metadata": {
        "id": "J252CgrOJbr-"
      },
      "source": [
        "proba_nielosowa <- dane %>% filter(is.na(id_popyt))\n",
        "proba_losowa <- dane %>% filter(!is.na(id_popyt))"
      ],
      "execution_count": 10,
      "outputs": []
    },
    {
      "cell_type": "markdown",
      "metadata": {
        "id": "wHAoxM4iJpms"
      },
      "source": [
        "Tworzymy macierz X_A (próba nielosowa) i X_B (próba losowa)"
      ]
    },
    {
      "cell_type": "code",
      "metadata": {
        "colab": {
          "base_uri": "https://localhost:8080/",
          "height": 265
        },
        "id": "zKpJwYKJJpVr",
        "outputId": "504c467f-b08d-467f-9bb6-b76bbf13edba"
      },
      "source": [
        "X_A <- model.matrix(~ -1 + klasa_pr + sekc_pkd + woj + zawod_kod2, data = proba_nielosowa)\n",
        "X_B <- model.matrix(~ -1 + klasa_pr + sekc_pkd + woj + zawod_kod2, data = proba_losowa)\n",
        "head(X_B)"
      ],
      "execution_count": 12,
      "outputs": [
        {
          "output_type": "display_data",
          "data": {
            "text/plain": [
              "  klasa_prD klasa_prM klasa_prS sekc_pkdD.E sekc_pkdF sekc_pkdG sekc_pkdH\n",
              "1 1         0         0         0           0         0         0        \n",
              "2 1         0         0         0           0         0         0        \n",
              "3 1         0         0         0           0         0         0        \n",
              "4 1         0         0         0           0         0         0        \n",
              "5 1         0         0         0           0         0         0        \n",
              "6 1         0         0         0           0         0         0        \n",
              "  sekc_pkdI sekc_pkdJ sekc_pkdK.L sekc_pkdM sekc_pkdN sekc_pkdO sekc_pkdP\n",
              "1 0         0         0           0         0         1         0        \n",
              "2 0         0         0           0         0         1         0        \n",
              "3 0         0         0           0         0         1         0        \n",
              "4 0         0         0           0         0         0         0        \n",
              "5 0         0         0           0         0         0         0        \n",
              "6 0         0         0           0         0         0         0        \n",
              "  sekc_pkdQ sekc_pkdR.S woj zawod_kod2\n",
              "1 0         0           14  1         \n",
              "2 0         0           14  2         \n",
              "3 0         0           24  2         \n",
              "4 0         1           14  2         \n",
              "5 0         1           14  2         \n",
              "6 0         1           22  2         "
            ],
            "text/latex": "A matrix: 6 × 18 of type dbl\n\\begin{tabular}{r|llllllllllllllllll}\n  & klasa\\_prD & klasa\\_prM & klasa\\_prS & sekc\\_pkdD.E & sekc\\_pkdF & sekc\\_pkdG & sekc\\_pkdH & sekc\\_pkdI & sekc\\_pkdJ & sekc\\_pkdK.L & sekc\\_pkdM & sekc\\_pkdN & sekc\\_pkdO & sekc\\_pkdP & sekc\\_pkdQ & sekc\\_pkdR.S & woj & zawod\\_kod2\\\\\n\\hline\n\t1 & 1 & 0 & 0 & 0 & 0 & 0 & 0 & 0 & 0 & 0 & 0 & 0 & 1 & 0 & 0 & 0 & 14 & 1\\\\\n\t2 & 1 & 0 & 0 & 0 & 0 & 0 & 0 & 0 & 0 & 0 & 0 & 0 & 1 & 0 & 0 & 0 & 14 & 2\\\\\n\t3 & 1 & 0 & 0 & 0 & 0 & 0 & 0 & 0 & 0 & 0 & 0 & 0 & 1 & 0 & 0 & 0 & 24 & 2\\\\\n\t4 & 1 & 0 & 0 & 0 & 0 & 0 & 0 & 0 & 0 & 0 & 0 & 0 & 0 & 0 & 0 & 1 & 14 & 2\\\\\n\t5 & 1 & 0 & 0 & 0 & 0 & 0 & 0 & 0 & 0 & 0 & 0 & 0 & 0 & 0 & 0 & 1 & 14 & 2\\\\\n\t6 & 1 & 0 & 0 & 0 & 0 & 0 & 0 & 0 & 0 & 0 & 0 & 0 & 0 & 0 & 0 & 1 & 22 & 2\\\\\n\\end{tabular}\n",
            "text/markdown": "\nA matrix: 6 × 18 of type dbl\n\n| <!--/--> | klasa_prD | klasa_prM | klasa_prS | sekc_pkdD.E | sekc_pkdF | sekc_pkdG | sekc_pkdH | sekc_pkdI | sekc_pkdJ | sekc_pkdK.L | sekc_pkdM | sekc_pkdN | sekc_pkdO | sekc_pkdP | sekc_pkdQ | sekc_pkdR.S | woj | zawod_kod2 |\n|---|---|---|---|---|---|---|---|---|---|---|---|---|---|---|---|---|---|---|\n| 1 | 1 | 0 | 0 | 0 | 0 | 0 | 0 | 0 | 0 | 0 | 0 | 0 | 1 | 0 | 0 | 0 | 14 | 1 |\n| 2 | 1 | 0 | 0 | 0 | 0 | 0 | 0 | 0 | 0 | 0 | 0 | 0 | 1 | 0 | 0 | 0 | 14 | 2 |\n| 3 | 1 | 0 | 0 | 0 | 0 | 0 | 0 | 0 | 0 | 0 | 0 | 0 | 1 | 0 | 0 | 0 | 24 | 2 |\n| 4 | 1 | 0 | 0 | 0 | 0 | 0 | 0 | 0 | 0 | 0 | 0 | 0 | 0 | 0 | 0 | 1 | 14 | 2 |\n| 5 | 1 | 0 | 0 | 0 | 0 | 0 | 0 | 0 | 0 | 0 | 0 | 0 | 0 | 0 | 0 | 1 | 14 | 2 |\n| 6 | 1 | 0 | 0 | 0 | 0 | 0 | 0 | 0 | 0 | 0 | 0 | 0 | 0 | 0 | 0 | 1 | 22 | 2 |\n\n",
            "text/html": [
              "<table class=\"dataframe\">\n",
              "<caption>A matrix: 6 × 18 of type dbl</caption>\n",
              "<thead>\n",
              "\t<tr><th></th><th scope=col>klasa_prD</th><th scope=col>klasa_prM</th><th scope=col>klasa_prS</th><th scope=col>sekc_pkdD.E</th><th scope=col>sekc_pkdF</th><th scope=col>sekc_pkdG</th><th scope=col>sekc_pkdH</th><th scope=col>sekc_pkdI</th><th scope=col>sekc_pkdJ</th><th scope=col>sekc_pkdK.L</th><th scope=col>sekc_pkdM</th><th scope=col>sekc_pkdN</th><th scope=col>sekc_pkdO</th><th scope=col>sekc_pkdP</th><th scope=col>sekc_pkdQ</th><th scope=col>sekc_pkdR.S</th><th scope=col>woj</th><th scope=col>zawod_kod2</th></tr>\n",
              "</thead>\n",
              "<tbody>\n",
              "\t<tr><th scope=row>1</th><td>1</td><td>0</td><td>0</td><td>0</td><td>0</td><td>0</td><td>0</td><td>0</td><td>0</td><td>0</td><td>0</td><td>0</td><td>1</td><td>0</td><td>0</td><td>0</td><td>14</td><td>1</td></tr>\n",
              "\t<tr><th scope=row>2</th><td>1</td><td>0</td><td>0</td><td>0</td><td>0</td><td>0</td><td>0</td><td>0</td><td>0</td><td>0</td><td>0</td><td>0</td><td>1</td><td>0</td><td>0</td><td>0</td><td>14</td><td>2</td></tr>\n",
              "\t<tr><th scope=row>3</th><td>1</td><td>0</td><td>0</td><td>0</td><td>0</td><td>0</td><td>0</td><td>0</td><td>0</td><td>0</td><td>0</td><td>0</td><td>1</td><td>0</td><td>0</td><td>0</td><td>24</td><td>2</td></tr>\n",
              "\t<tr><th scope=row>4</th><td>1</td><td>0</td><td>0</td><td>0</td><td>0</td><td>0</td><td>0</td><td>0</td><td>0</td><td>0</td><td>0</td><td>0</td><td>0</td><td>0</td><td>0</td><td>1</td><td>14</td><td>2</td></tr>\n",
              "\t<tr><th scope=row>5</th><td>1</td><td>0</td><td>0</td><td>0</td><td>0</td><td>0</td><td>0</td><td>0</td><td>0</td><td>0</td><td>0</td><td>0</td><td>0</td><td>0</td><td>0</td><td>1</td><td>14</td><td>2</td></tr>\n",
              "\t<tr><th scope=row>6</th><td>1</td><td>0</td><td>0</td><td>0</td><td>0</td><td>0</td><td>0</td><td>0</td><td>0</td><td>0</td><td>0</td><td>0</td><td>0</td><td>0</td><td>0</td><td>1</td><td>22</td><td>2</td></tr>\n",
              "</tbody>\n",
              "</table>\n"
            ]
          },
          "metadata": {
            "tags": []
          }
        }
      ]
    },
    {
      "cell_type": "code",
      "metadata": {
        "colab": {
          "base_uri": "https://localhost:8080/",
          "height": 52
        },
        "id": "564YhH0XJ-qc",
        "outputId": "ca295a99-8e83-46c9-df67-3cf7b071bbc3"
      },
      "source": [
        "dim(X_A)\n",
        "dim(X_B)"
      ],
      "execution_count": 13,
      "outputs": [
        {
          "output_type": "display_data",
          "data": {
            "text/plain": [
              "[1] 10972    18"
            ],
            "text/latex": "\\begin{enumerate*}\n\\item 10972\n\\item 18\n\\end{enumerate*}\n",
            "text/markdown": "1. 10972\n2. 18\n\n\n",
            "text/html": [
              "<style>\n",
              ".list-inline {list-style: none; margin:0; padding: 0}\n",
              ".list-inline>li {display: inline-block}\n",
              ".list-inline>li:not(:last-child)::after {content: \"\\00b7\"; padding: 0 .5ex}\n",
              "</style>\n",
              "<ol class=list-inline><li>10972</li><li>18</li></ol>\n"
            ]
          },
          "metadata": {
            "tags": []
          }
        },
        {
          "output_type": "display_data",
          "data": {
            "text/plain": [
              "[1] 9974   18"
            ],
            "text/latex": "\\begin{enumerate*}\n\\item 9974\n\\item 18\n\\end{enumerate*}\n",
            "text/markdown": "1. 9974\n2. 18\n\n\n",
            "text/html": [
              "<style>\n",
              ".list-inline {list-style: none; margin:0; padding: 0}\n",
              ".list-inline>li {display: inline-block}\n",
              ".list-inline>li:not(:last-child)::after {content: \"\\00b7\"; padding: 0 .5ex}\n",
              "</style>\n",
              "<ol class=list-inline><li>9974</li><li>18</li></ol>\n"
            ]
          },
          "metadata": {
            "tags": []
          }
        }
      ]
    },
    {
      "cell_type": "markdown",
      "metadata": {
        "id": "Ms9bZW2UJ6fO"
      },
      "source": [
        "W zbiorze A mamy 10972 obserwacje, a zbiorze B 9974. Oznacza to, że musimy znaleźć 9974 jednostek ze zbioru A dla jednostek ze zbioru B (mogą się powtarzać)."
      ]
    },
    {
      "cell_type": "code",
      "metadata": {
        "colab": {
          "base_uri": "https://localhost:8080/"
        },
        "id": "M5O_PXiBJlsD",
        "outputId": "e571a25c-93be-4103-cc00-8d23070090c2"
      },
      "source": [
        "sasiedzi <- nn2(data = X_A, query = X_B, k = 1)\n",
        "str(sasiedzi,1)"
      ],
      "execution_count": 14,
      "outputs": [
        {
          "output_type": "stream",
          "text": [
            "List of 2\n",
            " $ nn.idx  : int [1:9974, 1] 1293 1608 603 183 183 9967 5892 10352 6687 9471 ...\n",
            " $ nn.dists: num [1:9974, 1] 1 0 0 0 0 1 1 0 0 1 ...\n"
          ],
          "name": "stdout"
        }
      ]
    },
    {
      "cell_type": "markdown",
      "metadata": {
        "id": "mhPv5_O6KovC"
      },
      "source": [
        "Funkcja `nn2` zwraca listę składającą się z dwóch wektorów:\n",
        "\n",
        "+ `nn.indx` -- indeksy (numery wierszy) ze zbioru `X_A`,\n",
        "+ `nn.dists` -- odległości między sąsiadami ze zbiorów `X_A` i `X_B` "
      ]
    },
    {
      "cell_type": "markdown",
      "metadata": {
        "id": "Mutav-h-LUZE"
      },
      "source": [
        "Wyznaczamy teraz estymator $\\hat{\\theta}_{M1}$ czyli chcemy poznać odsetek podmiotów poszukujących pracowników na jedną zmianę."
      ]
    },
    {
      "cell_type": "code",
      "metadata": {
        "colab": {
          "base_uri": "https://localhost:8080/"
        },
        "id": "J6TlJBLhK9mh",
        "outputId": "98b7eab1-463d-4f3d-ab8e-eb717687fffd"
      },
      "source": [
        "indeksy <- sasiedzi$nn.idx[,1]\n",
        "y <- proba_nielosowa$jedna_zmiana[indeksy]\n",
        "naiwny <- weighted.mean(proba_nielosowa$jedna_zmiana, proba_nielosowa$wolne_miejsca_cbop)\n",
        "theta_m1 <- weighted.mean(y, proba_losowa$waga*proba_losowa$wolne_miejsca)\n",
        "print(c(naiwny = naiwny, theta_m1 = theta_m1))"
      ],
      "execution_count": 22,
      "outputs": [
        {
          "output_type": "stream",
          "text": [
            "   naiwny  theta_m1 \n",
            "0.5204615 0.6601766 \n"
          ],
          "name": "stdout"
        }
      ]
    },
    {
      "cell_type": "markdown",
      "metadata": {
        "id": "9qn44sVkJPq4"
      },
      "source": [
        "## Metoda Rivers'a -- łączenie na podstawie $\\hat{y}$"
      ]
    },
    {
      "cell_type": "code",
      "metadata": {
        "id": "ivlxsTwSMOFV"
      },
      "source": [
        ""
      ],
      "execution_count": null,
      "outputs": []
    }
  ]
}