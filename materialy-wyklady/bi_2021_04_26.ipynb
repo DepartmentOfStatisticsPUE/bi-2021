{
  "nbformat": 4,
  "nbformat_minor": 0,
  "metadata": {
    "colab": {
      "name": "bi_2021_04_26.ipynb",
      "provenance": [],
      "collapsed_sections": [],
      "authorship_tag": "ABX9TyMn5QoEv/j98yNn1YltHKat",
      "include_colab_link": true
    },
    "kernelspec": {
      "name": "ir",
      "display_name": "R"
    },
    "language_info": {
      "name": "R"
    }
  },
  "cells": [
    {
      "cell_type": "markdown",
      "metadata": {
        "id": "view-in-github",
        "colab_type": "text"
      },
      "source": [
        "<a href=\"https://colab.research.google.com/github/DepartmentOfStatisticsPUE/bi-2021/blob/main/materialy-wyklady/bi_2021_04_26.ipynb\" target=\"_parent\"><img src=\"https://colab.research.google.com/assets/colab-badge.svg\" alt=\"Open In Colab\"/></a>"
      ]
    },
    {
      "cell_type": "markdown",
      "metadata": {
        "id": "HK7KkfJ76sM_"
      },
      "source": [
        "Rozpoczynamy od załadowania biblioteki `rvest`, która służy do web scrapingu statycznych stron interentowych."
      ]
    },
    {
      "cell_type": "code",
      "metadata": {
        "id": "QP_IezdwyVFi"
      },
      "source": [
        "library(rvest)"
      ],
      "execution_count": 1,
      "outputs": []
    },
    {
      "cell_type": "markdown",
      "metadata": {
        "id": "7biiKAW98Ypd"
      },
      "source": [
        "Pobieramy dane z portalu Otodom z linku:  https://www.otodom.pl/wynajem/mieszkanie/poznan/?search%5Bregion_id%5D=15&search%5Bsubregion_id%5D=462&search%5Bcity_id%5D=1\n",
        "\n",
        "\n",
        "Następnie spojrzeliśmy w źródło strony interentowej i zidentyfikowaliśmy elementy strony odpowiedzialne za przetrzymywanie informacji o ogłoszeniach nieruchomości na wynajem.\n",
        "\n",
        "`div.offer-item-details` -- ten element strony zawiera całą informacje ze strony wyszukiwania."
      ]
    },
    {
      "cell_type": "code",
      "metadata": {
        "colab": {
          "base_uri": "https://localhost:8080/",
          "height": 86
        },
        "id": "9VaN_Utj8yAe",
        "outputId": "6a17532b-b939-4fdf-b5f3-d87311c8d692"
      },
      "source": [
        "url <- \"https://www.otodom.pl/wynajem/mieszkanie/poznan/?search%5Bregion_id%5D=15&search%5Bsubregion_id%5D=462&search%5Bcity_id%5D=1\"\n",
        "\n",
        "strona <- read_html(url)\n",
        "strona"
      ],
      "execution_count": 2,
      "outputs": [
        {
          "output_type": "display_data",
          "data": {
            "text/plain": [
              "{html_document}\n",
              "<html xmlns:og=\"http://ogp.me/ns#\" xmlns:fb=\"http://www.facebook.com/2008/fbml\">\n",
              "[1] <head>\\n<meta http-equiv=\"Content-Type\" content=\"text/html; charset=utf-8 ...\n",
              "[2] <body class=\"offersview standard\">\\n\\t    \\t\\t    \\t<script>\\n\\t\\tvar dat ..."
            ]
          },
          "metadata": {
            "tags": []
          }
        }
      ]
    },
    {
      "cell_type": "markdown",
      "metadata": {
        "id": "dJnQ15hs9uZb"
      },
      "source": [
        "Jeżeli chcemy pobrać określony fragment strony interentowej (fragment strony zapisanej w HTML) musimy użyć funkcji `html_nodes()`."
      ]
    },
    {
      "cell_type": "code",
      "metadata": {
        "colab": {
          "base_uri": "https://localhost:8080/"
        },
        "id": "qhixFu-V-Cep",
        "outputId": "99fba5c5-9f2d-467b-ac2d-3f91f97bb522"
      },
      "source": [
        "strona %>% \n",
        "  html_nodes(\"div.offer-item-details\") %>%\n",
        "  html_nodes(\"li.offer-item-price\") %>%\n",
        "  html_text() %>%\n",
        "  gsub(\"\\n|/mc|zł\", \"\", .) %>%\n",
        "  trimws() %>%\n",
        "  print()"
      ],
      "execution_count": 10,
      "outputs": [
        {
          "output_type": "stream",
          "text": [
            " [1] \"1 350\" \"1 550\" \"1 350\" \"700\"   \"1 900\" \"2 600\" \"1 150\" \"1 200\" \"1 400\"\n",
            "[10] \"1 290\" \"1 650\" \"1 550\" \"1 850\" \"1 200\" \"1 350\" \"1 750\" \"2 000\" \"1 300\"\n",
            "[19] \"1 200\" \"3 500\" \"2 000\" \"1 500\" \"1 400\" \"1 700\" \"1 200\" \"1 650\" \"1 500\"\n"
          ],
          "name": "stdout"
        }
      ]
    },
    {
      "cell_type": "markdown",
      "metadata": {
        "id": "jjp3W05jCQcc"
      },
      "source": [
        "**Zadanie na zajęcia**\n",
        "\n",
        "Wyciągnąc tytuły ogłoszeń ze strony https://archiwum.pracuj.pl/archive/offers?Year=2021&Month=1&PageNumber=1 "
      ]
    },
    {
      "cell_type": "code",
      "metadata": {
        "colab": {
          "base_uri": "https://localhost:8080/"
        },
        "id": "n_u6zcjhCVhW",
        "outputId": "3b41bc68-a1b4-4e6a-fe13-a62a4deb813b"
      },
      "source": [
        "read_html(\"https://archiwum.pracuj.pl/archive/offers?Year=2021&Month=1&PageNumber=1\") %>%\n",
        "  html_nodes(\"div.offers_item_link_cnt\") %>%\n",
        "  html_nodes(\"span:first-child\") %>%\n",
        "  html_text() %>%\n",
        "  print()"
      ],
      "execution_count": 20,
      "outputs": [
        {
          "output_type": "stream",
          "text": [
            " [1] \"Samodzielny Spedytor Krajowy - Międzynarodowy\"                        \n",
            " [2] \"Brygadzista Produkcji\"                                                \n",
            " [3] \"Spawacz TIG (do przyuczenia)\"                                         \n",
            " [4] \"Kierowca kat. C+E w międzynarodowym transporcie rzeczy\"               \n",
            " [5] \"Samodzielny Spedytor Krajowy - Międzynarodowy\"                        \n",
            " [6] \"Samodzielny Spedytor Krajowy - Międzynarodowy\"                        \n",
            " [7] \"Samodzielny Spedytor Krajowy - Międzynarodowy\"                        \n",
            " [8] \"Samodzielny Spedytor Krajowy - Międzynarodowy\"                        \n",
            " [9] \"Samodzielny Spedytor Krajowy - Międzynarodowy\"                        \n",
            "[10] \"Samodzielny Spedytor Krajowy - Międzynarodowy\"                        \n",
            "[11] \"Samodzielny Spedytor Krajowy - Międzynarodowy\"                        \n",
            "[12] \"Samodzielny Spedytor Krajowy - Międzynarodowy\"                        \n",
            "[13] \"Samodzielny Spedytor Krajowy - Międzynarodowy\"                        \n",
            "[14] \"Samodzielny Spedytor Krajowy - Międzynarodowy\"                        \n",
            "[15] \"Samodzielny Spedytor Krajowy - Międzynarodowy\"                        \n",
            "[16] \"Samodzielny Spedytor Krajowy - Międzynarodowy\"                        \n",
            "[17] \"Samodzielny Spedytor Krajowy - Międzynarodowy\"                        \n",
            "[18] \"Samodzielny Spedytor Krajowy - Międzynarodowy\"                        \n",
            "[19] \"Samodzielny Spedytor Krajowy - Międzynarodowy\"                        \n",
            "[20] \"Doradca Techniczno-Handlowy\"                                          \n",
            "[21] \"Doradca Techniczno-Handlowy\"                                          \n",
            "[22] \"Doradca Techniczno-Handlowy\"                                          \n",
            "[23] \"Doradca Techniczno-Handlowy\"                                          \n",
            "[24] \"Doradca Techniczno-Handlowy\"                                          \n",
            "[25] \"Doradca Techniczno-Handlowy\"                                          \n",
            "[26] \"Doradca Techniczno-Handlowy\"                                          \n",
            "[27] \"Doradca Techniczno-Handlowy\"                                          \n",
            "[28] \"Hydraulik - Monter instalacji sanitarnych-wentylacyjnych i grzewczych\"\n",
            "[29] \"Doradca Klienta Biznesowego\"                                          \n",
            "[30] \"Doradca Klienta Biznesowego\"                                          \n",
            "[31] \"Doradca Klienta Biznesowego\"                                          \n",
            "[32] \"Doradca Klienta Biznesowego\"                                          \n",
            "[33] \"Doradca Klienta Biznesowego\"                                          \n",
            "[34] \"Elektromonter Instalacji Elektrycznych\"                               \n",
            "[35] \"Doradca Techniczno-Handlowy\"                                          \n",
            "[36] \"Brygadzista\"                                                          \n",
            "[37] \"Baranina - Rzeźnik - Ubojowiec\"                                       \n",
            "[38] \"Baranina - Rzeźnik - Wykrawacz\"                                       \n",
            "[39] \"Wołowina - Rzeźnik - Wykrawacz\"                                       \n",
            "[40] \"Rzeźnik – Trybowanie głów\"                                            \n",
            "[41] \"Kontroler Stoków Dealerskich\"                                         \n",
            "[42] \"Kontroler Stoków Dealerskich\"                                         \n",
            "[43] \"Właściciel sklepu\"                                                    \n",
            "[44] \"Właściciel sklepu\"                                                    \n",
            "[45] \"Właściciel sklepu\"                                                    \n",
            "[46] \"Właściciel sklepu\"                                                    \n",
            "[47] \"Właściciel sklepu\"                                                    \n",
            "[48] \"Właściciel sklepu\"                                                    \n",
            "[49] \"Właściciel sklepu\"                                                    \n",
            "[50] \"Właściciel sklepu\"                                                    \n"
          ],
          "name": "stdout"
        }
      ]
    }
  ]
}