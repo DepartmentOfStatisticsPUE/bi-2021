{
  "nbformat": 4,
  "nbformat_minor": 0,
  "metadata": {
    "colab": {
      "name": "bi_2021_06_07.ipynb",
      "provenance": [],
      "collapsed_sections": [],
      "authorship_tag": "ABX9TyP1GerKls2EVKTw5mv0kS7u",
      "include_colab_link": true
    },
    "kernelspec": {
      "name": "ir",
      "display_name": "R"
    },
    "language_info": {
      "name": "R"
    }
  },
  "cells": [
    {
      "cell_type": "markdown",
      "metadata": {
        "id": "view-in-github",
        "colab_type": "text"
      },
      "source": [
        "<a href=\"https://colab.research.google.com/github/DepartmentOfStatisticsPUE/bi-2021/blob/main/materialy-wyklady/bi_2021_06_07.ipynb\" target=\"_parent\"><img src=\"https://colab.research.google.com/assets/colab-badge.svg\" alt=\"Open In Colab\"/></a>"
      ]
    },
    {
      "cell_type": "markdown",
      "metadata": {
        "id": "w1t6Ps28H_pL"
      },
      "source": [
        "1. Wczytanie danych z pliku `xml` ze strony https://api.tvn24.pl/iframe,deaf53460a0d7ce9bdca0b1147e240eb,22.html#main/sondaz dotyczący wyników sondażu exit poll. \n",
        "\n",
        "LINK: https://api.tvn24.pl/xml/139,33568bbb2a42.xml\n",
        "\n",
        "```\n",
        "<sondaz>\n",
        "<section name=\"wyniki\">\n",
        "<subsection name=\"wyniki\" active=\"1\" wariacje=\"1\">\n",
        "<stopka>\n",
        "<![CDATA[ Ipsos dla TVN24, TVP i Polsatu. Late poll z 90 proc. komisji ]]>\n",
        "</stopka>\n",
        "<partia id=\"pis\" wynik_m2=\"35.7\" wynik=\"37.7\" wynik_p2=\"39.7\"/>\n",
        "<partia id=\"po\" wynik_m2=\"25.6\" wynik=\"23.6\" wynik_p2=\"21.6\"/>\n",
        "<partia id=\"razem\" wynik_m2=\"3.9\" wynik=\"3.9\" wynik_p2=\"3.9\"/>\n",
        "<partia id=\"korwin\" wynik_m2=\"4.9\" wynik=\"4.9\" wynik_p2=\"4.9\"/>\n",
        "<partia id=\"psl\" wynik_m2=\"5.2\" wynik=\"5.2\" wynik_p2=\"5.2\"/>\n",
        "<partia id=\"zl\" wynik_m2=\"7.5\" wynik=\"7.5\" wynik_p2=\"7.5\"/>\n",
        "<partia id=\"kukiz\" wynik_m2=\"8.7\" wynik=\"8.7\" wynik_p2=\"8.7\"/>\n",
        "<partia id=\"nowoczesna\" wynik_m2=\"7.7\" wynik=\"7.7\" wynik_p2=\"7.7\"/>\n",
        "<partia id=\"inna-partia\" wynik_m2=\"0.8\" wynik=\"0.8\" wynik_p2=\"0.8\"/>\n",
        "</subsection>\n",
        "</section>\n",
        "</sondaz>\n",
        "```"
      ]
    },
    {
      "cell_type": "code",
      "metadata": {
        "id": "GLx9Gkz9Ctdk"
      },
      "source": [
        "library(xml2)\n",
        "library(rvest)"
      ],
      "execution_count": 1,
      "outputs": []
    },
    {
      "cell_type": "code",
      "metadata": {
        "colab": {
          "base_uri": "https://localhost:8080/",
          "height": 69
        },
        "id": "rNgd0IFTIym1",
        "outputId": "7deac03c-1548-48b1-ed98-b7a3aa1a7612"
      },
      "source": [
        "sondaz <- read_xml(\"https://api.tvn24.pl/xml/139,33568bbb2a42.xml\")\n",
        "sondaz"
      ],
      "execution_count": 10,
      "outputs": [
        {
          "output_type": "display_data",
          "data": {
            "text/plain": [
              "{xml_document}\n",
              "<sondaz>\n",
              "[1] <section name=\"wyniki\">\\n  <subsection name=\"wyniki\" active=\"1\" wariacje= ..."
            ]
          },
          "metadata": {
            "tags": []
          }
        }
      ]
    },
    {
      "cell_type": "code",
      "metadata": {
        "colab": {
          "base_uri": "https://localhost:8080/"
        },
        "id": "fRJ19q6SI4t8",
        "outputId": "7026c4d6-1b98-4cc6-8bfc-a0b09dbb761f"
      },
      "source": [
        "sondaz %>% \n",
        "  html_nodes(\"partia\") %>% \n",
        "  html_attr(\"wynik\") %>% \n",
        "  print()"
      ],
      "execution_count": 8,
      "outputs": [
        {
          "output_type": "stream",
          "text": [
            "[1] \"37.7\" \"23.6\" \"3.9\"  \"4.9\"  \"5.2\"  \"7.5\"  \"8.7\"  \"7.7\"  \"0.8\" \n"
          ],
          "name": "stdout"
        }
      ]
    },
    {
      "cell_type": "markdown",
      "metadata": {
        "id": "MYan9cstNimj"
      },
      "source": [
        "2. Pobieramy dane ze Spotify z pakietem `spotifyr`"
      ]
    },
    {
      "cell_type": "code",
      "metadata": {
        "colab": {
          "base_uri": "https://localhost:8080/"
        },
        "id": "8YDOIe3YNiXK",
        "outputId": "da561c3b-fdcf-4030-d91c-7defddfa7a0c"
      },
      "source": [
        "devtools::install_github('charlie86/spotifyr')"
      ],
      "execution_count": 11,
      "outputs": [
        {
          "output_type": "stream",
          "text": [
            "Downloading GitHub repo charlie86/spotifyr@HEAD\n",
            "\n"
          ],
          "name": "stderr"
        },
        {
          "output_type": "stream",
          "text": [
            "openssl   (1.4.3 -> 1.4.4 ) [CRAN]\n",
            "snakecase (NA    -> 0.11.0) [CRAN]\n",
            "janitor   (NA    -> 2.1.0 ) [CRAN]\n"
          ],
          "name": "stdout"
        },
        {
          "output_type": "stream",
          "text": [
            "Installing 3 packages: openssl, snakecase, janitor\n",
            "\n",
            "Installing packages into ‘/usr/local/lib/R/site-library’\n",
            "(as ‘lib’ is unspecified)\n",
            "\n"
          ],
          "name": "stderr"
        },
        {
          "output_type": "stream",
          "text": [
            "\u001b[32m✔\u001b[39m  \u001b[90mchecking for file ‘/tmp/RtmpUudDeS/remotes3ae019735/charlie86-spotifyr-1bc55d5/DESCRIPTION’\u001b[39m\u001b[36m\u001b[39m\n",
            "\u001b[90m─\u001b[39m\u001b[90m  \u001b[39m\u001b[90mpreparing ‘spotifyr’:\u001b[39m\u001b[36m\u001b[39m\n",
            "\u001b[32m✔\u001b[39m  \u001b[90mchecking DESCRIPTION meta-information\u001b[39m\u001b[36m\u001b[39m\n",
            "\u001b[90m─\u001b[39m\u001b[90m  \u001b[39m\u001b[90mchecking for LF line-endings in source and make files and shell scripts\u001b[39m\u001b[36m\u001b[39m\n",
            "\u001b[90m─\u001b[39m\u001b[90m  \u001b[39m\u001b[90mchecking for empty or unneeded directories\u001b[39m\u001b[36m\u001b[39m\n",
            "   Omitted ‘LazyData’ from DESCRIPTION\n",
            "\u001b[90m─\u001b[39m\u001b[90m  \u001b[39m\u001b[90mbuilding ‘spotifyr_2.1.1.tar.gz’\u001b[39m\u001b[36m\u001b[39m\n",
            "   \n"
          ],
          "name": "stdout"
        },
        {
          "output_type": "stream",
          "text": [
            "Installing package into ‘/usr/local/lib/R/site-library’\n",
            "(as ‘lib’ is unspecified)\n",
            "\n"
          ],
          "name": "stderr"
        }
      ]
    },
    {
      "cell_type": "code",
      "metadata": {
        "id": "8vFmTdMONwFR"
      },
      "source": [
        "library(spotifyr)\n",
        "library(ggplot2)"
      ],
      "execution_count": 18,
      "outputs": []
    },
    {
      "cell_type": "markdown",
      "metadata": {
        "id": "tTsZaSxaN0Dw"
      },
      "source": [
        "Wpisujemy odpowiednie kody dostępu"
      ]
    },
    {
      "cell_type": "code",
      "metadata": {
        "colab": {
          "base_uri": "https://localhost:8080/",
          "height": 35
        },
        "id": "IxxHx4q4N1rI",
        "outputId": "f4bc2f43-f17f-4fe7-a318-13cdd69325c9"
      },
      "source": [
        "Sys.setenv(SPOTIFY_CLIENT_ID = 'xxx')\n",
        "Sys.setenv(SPOTIFY_CLIENT_SECRET = 'xxx')\n",
        "\n",
        "access_token <- get_spotify_access_token()"
      ],
      "execution_count": 14,
      "outputs": [
        {
          "output_type": "display_data",
          "data": {
            "text/plain": [
              "[1] \"BQD-ua0YFSqUwbfw3uh-UN7VM7tSnaBMA4kDqhPBy20xpbKUjRvci3BzA3qKHIq4mJu_-HPXMzNBz0wRVGA\""
            ],
            "text/latex": "'BQD-ua0YFSqUwbfw3uh-UN7VM7tSnaBMA4kDqhPBy20xpbKUjRvci3BzA3qKHIq4mJu\\_-HPXMzNBz0wRVGA'",
            "text/markdown": "'BQD-ua0YFSqUwbfw3uh-UN7VM7tSnaBMA4kDqhPBy20xpbKUjRvci3BzA3qKHIq4mJu_-HPXMzNBz0wRVGA'",
            "text/html": [
              "'BQD-ua0YFSqUwbfw3uh-UN7VM7tSnaBMA4kDqhPBy20xpbKUjRvci3BzA3qKHIq4mJu_-HPXMzNBz0wRVGA'"
            ]
          },
          "metadata": {
            "tags": []
          }
        }
      ]
    },
    {
      "cell_type": "markdown",
      "metadata": {
        "id": "OSFgXEzGOh8j"
      },
      "source": [
        "Ściągniemy dane dotyczące jakiegoś zespołu."
      ]
    },
    {
      "cell_type": "code",
      "metadata": {
        "colab": {
          "base_uri": "https://localhost:8080/"
        },
        "id": "GdCowehWOkT6",
        "outputId": "15862e83-a54a-4f07-aa62-be47705ef823"
      },
      "source": [
        "satyr <- get_artist_audio_features('satyricon')\n",
        "str(satyr, 1)"
      ],
      "execution_count": 17,
      "outputs": [
        {
          "output_type": "stream",
          "text": [
            "'data.frame':\t196 obs. of  39 variables:\n",
            " $ artist_name                 : chr  \"Satyricon\" \"Satyricon\" \"Satyricon\" \"Satyricon\" ...\n",
            " $ artist_id                   : chr  \"221Rd0FvVxMx7eCbWqjiKd\" \"221Rd0FvVxMx7eCbWqjiKd\" \"221Rd0FvVxMx7eCbWqjiKd\" \"221Rd0FvVxMx7eCbWqjiKd\" ...\n",
            " $ album_id                    : chr  \"1CqVugK1U61uHDGONlHnzy\" \"1CqVugK1U61uHDGONlHnzy\" \"1CqVugK1U61uHDGONlHnzy\" \"1CqVugK1U61uHDGONlHnzy\" ...\n",
            " $ album_type                  : chr  \"album\" \"album\" \"album\" \"album\" ...\n",
            " $ album_images                :List of 196\n",
            " $ album_release_date          : chr  \"2021-05-28\" \"2021-05-28\" \"2021-05-28\" \"2021-05-28\" ...\n",
            " $ album_release_year          : num  2021 2021 2021 2021 2021 ...\n",
            " $ album_release_date_precision: chr  \"day\" \"day\" \"day\" \"day\" ...\n",
            " $ danceability                : num  0.114 0.102 0.181 0.148 0.173 0.203 0.0683 0.211 0.501 0.429 ...\n",
            " $ energy                      : num  0.977 0.956 0.972 0.962 0.99 0.977 0.0796 0.866 0.908 0.746 ...\n",
            " $ key                         : int  4 1 6 9 9 0 0 6 2 7 ...\n",
            " $ loudness                    : num  -5.92 -6.06 -5.25 -5.89 -5.72 ...\n",
            " $ mode                        : int  0 0 0 1 1 1 1 0 1 0 ...\n",
            " $ speechiness                 : num  0.123 0.0846 0.0968 0.0754 0.119 0.125 0.0434 0.0538 0.0576 0.0347 ...\n",
            " $ acousticness                : num  6.47e-05 5.49e-06 3.15e-05 1.07e-04 6.52e-05 1.50e-05 8.81e-01 2.83e-06 1.93e-05 4.88e-06 ...\n",
            " $ instrumentalness            : num  0.501 0.778 0.953 0.265 0.851 0.893 0.837 0.105 0.39 0.783 ...\n",
            " $ liveness                    : num  0.316 0.195 0.111 0.083 0.339 0.222 0.0954 0.139 0.091 0.0915 ...\n",
            " $ valence                     : num  0.0794 0.151 0.0655 0.201 0.0357 0.179 0.0623 0.177 0.31 0.454 ...\n",
            " $ tempo                       : num  166 165 140 144 117 ...\n",
            " $ track_id                    : chr  \"31LJZdWVxmboDQW0kPKZcw\" \"2KfBShNLueJxHBgiUwlyWo\" \"75cYsnCucLssxTvsJD3HJr\" \"0rohAwz7hevez5RvLugYt9\" ...\n",
            " $ analysis_url                : chr  \"https://api.spotify.com/v1/audio-analysis/31LJZdWVxmboDQW0kPKZcw\" \"https://api.spotify.com/v1/audio-analysis/2KfBShNLueJxHBgiUwlyWo\" \"https://api.spotify.com/v1/audio-analysis/75cYsnCucLssxTvsJD3HJr\" \"https://api.spotify.com/v1/audio-analysis/0rohAwz7hevez5RvLugYt9\" ...\n",
            " $ time_signature              : int  3 3 3 4 4 4 4 4 4 4 ...\n",
            " $ artists                     :List of 196\n",
            " $ available_markets           :List of 196\n",
            " $ disc_number                 : int  1 1 1 1 1 1 1 1 1 1 ...\n",
            " $ duration_ms                 : int  507640 481466 373560 314973 565226 374306 325729 380653 292893 367746 ...\n",
            " $ explicit                    : logi  FALSE FALSE FALSE FALSE FALSE FALSE ...\n",
            " $ track_href                  : chr  \"https://api.spotify.com/v1/tracks/31LJZdWVxmboDQW0kPKZcw\" \"https://api.spotify.com/v1/tracks/2KfBShNLueJxHBgiUwlyWo\" \"https://api.spotify.com/v1/tracks/75cYsnCucLssxTvsJD3HJr\" \"https://api.spotify.com/v1/tracks/0rohAwz7hevez5RvLugYt9\" ...\n",
            " $ is_local                    : logi  FALSE FALSE FALSE FALSE FALSE FALSE ...\n",
            " $ track_name                  : chr  \"Hvite Krists Død - Remastered 2021\" \"In the Mist by the Hills - Remastered 2021\" \"Woods to Eternity - Remastered 2021\" \"Vikingland - Remastered 2021\" ...\n",
            " $ track_preview_url           : chr  \"https://p.scdn.co/mp3-preview/61e28ed95b32507ee86ed921abd4db26bf5817d4?cid=c6bc3acbdcd341d09b41a9d9e513aada\" \"https://p.scdn.co/mp3-preview/b5590123211cde01cb42f01df435a354c8ba78c7?cid=c6bc3acbdcd341d09b41a9d9e513aada\" \"https://p.scdn.co/mp3-preview/332bc716ca07d311654d368d7724cc8a8751d195?cid=c6bc3acbdcd341d09b41a9d9e513aada\" \"https://p.scdn.co/mp3-preview/f2352628ae301eac036fdc79e83b163661647f3f?cid=c6bc3acbdcd341d09b41a9d9e513aada\" ...\n",
            " $ track_number                : int  1 2 3 4 5 6 7 1 2 3 ...\n",
            " $ type                        : chr  \"track\" \"track\" \"track\" \"track\" ...\n",
            " $ track_uri                   : chr  \"spotify:track:31LJZdWVxmboDQW0kPKZcw\" \"spotify:track:2KfBShNLueJxHBgiUwlyWo\" \"spotify:track:75cYsnCucLssxTvsJD3HJr\" \"spotify:track:0rohAwz7hevez5RvLugYt9\" ...\n",
            " $ external_urls.spotify       : chr  \"https://open.spotify.com/track/31LJZdWVxmboDQW0kPKZcw\" \"https://open.spotify.com/track/2KfBShNLueJxHBgiUwlyWo\" \"https://open.spotify.com/track/75cYsnCucLssxTvsJD3HJr\" \"https://open.spotify.com/track/0rohAwz7hevez5RvLugYt9\" ...\n",
            " $ album_name                  : chr  \"The Shadowthrone (Remastered 2021)\" \"The Shadowthrone (Remastered 2021)\" \"The Shadowthrone (Remastered 2021)\" \"The Shadowthrone (Remastered 2021)\" ...\n",
            " $ key_name                    : chr  \"E\" \"C#\" \"F#\" \"A\" ...\n",
            " $ mode_name                   : chr  \"minor\" \"minor\" \"minor\" \"major\" ...\n",
            " $ key_mode                    : chr  \"E minor\" \"C# minor\" \"F# minor\" \"A major\" ...\n"
          ],
          "name": "stdout"
        }
      ]
    },
    {
      "cell_type": "code",
      "metadata": {
        "colab": {
          "base_uri": "https://localhost:8080/",
          "height": 437
        },
        "id": "MFSEerAITcOF",
        "outputId": "e2c066bd-513c-4b27-b809-6af0e0b40b25"
      },
      "source": [
        "ggplot(data = satyr, aes(x = as.character(album_release_year), \n",
        "                         y = liveness)) +\n",
        "                         geom_boxplot()"
      ],
      "execution_count": 19,
      "outputs": [
        {
          "output_type": "display_data",
          "data": {
            "image/png": "[encoded data removed]",
            "text/plain": [
              "plot without title"
            ]
          },
          "metadata": {
            "tags": [],
            "image/png": {
              "width": 420,
              "height": 420
            }
          }
        }
      ]
    },
    {
      "cell_type": "code",
      "metadata": {
        "colab": {
          "base_uri": "https://localhost:8080/",
          "height": 437
        },
        "id": "_zuYpY59T2y0",
        "outputId": "5021fb97-a9a7-454f-d051-49dc72695377"
      },
      "source": [
        "ggplot(data = satyr, aes(x = as.character(album_release_year), \n",
        "                         y = loudness)) +\n",
        "                         geom_boxplot()"
      ],
      "execution_count": 20,
      "outputs": [
        {
          "output_type": "display_data",
          "data": {
            "image/png": "[encoded data removed]",
            "text/plain": [
              "plot without title"
            ]
          },
          "metadata": {
            "tags": [],
            "image/png": {
              "width": 420,
              "height": 420
            }
          }
        }
      ]
    }
  ]
}