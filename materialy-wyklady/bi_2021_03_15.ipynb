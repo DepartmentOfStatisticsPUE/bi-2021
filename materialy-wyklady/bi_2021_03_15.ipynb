{
  "nbformat": 4,
  "nbformat_minor": 0,
  "metadata": {
    "colab": {
      "name": "bi-2021-03-15.ipynb",
      "provenance": [],
      "collapsed_sections": [],
      "authorship_tag": "ABX9TyOcSHsOIchpb7POXx/fz1Ra",
      "include_colab_link": true
    },
    "kernelspec": {
      "name": "ir",
      "display_name": "R"
    }
  },
  "cells": [
    {
      "cell_type": "markdown",
      "metadata": {
        "id": "view-in-github",
        "colab_type": "text"
      },
      "source": [
        "<a href=\"https://colab.research.google.com/github/DepartmentOfStatisticsPUE/bi-2021/blob/main/materialy-wyklady/bi_2021_03_15.ipynb\" target=\"_parent\"><img src=\"https://colab.research.google.com/assets/colab-badge.svg\" alt=\"Open In Colab\"/></a>"
      ]
    },
    {
      "cell_type": "markdown",
      "metadata": {
        "id": "B82y4B618NGf"
      },
      "source": [
        "# Badania symulacyjne \n",
        "\n",
        "W ramach przedmiotu Badania Interentowe prowadzimy małe badania symulacyjne na podstawie wybranych artykułów naukowych."
      ]
    },
    {
      "cell_type": "code",
      "metadata": {
        "colab": {
          "base_uri": "https://localhost:8080/",
          "height": 271
        },
        "id": "l6hDecah6_By",
        "outputId": "93284c98-5730-4a7e-f85c-a2b7c339a9f3"
      },
      "source": [
        "set.seed(123) ## konieczne aby mieć powtarzalne wyniki\n",
        "N <- 1000000 ## wielkość populacji\n",
        "X_1 <- rnorm(N, 1,1) ## rozkład zmiennej X_1 ~ N(1,1)\n",
        "X_2 <- rexp(N, 1) ## rozkład zmiennej X_2 ~ Exp(1)\n",
        "epsilon <- rnorm(N) ## rozkład zmiennej epsilon ~ N(0,1)\n",
        "\n",
        "Y_1 <- 1 + X_1 + X_2 + epsilon\n",
        "Y_2 <- 0.5*(X_1 - 0.5)^2 + X_2 + epsilon\n",
        "\n",
        "populacja <- data.frame(id = 1:N, X_1, X_2, Y_1, Y_2)\n",
        "head(populacja)"
      ],
      "execution_count": 2,
      "outputs": [
        {
          "output_type": "display_data",
          "data": {
            "text/plain": [
              "  id X_1       X_2       Y_1      Y_2      \n",
              "1 1  0.4395244 1.6399764 3.856908 2.4192128\n",
              "2 2  0.7698225 0.8362165 2.224028 0.4906076\n",
              "3 3  2.5587083 0.2214909 3.119574 1.6800052\n",
              "4 4  1.0705084 0.6128547 3.090614 1.1828452\n",
              "5 5  1.1292877 0.4650717 4.641065 2.7097784\n",
              "6 6  2.7150650 1.1759146 5.217566 3.9557575"
            ],
            "text/latex": "A data.frame: 6 × 5\n\\begin{tabular}{r|lllll}\n  & id & X\\_1 & X\\_2 & Y\\_1 & Y\\_2\\\\\n  & <int> & <dbl> & <dbl> & <dbl> & <dbl>\\\\\n\\hline\n\t1 & 1 & 0.4395244 & 1.6399764 & 3.856908 & 2.4192128\\\\\n\t2 & 2 & 0.7698225 & 0.8362165 & 2.224028 & 0.4906076\\\\\n\t3 & 3 & 2.5587083 & 0.2214909 & 3.119574 & 1.6800052\\\\\n\t4 & 4 & 1.0705084 & 0.6128547 & 3.090614 & 1.1828452\\\\\n\t5 & 5 & 1.1292877 & 0.4650717 & 4.641065 & 2.7097784\\\\\n\t6 & 6 & 2.7150650 & 1.1759146 & 5.217566 & 3.9557575\\\\\n\\end{tabular}\n",
            "text/markdown": "\nA data.frame: 6 × 5\n\n| <!--/--> | id &lt;int&gt; | X_1 &lt;dbl&gt; | X_2 &lt;dbl&gt; | Y_1 &lt;dbl&gt; | Y_2 &lt;dbl&gt; |\n|---|---|---|---|---|---|\n| 1 | 1 | 0.4395244 | 1.6399764 | 3.856908 | 2.4192128 |\n| 2 | 2 | 0.7698225 | 0.8362165 | 2.224028 | 0.4906076 |\n| 3 | 3 | 2.5587083 | 0.2214909 | 3.119574 | 1.6800052 |\n| 4 | 4 | 1.0705084 | 0.6128547 | 3.090614 | 1.1828452 |\n| 5 | 5 | 1.1292877 | 0.4650717 | 4.641065 | 2.7097784 |\n| 6 | 6 | 2.7150650 | 1.1759146 | 5.217566 | 3.9557575 |\n\n",
            "text/html": [
              "<table class=\"dataframe\">\n",
              "<caption>A data.frame: 6 × 5</caption>\n",
              "<thead>\n",
              "\t<tr><th></th><th scope=col>id</th><th scope=col>X_1</th><th scope=col>X_2</th><th scope=col>Y_1</th><th scope=col>Y_2</th></tr>\n",
              "\t<tr><th></th><th scope=col>&lt;int&gt;</th><th scope=col>&lt;dbl&gt;</th><th scope=col>&lt;dbl&gt;</th><th scope=col>&lt;dbl&gt;</th><th scope=col>&lt;dbl&gt;</th></tr>\n",
              "</thead>\n",
              "<tbody>\n",
              "\t<tr><th scope=row>1</th><td>1</td><td>0.4395244</td><td>1.6399764</td><td>3.856908</td><td>2.4192128</td></tr>\n",
              "\t<tr><th scope=row>2</th><td>2</td><td>0.7698225</td><td>0.8362165</td><td>2.224028</td><td>0.4906076</td></tr>\n",
              "\t<tr><th scope=row>3</th><td>3</td><td>2.5587083</td><td>0.2214909</td><td>3.119574</td><td>1.6800052</td></tr>\n",
              "\t<tr><th scope=row>4</th><td>4</td><td>1.0705084</td><td>0.6128547</td><td>3.090614</td><td>1.1828452</td></tr>\n",
              "\t<tr><th scope=row>5</th><td>5</td><td>1.1292877</td><td>0.4650717</td><td>4.641065</td><td>2.7097784</td></tr>\n",
              "\t<tr><th scope=row>6</th><td>6</td><td>2.7150650</td><td>1.1759146</td><td>5.217566</td><td>3.9557575</td></tr>\n",
              "</tbody>\n",
              "</table>\n"
            ]
          },
          "metadata": {
            "tags": []
          }
        }
      ]
    },
    {
      "cell_type": "markdown",
      "metadata": {
        "id": "Ybla1r7u-7Vx"
      },
      "source": [
        "Tworzymy wektor prawdopodobieństw przynależności do źródła big data."
      ]
    },
    {
      "cell_type": "code",
      "metadata": {
        "colab": {
          "base_uri": "https://localhost:8080/",
          "height": 271
        },
        "id": "U7Vo3Ls8_Cjt",
        "outputId": "ba2541c6-a492-438b-e680-cbc7d5bf643a"
      },
      "source": [
        "populacja$p_1 <- exp(populacja$X_2) / (1 + exp(populacja$X_2))\n",
        "populacja$p_2 <- exp(-0.5 + 0.5*(populacja$X_2-2)^2) / (1 + exp(-0.5 + 0.5*(populacja$X_2-2)^2))\n",
        "head(populacja)"
      ],
      "execution_count": 7,
      "outputs": [
        {
          "output_type": "display_data",
          "data": {
            "text/plain": [
              "  id X_1       X_2       Y_1      Y_2       p_1       p_2      \n",
              "1 1  0.4395244 1.6399764 3.856908 2.4192128 0.8375317 0.3928873\n",
              "2 2  0.7698225 0.8362165 2.224028 0.4906076 0.6976678 0.5441835\n",
              "3 3  2.5587083 0.2214909 3.119574 1.6800052 0.5551475 0.7467867\n",
              "4 4  1.0705084 0.6128547 3.090614 1.1828452 0.6485917 0.6135089\n",
              "5 5  1.1292877 0.4650717 4.641065 2.7097784 0.6142166 0.6632927\n",
              "6 6  2.7150650 1.1759146 5.217566 3.9557575 0.7642124 0.4599754"
            ],
            "text/latex": "A data.frame: 6 × 7\n\\begin{tabular}{r|lllllll}\n  & id & X\\_1 & X\\_2 & Y\\_1 & Y\\_2 & p\\_1 & p\\_2\\\\\n  & <int> & <dbl> & <dbl> & <dbl> & <dbl> & <dbl> & <dbl>\\\\\n\\hline\n\t1 & 1 & 0.4395244 & 1.6399764 & 3.856908 & 2.4192128 & 0.8375317 & 0.3928873\\\\\n\t2 & 2 & 0.7698225 & 0.8362165 & 2.224028 & 0.4906076 & 0.6976678 & 0.5441835\\\\\n\t3 & 3 & 2.5587083 & 0.2214909 & 3.119574 & 1.6800052 & 0.5551475 & 0.7467867\\\\\n\t4 & 4 & 1.0705084 & 0.6128547 & 3.090614 & 1.1828452 & 0.6485917 & 0.6135089\\\\\n\t5 & 5 & 1.1292877 & 0.4650717 & 4.641065 & 2.7097784 & 0.6142166 & 0.6632927\\\\\n\t6 & 6 & 2.7150650 & 1.1759146 & 5.217566 & 3.9557575 & 0.7642124 & 0.4599754\\\\\n\\end{tabular}\n",
            "text/markdown": "\nA data.frame: 6 × 7\n\n| <!--/--> | id &lt;int&gt; | X_1 &lt;dbl&gt; | X_2 &lt;dbl&gt; | Y_1 &lt;dbl&gt; | Y_2 &lt;dbl&gt; | p_1 &lt;dbl&gt; | p_2 &lt;dbl&gt; |\n|---|---|---|---|---|---|---|---|\n| 1 | 1 | 0.4395244 | 1.6399764 | 3.856908 | 2.4192128 | 0.8375317 | 0.3928873 |\n| 2 | 2 | 0.7698225 | 0.8362165 | 2.224028 | 0.4906076 | 0.6976678 | 0.5441835 |\n| 3 | 3 | 2.5587083 | 0.2214909 | 3.119574 | 1.6800052 | 0.5551475 | 0.7467867 |\n| 4 | 4 | 1.0705084 | 0.6128547 | 3.090614 | 1.1828452 | 0.6485917 | 0.6135089 |\n| 5 | 5 | 1.1292877 | 0.4650717 | 4.641065 | 2.7097784 | 0.6142166 | 0.6632927 |\n| 6 | 6 | 2.7150650 | 1.1759146 | 5.217566 | 3.9557575 | 0.7642124 | 0.4599754 |\n\n",
            "text/html": [
              "<table class=\"dataframe\">\n",
              "<caption>A data.frame: 6 × 7</caption>\n",
              "<thead>\n",
              "\t<tr><th></th><th scope=col>id</th><th scope=col>X_1</th><th scope=col>X_2</th><th scope=col>Y_1</th><th scope=col>Y_2</th><th scope=col>p_1</th><th scope=col>p_2</th></tr>\n",
              "\t<tr><th></th><th scope=col>&lt;int&gt;</th><th scope=col>&lt;dbl&gt;</th><th scope=col>&lt;dbl&gt;</th><th scope=col>&lt;dbl&gt;</th><th scope=col>&lt;dbl&gt;</th><th scope=col>&lt;dbl&gt;</th><th scope=col>&lt;dbl&gt;</th></tr>\n",
              "</thead>\n",
              "<tbody>\n",
              "\t<tr><th scope=row>1</th><td>1</td><td>0.4395244</td><td>1.6399764</td><td>3.856908</td><td>2.4192128</td><td>0.8375317</td><td>0.3928873</td></tr>\n",
              "\t<tr><th scope=row>2</th><td>2</td><td>0.7698225</td><td>0.8362165</td><td>2.224028</td><td>0.4906076</td><td>0.6976678</td><td>0.5441835</td></tr>\n",
              "\t<tr><th scope=row>3</th><td>3</td><td>2.5587083</td><td>0.2214909</td><td>3.119574</td><td>1.6800052</td><td>0.5551475</td><td>0.7467867</td></tr>\n",
              "\t<tr><th scope=row>4</th><td>4</td><td>1.0705084</td><td>0.6128547</td><td>3.090614</td><td>1.1828452</td><td>0.6485917</td><td>0.6135089</td></tr>\n",
              "\t<tr><th scope=row>5</th><td>5</td><td>1.1292877</td><td>0.4650717</td><td>4.641065</td><td>2.7097784</td><td>0.6142166</td><td>0.6632927</td></tr>\n",
              "\t<tr><th scope=row>6</th><td>6</td><td>2.7150650</td><td>1.1759146</td><td>5.217566</td><td>3.9557575</td><td>0.7642124</td><td>0.4599754</td></tr>\n",
              "</tbody>\n",
              "</table>\n"
            ]
          },
          "metadata": {
            "tags": []
          }
        }
      ]
    },
    {
      "cell_type": "code",
      "metadata": {
        "colab": {
          "base_uri": "https://localhost:8080/",
          "height": 437
        },
        "id": "EGwUjF8Q1jgY",
        "outputId": "e342bc8e-4be8-4429-b911-1c816dc53378"
      },
      "source": [
        "curve(expr = exp(x)/(1+exp(x)), from = -5, to = 5)\n",
        "curve(expr = exp(-0.5 + 0.5*(x-2))/(1+exp(-0.5 + 0.5*(x-2))), from = -5, to = 5, add = TRUE, col = \"red\")"
      ],
      "execution_count": 10,
      "outputs": [
        {
          "output_type": "display_data",
          "data": {
            "image/png": "[encoded data removed]",
            "text/plain": [
              "plot without title"
            ]
          },
          "metadata": {
            "tags": [],
            "image/png": {
              "width": 420,
              "height": 420
            }
          }
        }
      ]
    },
    {
      "cell_type": "markdown",
      "metadata": {
        "id": "qJvBaiAU3Th7"
      },
      "source": [
        "Celem jest wylosowanie dwóch prób:\n",
        "\n",
        "1. próby losowej o liczebności n=1000\n",
        "2. próby nielosowej według $p_1$ i $p_2$ (uwaga: liczebność próby również będzie zmienną losową)"
      ]
    },
    {
      "cell_type": "code",
      "metadata": {
        "colab": {
          "base_uri": "https://localhost:8080/",
          "height": 271
        },
        "id": "8ZUEWNQR_Wgz",
        "outputId": "90682055-2185-447d-806e-3cac10f6034f"
      },
      "source": [
        "set.seed(123)\n",
        "## próbę nielosową\n",
        "populacja$delta_1 <- rbinom(n = N, prob = populacja$p_1, size = 1) ## rozkład Bernoulliego\n",
        "populacja$delta_2 <- rbinom(n = N, prob = populacja$p_2, size = 1)\n",
        "\n",
        "## próbę losową\n",
        "n <- 1000\n",
        "sample_ind <- sample(1:nrow(populacja), n)\n",
        "populacja$ind <- as.integer(populacja$id %in% sample_ind)\n",
        "head(populacja)"
      ],
      "execution_count": 14,
      "outputs": [
        {
          "output_type": "display_data",
          "data": {
            "text/plain": [
              "  id X_1       X_2       Y_1      Y_2       p_1       p_2       delta_1 delta_2\n",
              "1 1  0.4395244 1.6399764 3.856908 2.4192128 0.8375317 0.3928873 1       0      \n",
              "2 2  0.7698225 0.8362165 2.224028 0.4906076 0.6976678 0.5441835 0       1      \n",
              "3 3  2.5587083 0.2214909 3.119574 1.6800052 0.5551475 0.7467867 1       1      \n",
              "4 4  1.0705084 0.6128547 3.090614 1.1828452 0.6485917 0.6135089 0       0      \n",
              "5 5  1.1292877 0.4650717 4.641065 2.7097784 0.6142166 0.6632927 0       1      \n",
              "6 6  2.7150650 1.1759146 5.217566 3.9557575 0.7642124 0.4599754 1       1      \n",
              "  ind\n",
              "1 0  \n",
              "2 0  \n",
              "3 0  \n",
              "4 0  \n",
              "5 0  \n",
              "6 0  "
            ],
            "text/latex": "A data.frame: 6 × 10\n\\begin{tabular}{r|llllllllll}\n  & id & X\\_1 & X\\_2 & Y\\_1 & Y\\_2 & p\\_1 & p\\_2 & delta\\_1 & delta\\_2 & ind\\\\\n  & <int> & <dbl> & <dbl> & <dbl> & <dbl> & <dbl> & <dbl> & <int> & <int> & <int>\\\\\n\\hline\n\t1 & 1 & 0.4395244 & 1.6399764 & 3.856908 & 2.4192128 & 0.8375317 & 0.3928873 & 1 & 0 & 0\\\\\n\t2 & 2 & 0.7698225 & 0.8362165 & 2.224028 & 0.4906076 & 0.6976678 & 0.5441835 & 0 & 1 & 0\\\\\n\t3 & 3 & 2.5587083 & 0.2214909 & 3.119574 & 1.6800052 & 0.5551475 & 0.7467867 & 1 & 1 & 0\\\\\n\t4 & 4 & 1.0705084 & 0.6128547 & 3.090614 & 1.1828452 & 0.6485917 & 0.6135089 & 0 & 0 & 0\\\\\n\t5 & 5 & 1.1292877 & 0.4650717 & 4.641065 & 2.7097784 & 0.6142166 & 0.6632927 & 0 & 1 & 0\\\\\n\t6 & 6 & 2.7150650 & 1.1759146 & 5.217566 & 3.9557575 & 0.7642124 & 0.4599754 & 1 & 1 & 0\\\\\n\\end{tabular}\n",
            "text/markdown": "\nA data.frame: 6 × 10\n\n| <!--/--> | id &lt;int&gt; | X_1 &lt;dbl&gt; | X_2 &lt;dbl&gt; | Y_1 &lt;dbl&gt; | Y_2 &lt;dbl&gt; | p_1 &lt;dbl&gt; | p_2 &lt;dbl&gt; | delta_1 &lt;int&gt; | delta_2 &lt;int&gt; | ind &lt;int&gt; |\n|---|---|---|---|---|---|---|---|---|---|---|\n| 1 | 1 | 0.4395244 | 1.6399764 | 3.856908 | 2.4192128 | 0.8375317 | 0.3928873 | 1 | 0 | 0 |\n| 2 | 2 | 0.7698225 | 0.8362165 | 2.224028 | 0.4906076 | 0.6976678 | 0.5441835 | 0 | 1 | 0 |\n| 3 | 3 | 2.5587083 | 0.2214909 | 3.119574 | 1.6800052 | 0.5551475 | 0.7467867 | 1 | 1 | 0 |\n| 4 | 4 | 1.0705084 | 0.6128547 | 3.090614 | 1.1828452 | 0.6485917 | 0.6135089 | 0 | 0 | 0 |\n| 5 | 5 | 1.1292877 | 0.4650717 | 4.641065 | 2.7097784 | 0.6142166 | 0.6632927 | 0 | 1 | 0 |\n| 6 | 6 | 2.7150650 | 1.1759146 | 5.217566 | 3.9557575 | 0.7642124 | 0.4599754 | 1 | 1 | 0 |\n\n",
            "text/html": [
              "<table class=\"dataframe\">\n",
              "<caption>A data.frame: 6 × 10</caption>\n",
              "<thead>\n",
              "\t<tr><th></th><th scope=col>id</th><th scope=col>X_1</th><th scope=col>X_2</th><th scope=col>Y_1</th><th scope=col>Y_2</th><th scope=col>p_1</th><th scope=col>p_2</th><th scope=col>delta_1</th><th scope=col>delta_2</th><th scope=col>ind</th></tr>\n",
              "\t<tr><th></th><th scope=col>&lt;int&gt;</th><th scope=col>&lt;dbl&gt;</th><th scope=col>&lt;dbl&gt;</th><th scope=col>&lt;dbl&gt;</th><th scope=col>&lt;dbl&gt;</th><th scope=col>&lt;dbl&gt;</th><th scope=col>&lt;dbl&gt;</th><th scope=col>&lt;int&gt;</th><th scope=col>&lt;int&gt;</th><th scope=col>&lt;int&gt;</th></tr>\n",
              "</thead>\n",
              "<tbody>\n",
              "\t<tr><th scope=row>1</th><td>1</td><td>0.4395244</td><td>1.6399764</td><td>3.856908</td><td>2.4192128</td><td>0.8375317</td><td>0.3928873</td><td>1</td><td>0</td><td>0</td></tr>\n",
              "\t<tr><th scope=row>2</th><td>2</td><td>0.7698225</td><td>0.8362165</td><td>2.224028</td><td>0.4906076</td><td>0.6976678</td><td>0.5441835</td><td>0</td><td>1</td><td>0</td></tr>\n",
              "\t<tr><th scope=row>3</th><td>3</td><td>2.5587083</td><td>0.2214909</td><td>3.119574</td><td>1.6800052</td><td>0.5551475</td><td>0.7467867</td><td>1</td><td>1</td><td>0</td></tr>\n",
              "\t<tr><th scope=row>4</th><td>4</td><td>1.0705084</td><td>0.6128547</td><td>3.090614</td><td>1.1828452</td><td>0.6485917</td><td>0.6135089</td><td>0</td><td>0</td><td>0</td></tr>\n",
              "\t<tr><th scope=row>5</th><td>5</td><td>1.1292877</td><td>0.4650717</td><td>4.641065</td><td>2.7097784</td><td>0.6142166</td><td>0.6632927</td><td>0</td><td>1</td><td>0</td></tr>\n",
              "\t<tr><th scope=row>6</th><td>6</td><td>2.7150650</td><td>1.1759146</td><td>5.217566</td><td>3.9557575</td><td>0.7642124</td><td>0.4599754</td><td>1</td><td>1</td><td>0</td></tr>\n",
              "</tbody>\n",
              "</table>\n"
            ]
          },
          "metadata": {
            "tags": []
          }
        }
      ]
    },
    {
      "cell_type": "markdown",
      "metadata": {
        "id": "YL36ELYH5Cld"
      },
      "source": [
        "Na podstawie badania symulacyjnego chcemy określić jakie jest obciążenie estymatora wartości średniej $Y_1$ wyznaczonego na podstawie 3 prób: 2 nielosowych i 1 losowej. "
      ]
    },
    {
      "cell_type": "code",
      "metadata": {
        "colab": {
          "base_uri": "https://localhost:8080/",
          "height": 123
        },
        "id": "uj5B0SeRAOas",
        "outputId": "f0198457-7f82-4b63-c35f-621a36b0168f"
      },
      "source": [
        "data.frame(\"populacja\" = mean(populacja$Y_1), \n",
        "           \"big_data1\" = mean(populacja$Y_1[populacja$delta_1 == 1]),\n",
        "           \"big_data2\" = mean(populacja$Y_1[populacja$delta_2 == 1]),\n",
        "           \"proba_losowa\" = mean(populacja$Y_1[populacja$ind == 1]))"
      ],
      "execution_count": 15,
      "outputs": [
        {
          "output_type": "display_data",
          "data": {
            "text/plain": [
              "  populacja big_data1 big_data2 proba_losowa\n",
              "1 3.000183  3.186211  2.899971  2.954884    "
            ],
            "text/latex": "A data.frame: 1 × 4\n\\begin{tabular}{llll}\n populacja & big\\_data1 & big\\_data2 & proba\\_losowa\\\\\n <dbl> & <dbl> & <dbl> & <dbl>\\\\\n\\hline\n\t 3.000183 & 3.186211 & 2.899971 & 2.954884\\\\\n\\end{tabular}\n",
            "text/markdown": "\nA data.frame: 1 × 4\n\n| populacja &lt;dbl&gt; | big_data1 &lt;dbl&gt; | big_data2 &lt;dbl&gt; | proba_losowa &lt;dbl&gt; |\n|---|---|---|---|\n| 3.000183 | 3.186211 | 2.899971 | 2.954884 |\n\n",
            "text/html": [
              "<table class=\"dataframe\">\n",
              "<caption>A data.frame: 1 × 4</caption>\n",
              "<thead>\n",
              "\t<tr><th scope=col>populacja</th><th scope=col>big_data1</th><th scope=col>big_data2</th><th scope=col>proba_losowa</th></tr>\n",
              "\t<tr><th scope=col>&lt;dbl&gt;</th><th scope=col>&lt;dbl&gt;</th><th scope=col>&lt;dbl&gt;</th><th scope=col>&lt;dbl&gt;</th></tr>\n",
              "</thead>\n",
              "<tbody>\n",
              "\t<tr><td>3.000183</td><td>3.186211</td><td>2.899971</td><td>2.954884</td></tr>\n",
              "</tbody>\n",
              "</table>\n"
            ]
          },
          "metadata": {
            "tags": []
          }
        }
      ]
    },
    {
      "cell_type": "markdown",
      "metadata": {
        "id": "Xlxo1Zif6JXD"
      },
      "source": [
        "Przeprowadzamy badanie symulacyjne, w którym w każdym przebiegu pętli (od 1 do 500) wykonamy następujące kroki:\n",
        "\n",
        "1. losujemy próbę big data1 ($p_1$)\n",
        "2. losujemy próbę big data2 ($p_2$)\n",
        "3. losujemy próbę SRS ($ind$)\n",
        "4. obliczamy: $\\bar{y}_{1,BD1}$, $\\bar{y}_{1,BD2}$, $\\bar{y}_{1,SRS}$"
      ]
    },
    {
      "cell_type": "code",
      "metadata": {
        "id": "SDEtY4_s6nXP"
      },
      "source": [
        "wyniki <- list()\n",
        "\n",
        "for (i in 1:500) {\n",
        "  set.seed(i)\n",
        "  ## próbę nielosową\n",
        "  populacja$delta_1 <- rbinom(n = N, prob = populacja$p_1, size = 1) ## rozkład Bernoulliego\n",
        "  populacja$delta_2 <- rbinom(n = N, prob = populacja$p_2, size = 1)\n",
        "\n",
        "  ## próbę losową\n",
        "  n <- 1000\n",
        "  sample_ind <- sample(1:nrow(populacja), n)\n",
        "  populacja$ind <- as.integer(populacja$id %in% sample_ind)\n",
        "\n",
        "  wyniki[[i]] <- data.frame(\"BD1\" = mean(populacja$Y_1[populacja$delta_1 == 1]),\n",
        "                            \"BD2\" = mean(populacja$Y_1[populacja$delta_2 == 1]),\n",
        "                            \"SRS\" = mean(populacja$Y_1[populacja$ind == 1]))\n",
        "\n",
        "}\n"
      ],
      "execution_count": 19,
      "outputs": []
    },
    {
      "cell_type": "code",
      "metadata": {
        "colab": {
          "base_uri": "https://localhost:8080/",
          "height": 271
        },
        "id": "GJmJbI6I7CyR",
        "outputId": "dda25830-688f-4657-bce2-4b2d664069ca"
      },
      "source": [
        "wyniki_df <- do.call(\"rbind\", wyniki)\n",
        "head(wyniki_df)"
      ],
      "execution_count": 23,
      "outputs": [
        {
          "output_type": "display_data",
          "data": {
            "text/plain": [
              "  BD1      BD2      SRS     \n",
              "1 3.187156 2.900651 3.119060\n",
              "2 3.186537 2.900962 2.960671\n",
              "3 3.185714 2.901759 2.959227\n",
              "4 3.186803 2.903106 3.018378\n",
              "5 3.185601 2.900391 2.977986\n",
              "6 3.187807 2.900831 3.061523"
            ],
            "text/latex": "A data.frame: 6 × 3\n\\begin{tabular}{r|lll}\n  & BD1 & BD2 & SRS\\\\\n  & <dbl> & <dbl> & <dbl>\\\\\n\\hline\n\t1 & 3.187156 & 2.900651 & 3.119060\\\\\n\t2 & 3.186537 & 2.900962 & 2.960671\\\\\n\t3 & 3.185714 & 2.901759 & 2.959227\\\\\n\t4 & 3.186803 & 2.903106 & 3.018378\\\\\n\t5 & 3.185601 & 2.900391 & 2.977986\\\\\n\t6 & 3.187807 & 2.900831 & 3.061523\\\\\n\\end{tabular}\n",
            "text/markdown": "\nA data.frame: 6 × 3\n\n| <!--/--> | BD1 &lt;dbl&gt; | BD2 &lt;dbl&gt; | SRS &lt;dbl&gt; |\n|---|---|---|---|\n| 1 | 3.187156 | 2.900651 | 3.119060 |\n| 2 | 3.186537 | 2.900962 | 2.960671 |\n| 3 | 3.185714 | 2.901759 | 2.959227 |\n| 4 | 3.186803 | 2.903106 | 3.018378 |\n| 5 | 3.185601 | 2.900391 | 2.977986 |\n| 6 | 3.187807 | 2.900831 | 3.061523 |\n\n",
            "text/html": [
              "<table class=\"dataframe\">\n",
              "<caption>A data.frame: 6 × 3</caption>\n",
              "<thead>\n",
              "\t<tr><th></th><th scope=col>BD1</th><th scope=col>BD2</th><th scope=col>SRS</th></tr>\n",
              "\t<tr><th></th><th scope=col>&lt;dbl&gt;</th><th scope=col>&lt;dbl&gt;</th><th scope=col>&lt;dbl&gt;</th></tr>\n",
              "</thead>\n",
              "<tbody>\n",
              "\t<tr><th scope=row>1</th><td>3.187156</td><td>2.900651</td><td>3.119060</td></tr>\n",
              "\t<tr><th scope=row>2</th><td>3.186537</td><td>2.900962</td><td>2.960671</td></tr>\n",
              "\t<tr><th scope=row>3</th><td>3.185714</td><td>2.901759</td><td>2.959227</td></tr>\n",
              "\t<tr><th scope=row>4</th><td>3.186803</td><td>2.903106</td><td>3.018378</td></tr>\n",
              "\t<tr><th scope=row>5</th><td>3.185601</td><td>2.900391</td><td>2.977986</td></tr>\n",
              "\t<tr><th scope=row>6</th><td>3.187807</td><td>2.900831</td><td>3.061523</td></tr>\n",
              "</tbody>\n",
              "</table>\n"
            ]
          },
          "metadata": {
            "tags": []
          }
        }
      ]
    },
    {
      "cell_type": "code",
      "metadata": {
        "colab": {
          "base_uri": "https://localhost:8080/",
          "height": 437
        },
        "id": "yI6Zn4A6-bi6",
        "outputId": "43d5c9f1-3bf0-4222-af64-6bace983a136"
      },
      "source": [
        "boxplot(wyniki_df)"
      ],
      "execution_count": 24,
      "outputs": [
        {
          "output_type": "display_data",
          "data": {
            "image/png": "[encoded data removed]",
            "text/plain": [
              "plot without title"
            ]
          },
          "metadata": {
            "tags": [],
            "image/png": {
              "width": 420,
              "height": 420
            }
          }
        }
      ]
    },
    {
      "cell_type": "markdown",
      "metadata": {
        "id": "evhrvKU0_IUA"
      },
      "source": [
        "Liczymy trzy miary jakości:\n",
        "\n",
        "1. Obciążenie:\n",
        "\n",
        "$$\n",
        "Bias(\\hat{\\theta}_{BD1}) = \\bar{\\hat{\\theta}}_{BD1} - \\theta\n",
        "$$\n",
        "\n",
        "2. Wariancja\n",
        "\n",
        "$$\n",
        "Var(\\hat{\\theta}_{BD1}) = \\sum_i (\\hat{\\theta}_{BD1} - \n",
        "\\bar{\\hat{\\theta}}_{BD1})^2/n\n",
        "$$\n",
        "\n",
        "3. MSE\n",
        "\n",
        "$$\n",
        "MSE(\\hat{\\theta}_{BD1}) = Bias(\\hat{\\theta}_{BD1})^2 + Var(\\hat{\\theta}_{BD1})\n",
        "$$\n"
      ]
    },
    {
      "cell_type": "code",
      "metadata": {
        "colab": {
          "base_uri": "https://localhost:8080/",
          "height": 182
        },
        "id": "Rg9XYyVp_nvz",
        "outputId": "a9301831-21fe-4994-aa9d-33c1a4a666d4"
      },
      "source": [
        "bias_sim <- colMeans(wyniki_df) - mean(populacja$Y_1) ## wzor 1 \n",
        "var_sim <- sapply(wyniki_df, var) ## wzor 2\n",
        "mse_sim <- bias_sim^2 + var_sim ## wzor 3\n",
        "\n",
        "data.frame(estim = c(\"BD1\", \"BD2\", \"SRS\"), bias = bias_sim, var = var_sim, mse = mse_sim)"
      ],
      "execution_count": 27,
      "outputs": [
        {
          "output_type": "display_data",
          "data": {
            "text/plain": [
              "    estim bias          var          mse        \n",
              "BD1 BD1    0.1864413382 1.101778e-06 0.034761474\n",
              "BD2 BD2   -0.0980788405 1.686126e-06 0.009621145\n",
              "SRS SRS    0.0009558952 2.961441e-03 0.002962354"
            ],
            "text/latex": "A data.frame: 3 × 4\n\\begin{tabular}{r|llll}\n  & estim & bias & var & mse\\\\\n  & <chr> & <dbl> & <dbl> & <dbl>\\\\\n\\hline\n\tBD1 & BD1 &  0.1864413382 & 1.101778e-06 & 0.034761474\\\\\n\tBD2 & BD2 & -0.0980788405 & 1.686126e-06 & 0.009621145\\\\\n\tSRS & SRS &  0.0009558952 & 2.961441e-03 & 0.002962354\\\\\n\\end{tabular}\n",
            "text/markdown": "\nA data.frame: 3 × 4\n\n| <!--/--> | estim &lt;chr&gt; | bias &lt;dbl&gt; | var &lt;dbl&gt; | mse &lt;dbl&gt; |\n|---|---|---|---|---|\n| BD1 | BD1 |  0.1864413382 | 1.101778e-06 | 0.034761474 |\n| BD2 | BD2 | -0.0980788405 | 1.686126e-06 | 0.009621145 |\n| SRS | SRS |  0.0009558952 | 2.961441e-03 | 0.002962354 |\n\n",
            "text/html": [
              "<table class=\"dataframe\">\n",
              "<caption>A data.frame: 3 × 4</caption>\n",
              "<thead>\n",
              "\t<tr><th></th><th scope=col>estim</th><th scope=col>bias</th><th scope=col>var</th><th scope=col>mse</th></tr>\n",
              "\t<tr><th></th><th scope=col>&lt;chr&gt;</th><th scope=col>&lt;dbl&gt;</th><th scope=col>&lt;dbl&gt;</th><th scope=col>&lt;dbl&gt;</th></tr>\n",
              "</thead>\n",
              "<tbody>\n",
              "\t<tr><th scope=row>BD1</th><td>BD1</td><td> 0.1864413382</td><td>1.101778e-06</td><td>0.034761474</td></tr>\n",
              "\t<tr><th scope=row>BD2</th><td>BD2</td><td>-0.0980788405</td><td>1.686126e-06</td><td>0.009621145</td></tr>\n",
              "\t<tr><th scope=row>SRS</th><td>SRS</td><td> 0.0009558952</td><td>2.961441e-03</td><td>0.002962354</td></tr>\n",
              "</tbody>\n",
              "</table>\n"
            ]
          },
          "metadata": {
            "tags": []
          }
        }
      ]
    }
  ]
}