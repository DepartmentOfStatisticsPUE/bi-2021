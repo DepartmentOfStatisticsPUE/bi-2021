{
  "nbformat": 4,
  "nbformat_minor": 0,
  "metadata": {
    "colab": {
      "name": "bi_2021_05_17-rivers.ipynb",
      "provenance": [],
      "collapsed_sections": [],
      "authorship_tag": "ABX9TyObxpA5j4YTZst71heDUhjH",
      "include_colab_link": true
    },
    "kernelspec": {
      "name": "ir",
      "display_name": "R"
    },
    "language_info": {
      "name": "R"
    }
  },
  "cells": [
    {
      "cell_type": "markdown",
      "metadata": {
        "id": "view-in-github",
        "colab_type": "text"
      },
      "source": [
        "<a href=\"https://colab.research.google.com/github/DepartmentOfStatisticsPUE/bi-2021/blob/main/materialy-wyklady/bi_2021_05_17_rivers.ipynb\" target=\"_parent\"><img src=\"https://colab.research.google.com/assets/colab-badge.svg\" alt=\"Open In Colab\"/></a>"
      ]
    },
    {
      "cell_type": "markdown",
      "metadata": {
        "id": "EG_iph6mHHpO"
      },
      "source": [
        "W tym skrypcie zastosujemy metodę opartą na pracy [Rivers, D. (2007). Sampling for web surveys, Proceedings of the Survey Research Methods\n",
        "Section of the American Statistical Association, pp. 1–26.](https://static.texastribune.org/media/documents/Rivers_matching4.pdf). \n",
        "\n",
        "W tym ćwiczeniu porównamy dwa podejścia:\n",
        "\n",
        "1. wykorzystując zmienne $\\mathbf{X}$ do łączenia\n",
        "2. wykorzystując wartości przewidywane $\\hat{y}_i$ na podstawie modelu regresji logistycznej\n",
        "\n",
        "Poszukiwania sąsiadów dokonamy wykorzystując metodę K-D tree dla przybliżonych sąsiadów oprogramowaną w pakiecie `RANN` (funkcja `nn2`), która opiera się na bibliotece [ANN w C++](http://www.cs.umd.edu/~mount/ANN/)."
      ]
    },
    {
      "cell_type": "code",
      "metadata": {
        "id": "1In_8peYGvby"
      },
      "source": [
        "install.packages(\"RANN\")"
      ],
      "execution_count": null,
      "outputs": []
    }
  ]
}