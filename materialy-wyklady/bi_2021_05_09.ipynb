{
  "nbformat": 4,
  "nbformat_minor": 0,
  "metadata": {
    "colab": {
      "name": "bi_2021_05_09.ipynb",
      "provenance": [],
      "collapsed_sections": [],
      "authorship_tag": "ABX9TyNpYYjqfE35qWsXAJkHFemb",
      "include_colab_link": true
    },
    "kernelspec": {
      "name": "ir",
      "display_name": "R"
    },
    "language_info": {
      "name": "R"
    }
  },
  "cells": [
    {
      "cell_type": "markdown",
      "metadata": {
        "id": "view-in-github",
        "colab_type": "text"
      },
      "source": [
        "<a href=\"https://colab.research.google.com/github/DepartmentOfStatisticsPUE/bi-2021/blob/main/materialy-wyklady/bi_2021_05_09.ipynb\" target=\"_parent\"><img src=\"https://colab.research.google.com/assets/colab-badge.svg\" alt=\"Open In Colab\"/></a>"
      ]
    },
    {
      "cell_type": "markdown",
      "metadata": {
        "id": "umyriqI3N_kd"
      },
      "source": [
        "## Podwójnie odporne estymatory -- estymacja\n",
        "\n",
        "W artykule *Chen, Y., Li, P., & Wu, C. (2020). Doubly Robust Inference With Nonprobability Survey Samples. Journal of the American Statistical Association, 115(532), 2011–2021. https://doi.org/10.1080/01621459.2019.1677241* przedstawiono dwa podejścia do estymacji (w przypadku badania na podstawie próby):\n",
        "\n",
        "1. dwukrokowe (kolejność nie ma znaczenia):\n",
        "  + estymacja propensity scores celem uzyskania wektora parametrów $\\boldsymbol{\\lambda}$\n",
        "  + estymacja modelu $E(y_i|\\boldsymbol{x}_i)$ w celu uzyskania wektora parametrów $\\boldsymbol{\\beta}$\n",
        "  + wyznaczenie estymatora DR\n",
        "\n",
        "\\begin{equation}\n",
        "\\hat{\\theta}_{\\mathrm{DR}}=\n",
        "\\overbrace{\n",
        "\\frac{1}{\\hat{N}^A} \n",
        "\\sum_{i=1}^{n^A} \n",
        "\\frac{\n",
        "y_{i}-m\\left(\\hat{\\boldsymbol{\\beta}};\\boldsymbol{x}_{i}\\right)}\n",
        "{\\rho\\left(\\hat{\\boldsymbol{\\lambda}};\\boldsymbol{x}_{i}\\right)}}^{\\text{Średnia ważona reszt z modelu}} \n",
        "+\n",
        "\\overbrace{\n",
        "\\frac{1}{\\hat{N}^B} \n",
        "\\sum_{i=1}^{n^B} \n",
        "m\\left(\\hat{\\boldsymbol{\\beta}}; \\boldsymbol{x}_{i}\\right)}^{\\text{Średnia z predykcji dla całej populacji}},\n",
        "\\end{equation}\n",
        "\n",
        "\n",
        "2. jednokrokowe, w którym jednocześnie rozwiązujemy następujący układ równań\n",
        "\n",
        "\\begin{equation}\n",
        "\\begin{array}{c}\n",
        "\\frac{1}{N} \\sum_{i=1}^{N} R_{i}\\left\\{\\frac{1}{\\rho\\left(\\boldsymbol{\\lambda};\\boldsymbol{x}_{i}\\right)}-1\\right\\}\\left\\{y_{i}-m\\left(\\boldsymbol{\\beta};\\boldsymbol{x}_{i}\\right)\\right\\} \\boldsymbol{x}_{i}=\\mathbf{0} \\\\ \n",
        "\\frac{1}{N} \\sum_{i=1}^{N} \\frac{R_{i}}{\\rho\\left(\\boldsymbol{\\lambda}; \\boldsymbol{x}_{i}\\right)} \\dot{m}\\left(\\boldsymbol{\\beta}; \\boldsymbol{x}_{i}\\right)-\\frac{1}{N} \\sum_{i \\in \\mathcal{S}_{\\mathrm{B}}} d_{i}^{\\mathrm{B}} \\dot{m}\\left(\\boldsymbol{\\beta}; \\boldsymbol{x}_{i}\\right)=\\mathbf{0}\\end{array},\n",
        "\\end{equation}\n",
        "\n",
        "gdzie $\\dot{m}\\left(\\boldsymbol{\\beta}, \\boldsymbol{x}\\right) = \\partial m(\\boldsymbol{\\beta}, \\boldsymbol{x}) /\\partial \\boldsymbol{\\beta}$, czyli w przypadku modelu liniowego: $\\dot{m}\\left(\\boldsymbol{\\beta}, \\boldsymbol{x}\\right)=\\boldsymbol{x}$. \n",
        "\n",
        "Przy czym podejście to zakłada znajomość całej populacji, a estymator wariancji wyznaczony jest wyłącznie dla modelu regresji logistycznej.\n",
        "\n",
        "\n",
        "## Implementacja w R \n",
        "\n",
        "### Propensity score \n",
        "\n",
        "**Na zajęciach skupimy się wyłącznie na pierwszym podejściu**. W pierwszej kolejności wyznaczymy $\\rho(\\boldsymbol{\\lambda}; \\boldsymbol{x}_i)$ rozwiązując następujący układ równań\n",
        "\n",
        "$$\n",
        "U(\\boldsymbol{\\lambda}) = \\frac{\\partial \\log L^*(\\boldsymbol{\\lambda})}{\\partial \\boldsymbol{\\lambda}} = \\sum_{i \\in S_A} \\boldsymbol{x}_i - \\sum_{i \\in S_B} d_i^B \\rho(\\boldsymbol{\\lambda}; \\boldsymbol{x}_i)\\boldsymbol{x}_i.\n",
        "$$\n",
        "\n",
        "\n",
        "który został wyprowadzony w [tym](https://github.com/DepartmentOfStatisticsPUE/bi-2021/blob/main/materialy-wyklady/bi_2021_04_19_chen_li_wu.ipynb) notatniku. Tam również można znaleźć poniższą funkcję:\n",
        "\n",
        "```r\n",
        "propensity_score_Chen_Li_Wu_grad <- function(lambda, x_a, x_b, d_b) {\n",
        "\n",
        "  rho <- exp(x_b %*% lambda) / (1 + exp(x_b %*% lambda))\n",
        "  \n",
        "  ll_grad <- colSums(x_a) - colSums(d*rho*x_b)\n",
        "\n",
        "  return(ll_grad)\n",
        "}\n",
        "```\n",
        "\n",
        "Oznacza to, że:\n",
        "\n",
        "1. musimy określić zmienne $x$,\n",
        "2. napisać funkcję, która przyjmie następujące parametry: $\\boldsymbol{\\lambda}$, $\\boldsymbol{x}$ oraz $d$,\n",
        "3. musimy również określić punkty startowe tj. $\\boldsymbol{\\lambda}_0$. W tym celu skorzystamy z funkcji `glm`,\n",
        "4. do rozwiązania tego układu potrzebujemy funkcji `multiroot` z pakietu `rootSolve`.\n",
        "\n",
        "### Model $E(y|\\boldsymbol{x})$\n",
        "\n",
        "Na potrzeby zajęć przyjmiemy, że $E(y|\\boldsymbol{x}) = m(\\boldsymbol{\\beta}; \\boldsymbol{x})$ ma postać liniową:\n",
        "\n",
        "$$\n",
        "y_i = \\boldsymbol{x}_i^T\\boldsymbol{\\beta}.\n",
        "$$\n",
        "\n",
        "\n",
        "## Komentarz\n",
        "\n",
        "+ na zajęciach nie rozważamy kwestii doboru zmiennych do modelu,\n",
        "+ w praktyce powinniśmy wcześniej wybrać zmienne,\n",
        "+ w tym celu najlepiej wybrać metody oparte na cross walidacji (ang. cross-validation; CV) korzystając np. z LASSO czy SCAD."
      ]
    },
    {
      "cell_type": "markdown",
      "metadata": {
        "id": "aJNZRZwxyv2y"
      },
      "source": [
        "## Instalacja pakietów oraz pobieranie danych"
      ]
    },
    {
      "cell_type": "code",
      "metadata": {
        "colab": {
          "base_uri": "https://localhost:8080/"
        },
        "id": "LmPJ1knvRidF",
        "outputId": "b6dceebd-082a-481e-8426-447eedd524c1"
      },
      "source": [
        "install.packages(\"rootSolve\")"
      ],
      "execution_count": 1,
      "outputs": [
        {
          "output_type": "stream",
          "text": [
            "Installing package into ‘/usr/local/lib/R/site-library’\n",
            "(as ‘lib’ is unspecified)\n",
            "\n"
          ],
          "name": "stderr"
        }
      ]
    },
    {
      "cell_type": "code",
      "metadata": {
        "id": "dpy90zZDy5LJ"
      },
      "source": [
        "library(rootSolve)\n",
        "library(tidyverse)"
      ],
      "execution_count": null,
      "outputs": []
    },
    {
      "cell_type": "markdown",
      "metadata": {
        "id": "PgI4F3vI3H-J"
      },
      "source": [
        "Pobranie danych"
      ]
    },
    {
      "cell_type": "code",
      "metadata": {
        "colab": {
          "base_uri": "https://localhost:8080/",
          "height": 295
        },
        "id": "K_Gy6Hbny9oi",
        "outputId": "a9e50adf-624d-4a59-dffc-949d1534081a"
      },
      "source": [
        "download.file(\"https://raw.githubusercontent.com/DepartmentOfStatisticsPUE/bi-2021/main/data/popyt-zajecia-dane.csv\",\n",
        "              \"popyt-dane.csv\")\n",
        "dane <- read.csv(\"popyt-dane.csv\", stringsAsFactors = FALSE)\n",
        "head(dane)              "
      ],
      "execution_count": 3,
      "outputs": [
        {
          "output_type": "display_data",
          "data": {
            "text/plain": [
              "  id_popyt id_jednostki                             waga sek klasa_pr sekc_pkd\n",
              "1 1        a9cc990df6a99ab215a1bc13f51d4825c7d52d18 1    1   D        O       \n",
              "2 2        a9cc990df6a99ab215a1bc13f51d4825c7d52d18 1    1   D        O       \n",
              "3 3        c9dbaf50890165ebe810aa770de0e9df903dc35b 6    1   D        O       \n",
              "4 4        718e0bba42bcec6ed98f9690db6d26cb7b93c880 1    1   D        R.S     \n",
              "5 5        532a1879a692b9d7bbb7282ba757d028156ef341 1    1   D        R.S     \n",
              "6 6        0b6b623fa45e257284a3049d097af322841337e3 1    1   D        R.S     \n",
              "  woj zawod_kod2 wolne_miejsca id_cbop jedna_zmiana wymiar_40\n",
              "1 14  1          2             NA      NA           NA       \n",
              "2 14  2          7             NA      NA           NA       \n",
              "3 24  2          6             NA      NA           NA       \n",
              "4 14  2          7             NA      NA           NA       \n",
              "5 14  2          6             NA      NA           NA       \n",
              "6 22  2          1             NA      NA           NA       \n",
              "  wolne_miejsca_cbop wolne_miejsca_niepeln_cbop\n",
              "1 NA                 NA                        \n",
              "2 NA                 NA                        \n",
              "3 NA                 NA                        \n",
              "4 NA                 NA                        \n",
              "5 NA                 NA                        \n",
              "6 NA                 NA                        "
            ],
            "text/latex": "A data.frame: 6 × 14\n\\begin{tabular}{r|llllllllllllll}\n  & id\\_popyt & id\\_jednostki & waga & sek & klasa\\_pr & sekc\\_pkd & woj & zawod\\_kod2 & wolne\\_miejsca & id\\_cbop & jedna\\_zmiana & wymiar\\_40 & wolne\\_miejsca\\_cbop & wolne\\_miejsca\\_niepeln\\_cbop\\\\\n  & <int> & <chr> & <int> & <int> & <chr> & <chr> & <int> & <int> & <int> & <int> & <lgl> & <lgl> & <int> & <int>\\\\\n\\hline\n\t1 & 1 & a9cc990df6a99ab215a1bc13f51d4825c7d52d18 & 1 & 1 & D & O   & 14 & 1 & 2 & NA & NA & NA & NA & NA\\\\\n\t2 & 2 & a9cc990df6a99ab215a1bc13f51d4825c7d52d18 & 1 & 1 & D & O   & 14 & 2 & 7 & NA & NA & NA & NA & NA\\\\\n\t3 & 3 & c9dbaf50890165ebe810aa770de0e9df903dc35b & 6 & 1 & D & O   & 24 & 2 & 6 & NA & NA & NA & NA & NA\\\\\n\t4 & 4 & 718e0bba42bcec6ed98f9690db6d26cb7b93c880 & 1 & 1 & D & R.S & 14 & 2 & 7 & NA & NA & NA & NA & NA\\\\\n\t5 & 5 & 532a1879a692b9d7bbb7282ba757d028156ef341 & 1 & 1 & D & R.S & 14 & 2 & 6 & NA & NA & NA & NA & NA\\\\\n\t6 & 6 & 0b6b623fa45e257284a3049d097af322841337e3 & 1 & 1 & D & R.S & 22 & 2 & 1 & NA & NA & NA & NA & NA\\\\\n\\end{tabular}\n",
            "text/markdown": "\nA data.frame: 6 × 14\n\n| <!--/--> | id_popyt &lt;int&gt; | id_jednostki &lt;chr&gt; | waga &lt;int&gt; | sek &lt;int&gt; | klasa_pr &lt;chr&gt; | sekc_pkd &lt;chr&gt; | woj &lt;int&gt; | zawod_kod2 &lt;int&gt; | wolne_miejsca &lt;int&gt; | id_cbop &lt;int&gt; | jedna_zmiana &lt;lgl&gt; | wymiar_40 &lt;lgl&gt; | wolne_miejsca_cbop &lt;int&gt; | wolne_miejsca_niepeln_cbop &lt;int&gt; |\n|---|---|---|---|---|---|---|---|---|---|---|---|---|---|---|\n| 1 | 1 | a9cc990df6a99ab215a1bc13f51d4825c7d52d18 | 1 | 1 | D | O   | 14 | 1 | 2 | NA | NA | NA | NA | NA |\n| 2 | 2 | a9cc990df6a99ab215a1bc13f51d4825c7d52d18 | 1 | 1 | D | O   | 14 | 2 | 7 | NA | NA | NA | NA | NA |\n| 3 | 3 | c9dbaf50890165ebe810aa770de0e9df903dc35b | 6 | 1 | D | O   | 24 | 2 | 6 | NA | NA | NA | NA | NA |\n| 4 | 4 | 718e0bba42bcec6ed98f9690db6d26cb7b93c880 | 1 | 1 | D | R.S | 14 | 2 | 7 | NA | NA | NA | NA | NA |\n| 5 | 5 | 532a1879a692b9d7bbb7282ba757d028156ef341 | 1 | 1 | D | R.S | 14 | 2 | 6 | NA | NA | NA | NA | NA |\n| 6 | 6 | 0b6b623fa45e257284a3049d097af322841337e3 | 1 | 1 | D | R.S | 22 | 2 | 1 | NA | NA | NA | NA | NA |\n\n",
            "text/html": [
              "<table class=\"dataframe\">\n",
              "<caption>A data.frame: 6 × 14</caption>\n",
              "<thead>\n",
              "\t<tr><th></th><th scope=col>id_popyt</th><th scope=col>id_jednostki</th><th scope=col>waga</th><th scope=col>sek</th><th scope=col>klasa_pr</th><th scope=col>sekc_pkd</th><th scope=col>woj</th><th scope=col>zawod_kod2</th><th scope=col>wolne_miejsca</th><th scope=col>id_cbop</th><th scope=col>jedna_zmiana</th><th scope=col>wymiar_40</th><th scope=col>wolne_miejsca_cbop</th><th scope=col>wolne_miejsca_niepeln_cbop</th></tr>\n",
              "\t<tr><th></th><th scope=col>&lt;int&gt;</th><th scope=col>&lt;chr&gt;</th><th scope=col>&lt;int&gt;</th><th scope=col>&lt;int&gt;</th><th scope=col>&lt;chr&gt;</th><th scope=col>&lt;chr&gt;</th><th scope=col>&lt;int&gt;</th><th scope=col>&lt;int&gt;</th><th scope=col>&lt;int&gt;</th><th scope=col>&lt;int&gt;</th><th scope=col>&lt;lgl&gt;</th><th scope=col>&lt;lgl&gt;</th><th scope=col>&lt;int&gt;</th><th scope=col>&lt;int&gt;</th></tr>\n",
              "</thead>\n",
              "<tbody>\n",
              "\t<tr><th scope=row>1</th><td>1</td><td>a9cc990df6a99ab215a1bc13f51d4825c7d52d18</td><td>1</td><td>1</td><td>D</td><td>O  </td><td>14</td><td>1</td><td>2</td><td>NA</td><td>NA</td><td>NA</td><td>NA</td><td>NA</td></tr>\n",
              "\t<tr><th scope=row>2</th><td>2</td><td>a9cc990df6a99ab215a1bc13f51d4825c7d52d18</td><td>1</td><td>1</td><td>D</td><td>O  </td><td>14</td><td>2</td><td>7</td><td>NA</td><td>NA</td><td>NA</td><td>NA</td><td>NA</td></tr>\n",
              "\t<tr><th scope=row>3</th><td>3</td><td>c9dbaf50890165ebe810aa770de0e9df903dc35b</td><td>6</td><td>1</td><td>D</td><td>O  </td><td>24</td><td>2</td><td>6</td><td>NA</td><td>NA</td><td>NA</td><td>NA</td><td>NA</td></tr>\n",
              "\t<tr><th scope=row>4</th><td>4</td><td>718e0bba42bcec6ed98f9690db6d26cb7b93c880</td><td>1</td><td>1</td><td>D</td><td>R.S</td><td>14</td><td>2</td><td>7</td><td>NA</td><td>NA</td><td>NA</td><td>NA</td><td>NA</td></tr>\n",
              "\t<tr><th scope=row>5</th><td>5</td><td>532a1879a692b9d7bbb7282ba757d028156ef341</td><td>1</td><td>1</td><td>D</td><td>R.S</td><td>14</td><td>2</td><td>6</td><td>NA</td><td>NA</td><td>NA</td><td>NA</td><td>NA</td></tr>\n",
              "\t<tr><th scope=row>6</th><td>6</td><td>0b6b623fa45e257284a3049d097af322841337e3</td><td>1</td><td>1</td><td>D</td><td>R.S</td><td>22</td><td>2</td><td>1</td><td>NA</td><td>NA</td><td>NA</td><td>NA</td><td>NA</td></tr>\n",
              "</tbody>\n",
              "</table>\n"
            ]
          },
          "metadata": {
            "tags": []
          }
        }
      ]
    },
    {
      "cell_type": "markdown",
      "metadata": {
        "id": "1pnp_lX4zID3"
      },
      "source": [
        "Przygotowanie danych do estymacji"
      ]
    },
    {
      "cell_type": "code",
      "metadata": {
        "colab": {
          "base_uri": "https://localhost:8080/",
          "height": 310
        },
        "id": "CI0CNG9hzAAB",
        "outputId": "ac231c30-6699-4a6a-9fbb-257ea670bbfe"
      },
      "source": [
        "proba_losowa <- dane %>%\n",
        "  ungroup() %>%\n",
        "  filter(!is.na(id_popyt)) %>%\n",
        "  distinct(id_jednostki, waga, sek, wielk = klasa_pr, pkd = sekc_pkd, woj) \n",
        "\n",
        "proba_nielosowa <- dane %>%\n",
        "  ungroup() %>%\n",
        "  filter(!is.na(id_cbop)) %>%\n",
        "  group_by(id_jednostki, sek, wielk = klasa_pr, pkd = sekc_pkd, woj) %>%\n",
        "  summarise(odsetek = weighted.mean(jedna_zmiana, wolne_miejsca_cbop))\n",
        "\n",
        "\n",
        "dane_estymacja <- bind_rows(\n",
        "  proba_nielosowa %>% \n",
        "      ungroup()  %>%\n",
        "      mutate(proba = 1, waga = 1, sek = factor(sek), woj = factor(woj)),\n",
        "  proba_losowa %>% \n",
        "    ungroup()  %>%\n",
        "    mutate(proba = 0, sek = factor(sek), woj = factor(woj))\n",
        ")\n",
        "\n",
        "head(dane_estymacja)\n",
        "\n",
        "  "
      ],
      "execution_count": 4,
      "outputs": [
        {
          "output_type": "stream",
          "text": [
            "`summarise()` has grouped output by 'id_jednostki', 'sek', 'wielk', 'pkd'. You can override using the `.groups` argument.\n",
            "\n"
          ],
          "name": "stderr"
        },
        {
          "output_type": "display_data",
          "data": {
            "text/plain": [
              "  id_jednostki                             sek wielk pkd woj odsetek proba waga\n",
              "1 000167228537c46b1b084e9c501b065ca42374ce 1   M     Q   8   1       1     1   \n",
              "2 0001d7cc2ffede0b1bde90bd4441d63fda57bcf0 2   M     G   12  0       1     1   \n",
              "3 000be1bfb49ae8082ef18d325c2ca6a7aeb0efe6 2   M     C   22  0       1     1   \n",
              "4 000f0546b2f54d82de8efd89612c2cb9e8728112 2   S     P   12  1       1     1   \n",
              "5 001a4ae4b2153adce49fa5a77825990cbd008419 2   D     G   24  0       1     1   \n",
              "6 0022b78360fff23fb836b05a93cffafa1d951593 2   D     N   4   0       1     1   "
            ],
            "text/latex": "A tibble: 6 × 8\n\\begin{tabular}{llllllll}\n id\\_jednostki & sek & wielk & pkd & woj & odsetek & proba & waga\\\\\n <chr> & <fct> & <chr> & <chr> & <fct> & <dbl> & <dbl> & <dbl>\\\\\n\\hline\n\t 000167228537c46b1b084e9c501b065ca42374ce & 1 & M & Q & 8  & 1 & 1 & 1\\\\\n\t 0001d7cc2ffede0b1bde90bd4441d63fda57bcf0 & 2 & M & G & 12 & 0 & 1 & 1\\\\\n\t 000be1bfb49ae8082ef18d325c2ca6a7aeb0efe6 & 2 & M & C & 22 & 0 & 1 & 1\\\\\n\t 000f0546b2f54d82de8efd89612c2cb9e8728112 & 2 & S & P & 12 & 1 & 1 & 1\\\\\n\t 001a4ae4b2153adce49fa5a77825990cbd008419 & 2 & D & G & 24 & 0 & 1 & 1\\\\\n\t 0022b78360fff23fb836b05a93cffafa1d951593 & 2 & D & N & 4  & 0 & 1 & 1\\\\\n\\end{tabular}\n",
            "text/markdown": "\nA tibble: 6 × 8\n\n| id_jednostki &lt;chr&gt; | sek &lt;fct&gt; | wielk &lt;chr&gt; | pkd &lt;chr&gt; | woj &lt;fct&gt; | odsetek &lt;dbl&gt; | proba &lt;dbl&gt; | waga &lt;dbl&gt; |\n|---|---|---|---|---|---|---|---|\n| 000167228537c46b1b084e9c501b065ca42374ce | 1 | M | Q | 8  | 1 | 1 | 1 |\n| 0001d7cc2ffede0b1bde90bd4441d63fda57bcf0 | 2 | M | G | 12 | 0 | 1 | 1 |\n| 000be1bfb49ae8082ef18d325c2ca6a7aeb0efe6 | 2 | M | C | 22 | 0 | 1 | 1 |\n| 000f0546b2f54d82de8efd89612c2cb9e8728112 | 2 | S | P | 12 | 1 | 1 | 1 |\n| 001a4ae4b2153adce49fa5a77825990cbd008419 | 2 | D | G | 24 | 0 | 1 | 1 |\n| 0022b78360fff23fb836b05a93cffafa1d951593 | 2 | D | N | 4  | 0 | 1 | 1 |\n\n",
            "text/html": [
              "<table class=\"dataframe\">\n",
              "<caption>A tibble: 6 × 8</caption>\n",
              "<thead>\n",
              "\t<tr><th scope=col>id_jednostki</th><th scope=col>sek</th><th scope=col>wielk</th><th scope=col>pkd</th><th scope=col>woj</th><th scope=col>odsetek</th><th scope=col>proba</th><th scope=col>waga</th></tr>\n",
              "\t<tr><th scope=col>&lt;chr&gt;</th><th scope=col>&lt;fct&gt;</th><th scope=col>&lt;chr&gt;</th><th scope=col>&lt;chr&gt;</th><th scope=col>&lt;fct&gt;</th><th scope=col>&lt;dbl&gt;</th><th scope=col>&lt;dbl&gt;</th><th scope=col>&lt;dbl&gt;</th></tr>\n",
              "</thead>\n",
              "<tbody>\n",
              "\t<tr><td>000167228537c46b1b084e9c501b065ca42374ce</td><td>1</td><td>M</td><td>Q</td><td>8 </td><td>1</td><td>1</td><td>1</td></tr>\n",
              "\t<tr><td>0001d7cc2ffede0b1bde90bd4441d63fda57bcf0</td><td>2</td><td>M</td><td>G</td><td>12</td><td>0</td><td>1</td><td>1</td></tr>\n",
              "\t<tr><td>000be1bfb49ae8082ef18d325c2ca6a7aeb0efe6</td><td>2</td><td>M</td><td>C</td><td>22</td><td>0</td><td>1</td><td>1</td></tr>\n",
              "\t<tr><td>000f0546b2f54d82de8efd89612c2cb9e8728112</td><td>2</td><td>S</td><td>P</td><td>12</td><td>1</td><td>1</td><td>1</td></tr>\n",
              "\t<tr><td>001a4ae4b2153adce49fa5a77825990cbd008419</td><td>2</td><td>D</td><td>G</td><td>24</td><td>0</td><td>1</td><td>1</td></tr>\n",
              "\t<tr><td>0022b78360fff23fb836b05a93cffafa1d951593</td><td>2</td><td>D</td><td>N</td><td>4 </td><td>0</td><td>1</td><td>1</td></tr>\n",
              "</tbody>\n",
              "</table>\n"
            ]
          },
          "metadata": {
            "tags": []
          }
        }
      ]
    },
    {
      "cell_type": "markdown",
      "metadata": {
        "id": "me3QUVjx0iIu"
      },
      "source": [
        "## Estymacja propenisty scores"
      ]
    },
    {
      "cell_type": "markdown",
      "metadata": {
        "id": "urCOnFn4zSj-"
      },
      "source": [
        "Określamy punkty startowe wykorzystując funkcję `glm`. Ta funkcja posłuży również do określenia argumentów naszej funkcji tj. `x_a` i `x_b`."
      ]
    },
    {
      "cell_type": "code",
      "metadata": {
        "colab": {
          "base_uri": "https://localhost:8080/",
          "height": 933
        },
        "id": "v8xgH1tezTQ9",
        "outputId": "b8fe19e4-263b-4f5c-e729-b423abfe442c"
      },
      "source": [
        "m1 <- glm(proba ~ woj + wielk + sek + pkd, dane_estymacja, family = binomial, weights = waga)\n",
        "summary(m1)"
      ],
      "execution_count": 5,
      "outputs": [
        {
          "output_type": "display_data",
          "data": {
            "text/plain": [
              "\n",
              "Call:\n",
              "glm(formula = proba ~ woj + wielk + sek + pkd, family = binomial, \n",
              "    data = dane_estymacja, weights = waga)\n",
              "\n",
              "Deviance Residuals: \n",
              "     Min        1Q    Median        3Q       Max  \n",
              "-15.1136   -0.7098    1.5266    1.9084    2.7246  \n",
              "\n",
              "Coefficients:\n",
              "            Estimate Std. Error z value Pr(>|z|)    \n",
              "(Intercept) -1.13143    0.07012 -16.135  < 2e-16 ***\n",
              "woj4         0.59290    0.06493   9.131  < 2e-16 ***\n",
              "woj6         0.22225    0.06806   3.265 0.001093 ** \n",
              "woj8         0.08578    0.08501   1.009 0.312927    \n",
              "woj10       -0.10920    0.06162  -1.772 0.076382 .  \n",
              "woj12       -0.44348    0.05809  -7.634 2.27e-14 ***\n",
              "woj14       -0.66321    0.05202 -12.750  < 2e-16 ***\n",
              "woj16        0.54342    0.07945   6.840 7.93e-12 ***\n",
              "woj18        0.77734    0.06490  11.978  < 2e-16 ***\n",
              "woj20        0.17500    0.08781   1.993 0.046274 *  \n",
              "woj22       -0.01320    0.05762  -0.229 0.818800    \n",
              "woj24       -0.29648    0.05255  -5.641 1.69e-08 ***\n",
              "woj26        0.16736    0.08088   2.069 0.038522 *  \n",
              "woj28        0.41230    0.06452   6.390 1.66e-10 ***\n",
              "woj30       -0.45434    0.05700  -7.971 1.57e-15 ***\n",
              "woj32        0.23648    0.06581   3.593 0.000327 ***\n",
              "wielkM      -0.74697    0.03293 -22.686  < 2e-16 ***\n",
              "wielkS      -0.23290    0.03202  -7.273 3.52e-13 ***\n",
              "sek2         0.05738    0.05480   1.047 0.295114    \n",
              "pkdD.E       0.50407    0.09044   5.573 2.50e-08 ***\n",
              "pkdF        -0.30484    0.04120  -7.399 1.37e-13 ***\n",
              "pkdG        -0.26197    0.03617  -7.243 4.39e-13 ***\n",
              "pkdH        -0.49830    0.05784  -8.615  < 2e-16 ***\n",
              "pkdI         0.30314    0.05435   5.578 2.43e-08 ***\n",
              "pkdJ        -1.20278    0.13482  -8.921  < 2e-16 ***\n",
              "pkdK.L       0.06053    0.07611   0.795 0.426429    \n",
              "pkdM        -0.31623    0.06571  -4.812 1.49e-06 ***\n",
              "pkdN         0.51655    0.06207   8.322  < 2e-16 ***\n",
              "pkdO        -0.47476    0.09023  -5.262 1.43e-07 ***\n",
              "pkdP         0.76149    0.06874  11.078  < 2e-16 ***\n",
              "pkdQ         0.23515    0.06395   3.677 0.000236 ***\n",
              "pkdR.S       0.18383    0.06692   2.747 0.006018 ** \n",
              "---\n",
              "Signif. codes:  0 ‘***’ 0.001 ‘**’ 0.01 ‘*’ 0.05 ‘.’ 0.1 ‘ ’ 1\n",
              "\n",
              "(Dispersion parameter for binomial family taken to be 1)\n",
              "\n",
              "    Null deviance: 52310  on 15866  degrees of freedom\n",
              "Residual deviance: 49108  on 15835  degrees of freedom\n",
              "AIC: 49172\n",
              "\n",
              "Number of Fisher Scoring iterations: 6\n"
            ]
          },
          "metadata": {
            "tags": []
          }
        }
      ]
    },
    {
      "cell_type": "markdown",
      "metadata": {
        "id": "dWedpLPTzahj"
      },
      "source": [
        "Przygotowujemy dane do estymacji metodą PS"
      ]
    },
    {
      "cell_type": "code",
      "metadata": {
        "colab": {
          "base_uri": "https://localhost:8080/"
        },
        "id": "KHz7RkA0zc_E",
        "outputId": "96ea4eb7-2888-470d-c74e-ab9c0a0603c0"
      },
      "source": [
        "X <- model.matrix(m1) ## wyciągamy macierz X z obiektu m1\n",
        "X_a <- X[dane_estymacja$proba == 1, ]\n",
        "X_b <- X[dane_estymacja$proba == 0, ]\n",
        "d_b <- dane_estymacja$waga[dane_estymacja$proba == 0] ## waga tylko dla tych rekordów z próby nielosowej\n",
        "theta_0 <- coef(m1) ## parametry startowe\n",
        "print(theta_0)"
      ],
      "execution_count": 6,
      "outputs": [
        {
          "output_type": "stream",
          "text": [
            "(Intercept)        woj4        woj6        woj8       woj10       woj12 \n",
            "-1.13143144  0.59290290  0.22225067  0.08578418 -0.10919791 -0.44347549 \n",
            "      woj14       woj16       woj18       woj20       woj22       woj24 \n",
            "-0.66320954  0.54342174  0.77734499  0.17499654 -0.01320078 -0.29648025 \n",
            "      woj26       woj28       woj30       woj32      wielkM      wielkS \n",
            " 0.16736498  0.41229717 -0.45433993  0.23647663 -0.74697007 -0.23289845 \n",
            "       sek2      pkdD.E        pkdF        pkdG        pkdH        pkdI \n",
            " 0.05737559  0.50407033 -0.30484161 -0.26197458 -0.49829949  0.30314176 \n",
            "       pkdJ      pkdK.L        pkdM        pkdN        pkdO        pkdP \n",
            "-1.20277711  0.06052943 -0.31623204  0.51655442 -0.47475660  0.76149170 \n",
            "       pkdQ      pkdR.S \n",
            " 0.23515286  0.18382817 \n"
          ],
          "name": "stdout"
        }
      ]
    },
    {
      "cell_type": "markdown",
      "metadata": {
        "id": "dtE1-2683N_f"
      },
      "source": [
        "Funkcja do wyznaczenia PS (gradient)"
      ]
    },
    {
      "cell_type": "code",
      "metadata": {
        "id": "UAugEp5pze7o"
      },
      "source": [
        "propensity_score_Chen_Li_Wu_grad <- function(lambda, x_a, x_b, d_b) {\n",
        "  rho <- as.numeric(exp(x_b %*% lambda) / (1 + exp(x_b %*% lambda)))\n",
        "  ll_grad <- colSums(x_a) - colSums(d_b*rho*x_b)\n",
        "  return(ll_grad)\n",
        "}"
      ],
      "execution_count": 7,
      "outputs": []
    },
    {
      "cell_type": "markdown",
      "metadata": {
        "id": "fP1t4LMYzpKP"
      },
      "source": [
        "Rozwiązujemy układ równań $U(\\boldsymbol{\\lambda}) = \\boldsymbol{0}$. Funkcja `multiroot` zwraca listę z następującymi argumentami \n",
        "\n",
        "+ `root` -- wektor parametrów $\\hat{\\boldsymbol{\\lambda}}$, który spełnia równianie $U(\\hat{\\boldsymbol{\\lambda}}) \\approx \\boldsymbol{0}$,\n",
        "+ `f.root` -- jak blisko wartości zero jesteśmy,\n",
        "+ `iter` -- po ilu iteracjach dochodzimy do celu"
      ]
    },
    {
      "cell_type": "code",
      "metadata": {
        "colab": {
          "base_uri": "https://localhost:8080/"
        },
        "id": "_9Q11VQjzj9R",
        "outputId": "a7547225-2aa6-4089-bdee-ffa370a5d656"
      },
      "source": [
        "rsolve_res <- multiroot(f = propensity_score_Chen_Li_Wu_grad, \n",
        "                        start = theta_0, \n",
        "                        x_a = X_a, x_b = X_b, d_b = d_b)\n",
        "print(rsolve_res)"
      ],
      "execution_count": 11,
      "outputs": [
        {
          "output_type": "stream",
          "text": [
            "$root\n",
            "(Intercept)        woj4        woj6        woj8       woj10       woj12 \n",
            "-0.65277121  0.83779550  0.19953188  0.10479761 -0.15756693 -0.60987005 \n",
            "      woj14       woj16       woj18       woj20       woj22       woj24 \n",
            "-0.84150300  0.76385615  1.17810496  0.22251032 -0.03753066 -0.40670702 \n",
            "      woj26       woj28       woj30       woj32      wielkM      wielkS \n",
            " 0.20287478  0.57862243 -0.61021662  0.32742204 -1.02915884 -0.36412124 \n",
            "       sek2      pkdD.E        pkdF        pkdG        pkdH        pkdI \n",
            " 0.05899377  0.77273741 -0.37783229 -0.33370352 -0.65174566  0.41179116 \n",
            "       pkdJ      pkdK.L        pkdM        pkdN        pkdO        pkdP \n",
            "-1.42637011  0.06171389 -0.40677813  0.80034162 -0.69354695  1.25095429 \n",
            "       pkdQ      pkdR.S \n",
            " 0.30286775  0.22227967 \n",
            "\n",
            "$f.root\n",
            "  (Intercept)          woj4          woj6          woj8         woj10 \n",
            "-1.818989e-12 -2.273737e-13  5.684342e-14  0.000000e+00  1.136868e-13 \n",
            "        woj12         woj14         woj16         woj18         woj20 \n",
            " 0.000000e+00 -2.273737e-13  5.684342e-14  0.000000e+00  0.000000e+00 \n",
            "        woj22         woj24         woj26         woj28         woj30 \n",
            "-1.136868e-13  2.273737e-13  0.000000e+00  1.136868e-13  0.000000e+00 \n",
            "        woj32        wielkM        wielkS          sek2        pkdD.E \n",
            " 0.000000e+00  4.547474e-13  4.547474e-13  9.094947e-13  0.000000e+00 \n",
            "         pkdF          pkdG          pkdH          pkdI          pkdJ \n",
            "-2.273737e-13  0.000000e+00  5.684342e-14  1.136868e-13 -1.421085e-14 \n",
            "       pkdK.L          pkdM          pkdN          pkdO          pkdP \n",
            " 2.842171e-14  0.000000e+00  5.684342e-14  0.000000e+00  0.000000e+00 \n",
            "         pkdQ        pkdR.S \n",
            " 0.000000e+00  5.684342e-14 \n",
            "\n",
            "$iter\n",
            "[1] 5\n",
            "\n",
            "$estim.precis\n",
            "[1] 1.665335e-13\n",
            "\n"
          ],
          "name": "stdout"
        }
      ]
    },
    {
      "cell_type": "markdown",
      "metadata": {
        "id": "8CtMARJB0cyt"
      },
      "source": [
        "## Estymacja modelu E(y|x)"
      ]
    },
    {
      "cell_type": "markdown",
      "metadata": {
        "id": "wcEFJaOj3TzH"
      },
      "source": [
        "Zakładamy model liniowy"
      ]
    },
    {
      "cell_type": "code",
      "metadata": {
        "colab": {
          "base_uri": "https://localhost:8080/",
          "height": 864
        },
        "id": "duaCdpUY0qH3",
        "outputId": "280f8b11-81b4-4431-c62a-64614969371c"
      },
      "source": [
        "m2 <- lm(odsetek ~ sek + wielk + pkd + woj, data = dane_estymacja, subset = proba == 1)\n",
        "summary(m2)"
      ],
      "execution_count": 21,
      "outputs": [
        {
          "output_type": "display_data",
          "data": {
            "text/plain": [
              "\n",
              "Call:\n",
              "lm(formula = odsetek ~ sek + wielk + pkd + woj, data = dane_estymacja, \n",
              "    subset = proba == 1)\n",
              "\n",
              "Residuals:\n",
              "    Min      1Q  Median      3Q     Max \n",
              "-1.0605 -0.4442  0.1073  0.3299  0.8033 \n",
              "\n",
              "Coefficients:\n",
              "             Estimate Std. Error t value Pr(>|t|)    \n",
              "(Intercept)  0.582102   0.025258  23.047  < 2e-16 ***\n",
              "sek2        -0.123613   0.019737  -6.263 3.94e-10 ***\n",
              "wielkM       0.284632   0.012309  23.125  < 2e-16 ***\n",
              "wielkS       0.197199   0.011671  16.897  < 2e-16 ***\n",
              "pkdD.E       0.057101   0.031656   1.804 0.071293 .  \n",
              "pkdF         0.227868   0.015665  14.546  < 2e-16 ***\n",
              "pkdG        -0.094976   0.013632  -6.967 3.46e-12 ***\n",
              "pkdH        -0.127630   0.022239  -5.739 9.82e-09 ***\n",
              "pkdI        -0.230242   0.020005 -11.509  < 2e-16 ***\n",
              "pkdJ         0.164182   0.054519   3.011 0.002607 ** \n",
              "pkdK.L       0.181066   0.028248   6.410 1.53e-10 ***\n",
              "pkdM         0.168925   0.025406   6.649 3.11e-11 ***\n",
              "pkdN        -0.037535   0.022091  -1.699 0.089341 .  \n",
              "pkdO         0.214979   0.033741   6.371 1.96e-10 ***\n",
              "pkdP         0.113401   0.023972   4.731 2.27e-06 ***\n",
              "pkdQ        -0.159495   0.023486  -6.791 1.18e-11 ***\n",
              "pkdR.S      -0.180349   0.025180  -7.162 8.53e-13 ***\n",
              "woj4         0.024242   0.023013   1.053 0.292179    \n",
              "woj6         0.089485   0.024551   3.645 0.000269 ***\n",
              "woj8         0.085512   0.031485   2.716 0.006622 ** \n",
              "woj10        0.069641   0.023215   3.000 0.002709 ** \n",
              "woj12        0.058160   0.021984   2.646 0.008168 ** \n",
              "woj14        0.021554   0.019547   1.103 0.270181    \n",
              "woj16        0.046033   0.028201   1.632 0.102643    \n",
              "woj18        0.027143   0.022974   1.181 0.237460    \n",
              "woj20        0.004021   0.032333   0.124 0.901043    \n",
              "woj22        0.036809   0.021281   1.730 0.083732 .  \n",
              "woj24       -0.031589   0.019888  -1.588 0.112241    \n",
              "woj26        0.057502   0.029993   1.917 0.055249 .  \n",
              "woj28        0.016582   0.023707   0.699 0.484279    \n",
              "woj30        0.021996   0.021648   1.016 0.309622    \n",
              "woj32        0.018835   0.024116   0.781 0.434810    \n",
              "---\n",
              "Signif. codes:  0 ‘***’ 0.001 ‘**’ 0.01 ‘*’ 0.05 ‘.’ 0.1 ‘ ’ 1\n",
              "\n",
              "Residual standard error: 0.4185 on 9312 degrees of freedom\n",
              "Multiple R-squared:  0.1591,\tAdjusted R-squared:  0.1563 \n",
              "F-statistic: 56.81 on 31 and 9312 DF,  p-value: < 2.2e-16\n"
            ]
          },
          "metadata": {
            "tags": []
          }
        }
      ]
    },
    {
      "cell_type": "markdown",
      "metadata": {
        "id": "WODlQGVt1DK5"
      },
      "source": [
        "## Wyznaczamy estymator double robust"
      ]
    },
    {
      "cell_type": "markdown",
      "metadata": {
        "id": "zFl1c50Q1K_K"
      },
      "source": [
        "Część pierwsza równania\n",
        "\n",
        "\\begin{equation}\n",
        "\\frac{1}{\\hat{N}^A} \n",
        "\\sum_{i=1}^{n^A} \n",
        "\\frac{\n",
        "y_{i}-m\\left(\\hat{\\boldsymbol{\\beta}};\\boldsymbol{x}_{i}\\right)}\n",
        "{\\rho\\left(\\hat{\\boldsymbol{\\lambda}};\\boldsymbol{x}_{i}\\right)}\n",
        "\\end{equation}"
      ]
    },
    {
      "cell_type": "code",
      "metadata": {
        "colab": {
          "base_uri": "https://localhost:8080/",
          "height": 35
        },
        "id": "ZQTODvjI1F-y",
        "outputId": "69f11e61-f7b8-4140-9401-35fa966f688a"
      },
      "source": [
        "nielosowa <- dane_estymacja %>% filter(proba == 1)\n",
        "\n",
        "nielosowa <- nielosowa %>% \n",
        "    mutate(rho_Chen_Li_Wu = exp(as.numeric(X_a %*% rsolve_res$root))/(1 + exp(as.numeric(X_a %*% rsolve_res$root))),\n",
        "           waga_Chen_Li_Wu = 1/rho_Chen_Li_Wu,\n",
        "           reszty = resid(m2)) \n",
        "\n",
        "dr_part1 <- weighted.mean(nielosowa$reszty, nielosowa$waga_Chen_Li_Wu)\n",
        "dr_part1"
      ],
      "execution_count": 28,
      "outputs": [
        {
          "output_type": "display_data",
          "data": {
            "text/plain": [
              "[1] -1.392226e-05"
            ],
            "text/latex": "-1.39222633438978e-05",
            "text/markdown": "-1.39222633438978e-05",
            "text/html": [
              "-1.39222633438978e-05"
            ]
          },
          "metadata": {
            "tags": []
          }
        }
      ]
    },
    {
      "cell_type": "markdown",
      "metadata": {
        "id": "8jwtD21q355a"
      },
      "source": [
        "**Co oznacza powyższa wartość?**"
      ]
    },
    {
      "cell_type": "markdown",
      "metadata": {
        "id": "5i-HUwro1W-A"
      },
      "source": [
        "Część druga równania\n",
        "\n",
        "\\begin{equation}\n",
        "\\frac{1}{\\hat{N}^B} \n",
        "\\sum_{i=1}^{n^B} \n",
        "m\\left(\\hat{\\boldsymbol{\\beta}}; \\boldsymbol{x}_{i}\\right)\n",
        "\\end{equation}"
      ]
    },
    {
      "cell_type": "code",
      "metadata": {
        "colab": {
          "base_uri": "https://localhost:8080/",
          "height": 35
        },
        "id": "80lNF2pj1fx_",
        "outputId": "5f8d9ea1-a5f6-4523-a17c-30566f6af794"
      },
      "source": [
        "losowa <- dane_estymacja %>% \n",
        "    filter(proba == 0) %>%\n",
        "    mutate(m_hat = predict(m2, subset(dane_estymacja, proba == 0)))\n",
        "\n",
        "dr_part2 <- weighted.mean(losowa$m_hat, losowa$waga)\n",
        "dr_part2"
      ],
      "execution_count": 25,
      "outputs": [
        {
          "output_type": "display_data",
          "data": {
            "text/plain": [
              "[1] 0.7172375"
            ],
            "text/latex": "0.717237514414162",
            "text/markdown": "0.717237514414162",
            "text/html": [
              "0.717237514414162"
            ]
          },
          "metadata": {
            "tags": []
          }
        }
      ]
    },
    {
      "cell_type": "markdown",
      "metadata": {
        "id": "C0UQApRH1ejo"
      },
      "source": [
        "Razem i porównanie z estymatorem PS"
      ]
    },
    {
      "cell_type": "code",
      "metadata": {
        "colab": {
          "base_uri": "https://localhost:8080/"
        },
        "id": "pWZzX8Oj2u3l",
        "outputId": "d81810b6-b11c-470a-b1ab-554b7562e602"
      },
      "source": [
        "dr <- dr_part1 + dr_part2\n",
        "ps <- weighted.mean(nielosowa$odsetek, nielosowa$waga_Chen_Li_Wu)\n",
        "\n",
        "print(\n",
        "  c(\"0. Naive\" = round(mean(nielosowa$odsetek)*100,2), \n",
        "    \"1. Propenisty score\" = round(ps*100,2), \n",
        "    \"2. Podwójnie odporny\" = round(dr*100, 2))\n",
        ")"
      ],
      "execution_count": 33,
      "outputs": [
        {
          "output_type": "stream",
          "text": [
            "            0. Naive  1. Propenisty score 2. Podwójnie odporny \n",
            "               68.09                72.16                71.72 \n"
          ],
          "name": "stdout"
        }
      ]
    }
  ]
}