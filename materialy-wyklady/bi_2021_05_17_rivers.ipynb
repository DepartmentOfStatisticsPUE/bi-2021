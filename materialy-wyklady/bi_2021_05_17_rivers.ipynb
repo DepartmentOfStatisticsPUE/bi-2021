{
  "nbformat": 4,
  "nbformat_minor": 0,
  "metadata": {
    "colab": {
      "name": "bi_2021_05_17-rivers.ipynb",
      "provenance": [],
      "collapsed_sections": [],
      "authorship_tag": "ABX9TyNCBtP5wKYCbqs4F+u6dD58",
      "include_colab_link": true
    },
    "kernelspec": {
      "name": "ir",
      "display_name": "R"
    },
    "language_info": {
      "name": "R"
    }
  },
  "cells": [
    {
      "cell_type": "markdown",
      "metadata": {
        "id": "view-in-github",
        "colab_type": "text"
      },
      "source": [
        "<a href=\"https://colab.research.google.com/github/DepartmentOfStatisticsPUE/bi-2021/blob/main/materialy-wyklady/bi_2021_05_17_rivers.ipynb\" target=\"_parent\"><img src=\"https://colab.research.google.com/assets/colab-badge.svg\" alt=\"Open In Colab\"/></a>"
      ]
    },
    {
      "cell_type": "markdown",
      "metadata": {
        "id": "u0CsHczIJFmz"
      },
      "source": [
        "# Wstęp"
      ]
    },
    {
      "cell_type": "markdown",
      "metadata": {
        "id": "EG_iph6mHHpO"
      },
      "source": [
        "W tym skrypcie zastosujemy metodę opartą na pracy [Rivers, D. (2007). Sampling for web surveys, Proceedings of the Survey Research Methods\n",
        "Section of the American Statistical Association, pp. 1–26.](https://static.texastribune.org/media/documents/Rivers_matching4.pdf). \n",
        "\n",
        "W tym ćwiczeniu porównamy dwa podejścia:\n",
        "\n",
        "1. wykorzystując zmienne $\\mathbf{X}$ do łączenia\n",
        "2. wykorzystując wartości przewidywane $\\hat{y}_i$ na podstawie modelu regresji logistycznej\n",
        "\n",
        "Poszukiwania sąsiadów dokonamy wykorzystując metodę K-D tree dla przybliżonych sąsiadów oprogramowaną w pakiecie `RANN` (funkcja `nn2`), która opiera się na bibliotece [ANN w C++](http://www.cs.umd.edu/~mount/ANN/)."
      ]
    },
    {
      "cell_type": "markdown",
      "metadata": {
        "id": "V4exOiasJHqk"
      },
      "source": [
        "# Pakiety i dane"
      ]
    },
    {
      "cell_type": "markdown",
      "metadata": {
        "id": "xYOHcx0HI0n_"
      },
      "source": [
        "Instalujemy pakiet"
      ]
    },
    {
      "cell_type": "code",
      "metadata": {
        "colab": {
          "base_uri": "https://localhost:8080/"
        },
        "id": "1In_8peYGvby",
        "outputId": "7776c83f-43d0-4041-db8e-51a8f288c9ab"
      },
      "source": [
        "install.packages(\"RANN\")"
      ],
      "execution_count": 1,
      "outputs": [
        {
          "output_type": "stream",
          "text": [
            "Installing package into ‘/usr/local/lib/R/site-library’\n",
            "(as ‘lib’ is unspecified)\n",
            "\n"
          ],
          "name": "stderr"
        }
      ]
    },
    {
      "cell_type": "markdown",
      "metadata": {
        "id": "Cc-v7Bv1JB2C"
      },
      "source": [
        "Ładujemy pakiety"
      ]
    },
    {
      "cell_type": "code",
      "metadata": {
        "id": "LxrB3rmlJCy2"
      },
      "source": [
        "library(tidyverse) \n",
        "library(RANN) \n",
        "library(MASS)"
      ],
      "execution_count": null,
      "outputs": []
    },
    {
      "cell_type": "markdown",
      "metadata": {
        "id": "5c4sztugI3Gs"
      },
      "source": [
        "Pobieramy dane z zajęć"
      ]
    },
    {
      "cell_type": "code",
      "metadata": {
        "id": "1hqV3DNZI4iF"
      },
      "source": [
        "download.file(\"https://raw.githubusercontent.com/DepartmentOfStatisticsPUE/bi-2021/main/data/popyt-zajecia-dane.csv\",\n",
        "              \"popyt-dane.csv\")"
      ],
      "execution_count": 4,
      "outputs": []
    },
    {
      "cell_type": "code",
      "metadata": {
        "colab": {
          "base_uri": "https://localhost:8080/",
          "height": 295
        },
        "id": "UZjj5343JYGx",
        "outputId": "e117d05b-5e68-445e-ae38-beb098070650"
      },
      "source": [
        "dane <- read.csv(\"popyt-dane.csv\", stringsAsFactors = FALSE) %>%\n",
        "    mutate(woj = as.factor(woj),\n",
        "          zawod_kod2 = as.factor(zawod_kod2))\n",
        "head(dane)"
      ],
      "execution_count": 49,
      "outputs": [
        {
          "output_type": "display_data",
          "data": {
            "text/plain": [
              "  id_popyt id_jednostki                             waga sek klasa_pr sekc_pkd\n",
              "1 1        a9cc990df6a99ab215a1bc13f51d4825c7d52d18 1    1   D        O       \n",
              "2 2        a9cc990df6a99ab215a1bc13f51d4825c7d52d18 1    1   D        O       \n",
              "3 3        c9dbaf50890165ebe810aa770de0e9df903dc35b 6    1   D        O       \n",
              "4 4        718e0bba42bcec6ed98f9690db6d26cb7b93c880 1    1   D        R.S     \n",
              "5 5        532a1879a692b9d7bbb7282ba757d028156ef341 1    1   D        R.S     \n",
              "6 6        0b6b623fa45e257284a3049d097af322841337e3 1    1   D        R.S     \n",
              "  woj zawod_kod2 wolne_miejsca id_cbop jedna_zmiana wymiar_40\n",
              "1 14  1          2             NA      NA           NA       \n",
              "2 14  2          7             NA      NA           NA       \n",
              "3 24  2          6             NA      NA           NA       \n",
              "4 14  2          7             NA      NA           NA       \n",
              "5 14  2          6             NA      NA           NA       \n",
              "6 22  2          1             NA      NA           NA       \n",
              "  wolne_miejsca_cbop wolne_miejsca_niepeln_cbop\n",
              "1 NA                 NA                        \n",
              "2 NA                 NA                        \n",
              "3 NA                 NA                        \n",
              "4 NA                 NA                        \n",
              "5 NA                 NA                        \n",
              "6 NA                 NA                        "
            ],
            "text/latex": "A data.frame: 6 × 14\n\\begin{tabular}{r|llllllllllllll}\n  & id\\_popyt & id\\_jednostki & waga & sek & klasa\\_pr & sekc\\_pkd & woj & zawod\\_kod2 & wolne\\_miejsca & id\\_cbop & jedna\\_zmiana & wymiar\\_40 & wolne\\_miejsca\\_cbop & wolne\\_miejsca\\_niepeln\\_cbop\\\\\n  & <int> & <chr> & <int> & <int> & <chr> & <chr> & <fct> & <fct> & <int> & <int> & <lgl> & <lgl> & <int> & <int>\\\\\n\\hline\n\t1 & 1 & a9cc990df6a99ab215a1bc13f51d4825c7d52d18 & 1 & 1 & D & O   & 14 & 1 & 2 & NA & NA & NA & NA & NA\\\\\n\t2 & 2 & a9cc990df6a99ab215a1bc13f51d4825c7d52d18 & 1 & 1 & D & O   & 14 & 2 & 7 & NA & NA & NA & NA & NA\\\\\n\t3 & 3 & c9dbaf50890165ebe810aa770de0e9df903dc35b & 6 & 1 & D & O   & 24 & 2 & 6 & NA & NA & NA & NA & NA\\\\\n\t4 & 4 & 718e0bba42bcec6ed98f9690db6d26cb7b93c880 & 1 & 1 & D & R.S & 14 & 2 & 7 & NA & NA & NA & NA & NA\\\\\n\t5 & 5 & 532a1879a692b9d7bbb7282ba757d028156ef341 & 1 & 1 & D & R.S & 14 & 2 & 6 & NA & NA & NA & NA & NA\\\\\n\t6 & 6 & 0b6b623fa45e257284a3049d097af322841337e3 & 1 & 1 & D & R.S & 22 & 2 & 1 & NA & NA & NA & NA & NA\\\\\n\\end{tabular}\n",
            "text/markdown": "\nA data.frame: 6 × 14\n\n| <!--/--> | id_popyt &lt;int&gt; | id_jednostki &lt;chr&gt; | waga &lt;int&gt; | sek &lt;int&gt; | klasa_pr &lt;chr&gt; | sekc_pkd &lt;chr&gt; | woj &lt;fct&gt; | zawod_kod2 &lt;fct&gt; | wolne_miejsca &lt;int&gt; | id_cbop &lt;int&gt; | jedna_zmiana &lt;lgl&gt; | wymiar_40 &lt;lgl&gt; | wolne_miejsca_cbop &lt;int&gt; | wolne_miejsca_niepeln_cbop &lt;int&gt; |\n|---|---|---|---|---|---|---|---|---|---|---|---|---|---|---|\n| 1 | 1 | a9cc990df6a99ab215a1bc13f51d4825c7d52d18 | 1 | 1 | D | O   | 14 | 1 | 2 | NA | NA | NA | NA | NA |\n| 2 | 2 | a9cc990df6a99ab215a1bc13f51d4825c7d52d18 | 1 | 1 | D | O   | 14 | 2 | 7 | NA | NA | NA | NA | NA |\n| 3 | 3 | c9dbaf50890165ebe810aa770de0e9df903dc35b | 6 | 1 | D | O   | 24 | 2 | 6 | NA | NA | NA | NA | NA |\n| 4 | 4 | 718e0bba42bcec6ed98f9690db6d26cb7b93c880 | 1 | 1 | D | R.S | 14 | 2 | 7 | NA | NA | NA | NA | NA |\n| 5 | 5 | 532a1879a692b9d7bbb7282ba757d028156ef341 | 1 | 1 | D | R.S | 14 | 2 | 6 | NA | NA | NA | NA | NA |\n| 6 | 6 | 0b6b623fa45e257284a3049d097af322841337e3 | 1 | 1 | D | R.S | 22 | 2 | 1 | NA | NA | NA | NA | NA |\n\n",
            "text/html": [
              "<table class=\"dataframe\">\n",
              "<caption>A data.frame: 6 × 14</caption>\n",
              "<thead>\n",
              "\t<tr><th></th><th scope=col>id_popyt</th><th scope=col>id_jednostki</th><th scope=col>waga</th><th scope=col>sek</th><th scope=col>klasa_pr</th><th scope=col>sekc_pkd</th><th scope=col>woj</th><th scope=col>zawod_kod2</th><th scope=col>wolne_miejsca</th><th scope=col>id_cbop</th><th scope=col>jedna_zmiana</th><th scope=col>wymiar_40</th><th scope=col>wolne_miejsca_cbop</th><th scope=col>wolne_miejsca_niepeln_cbop</th></tr>\n",
              "\t<tr><th></th><th scope=col>&lt;int&gt;</th><th scope=col>&lt;chr&gt;</th><th scope=col>&lt;int&gt;</th><th scope=col>&lt;int&gt;</th><th scope=col>&lt;chr&gt;</th><th scope=col>&lt;chr&gt;</th><th scope=col>&lt;fct&gt;</th><th scope=col>&lt;fct&gt;</th><th scope=col>&lt;int&gt;</th><th scope=col>&lt;int&gt;</th><th scope=col>&lt;lgl&gt;</th><th scope=col>&lt;lgl&gt;</th><th scope=col>&lt;int&gt;</th><th scope=col>&lt;int&gt;</th></tr>\n",
              "</thead>\n",
              "<tbody>\n",
              "\t<tr><th scope=row>1</th><td>1</td><td>a9cc990df6a99ab215a1bc13f51d4825c7d52d18</td><td>1</td><td>1</td><td>D</td><td>O  </td><td>14</td><td>1</td><td>2</td><td>NA</td><td>NA</td><td>NA</td><td>NA</td><td>NA</td></tr>\n",
              "\t<tr><th scope=row>2</th><td>2</td><td>a9cc990df6a99ab215a1bc13f51d4825c7d52d18</td><td>1</td><td>1</td><td>D</td><td>O  </td><td>14</td><td>2</td><td>7</td><td>NA</td><td>NA</td><td>NA</td><td>NA</td><td>NA</td></tr>\n",
              "\t<tr><th scope=row>3</th><td>3</td><td>c9dbaf50890165ebe810aa770de0e9df903dc35b</td><td>6</td><td>1</td><td>D</td><td>O  </td><td>24</td><td>2</td><td>6</td><td>NA</td><td>NA</td><td>NA</td><td>NA</td><td>NA</td></tr>\n",
              "\t<tr><th scope=row>4</th><td>4</td><td>718e0bba42bcec6ed98f9690db6d26cb7b93c880</td><td>1</td><td>1</td><td>D</td><td>R.S</td><td>14</td><td>2</td><td>7</td><td>NA</td><td>NA</td><td>NA</td><td>NA</td><td>NA</td></tr>\n",
              "\t<tr><th scope=row>5</th><td>5</td><td>532a1879a692b9d7bbb7282ba757d028156ef341</td><td>1</td><td>1</td><td>D</td><td>R.S</td><td>14</td><td>2</td><td>6</td><td>NA</td><td>NA</td><td>NA</td><td>NA</td><td>NA</td></tr>\n",
              "\t<tr><th scope=row>6</th><td>6</td><td>0b6b623fa45e257284a3049d097af322841337e3</td><td>1</td><td>1</td><td>D</td><td>R.S</td><td>22</td><td>2</td><td>1</td><td>NA</td><td>NA</td><td>NA</td><td>NA</td><td>NA</td></tr>\n",
              "</tbody>\n",
              "</table>\n"
            ]
          },
          "metadata": {
            "tags": []
          }
        }
      ]
    },
    {
      "cell_type": "markdown",
      "metadata": {
        "id": "2Z8ji6BZJL2d"
      },
      "source": [
        "## Metoda Rivers'a -- łączenie na podstawie zmiennych X"
      ]
    },
    {
      "cell_type": "markdown",
      "metadata": {
        "id": "H6jmccnXKL88"
      },
      "source": [
        "Na tę chwilę założymy, że zbiory są rozłączne!"
      ]
    },
    {
      "cell_type": "code",
      "metadata": {
        "id": "J252CgrOJbr-"
      },
      "source": [
        "proba_nielosowa <- dane %>% filter(is.na(id_popyt))\n",
        "proba_losowa <- dane %>% filter(!is.na(id_popyt))"
      ],
      "execution_count": 50,
      "outputs": []
    },
    {
      "cell_type": "markdown",
      "metadata": {
        "id": "wHAoxM4iJpms"
      },
      "source": [
        "Tworzymy macierz X_A (próba nielosowa) i X_B (próba losowa)"
      ]
    },
    {
      "cell_type": "code",
      "metadata": {
        "colab": {
          "base_uri": "https://localhost:8080/",
          "height": 265
        },
        "id": "zKpJwYKJJpVr",
        "outputId": "732960f3-50b0-4365-dd7e-c350b417bf89"
      },
      "source": [
        "X_A <- model.matrix(~ -1 + sek + klasa_pr + sekc_pkd + woj + zawod_kod2, data = proba_nielosowa)\n",
        "X_B <- model.matrix(~ -1 + sek + klasa_pr + sekc_pkd + woj + zawod_kod2, data = proba_losowa)\n",
        "head(X_B)"
      ],
      "execution_count": 51,
      "outputs": [
        {
          "output_type": "display_data",
          "data": {
            "text/plain": [
              "  sek klasa_prD klasa_prM klasa_prS sekc_pkdD.E sekc_pkdF sekc_pkdG sekc_pkdH\n",
              "1 1   1         0         0         0           0         0         0        \n",
              "2 1   1         0         0         0           0         0         0        \n",
              "3 1   1         0         0         0           0         0         0        \n",
              "4 1   1         0         0         0           0         0         0        \n",
              "5 1   1         0         0         0           0         0         0        \n",
              "6 1   1         0         0         0           0         0         0        \n",
              "  sekc_pkdI sekc_pkdJ ⋯ woj28 woj30 woj32 zawod_kod22 zawod_kod23 zawod_kod24\n",
              "1 0         0         ⋯ 0     0     0     0           0           0          \n",
              "2 0         0         ⋯ 0     0     0     1           0           0          \n",
              "3 0         0         ⋯ 0     0     0     1           0           0          \n",
              "4 0         0         ⋯ 0     0     0     1           0           0          \n",
              "5 0         0         ⋯ 0     0     0     1           0           0          \n",
              "6 0         0         ⋯ 0     0     0     1           0           0          \n",
              "  zawod_kod25 zawod_kod27 zawod_kod28 zawod_kod29\n",
              "1 0           0           0           0          \n",
              "2 0           0           0           0          \n",
              "3 0           0           0           0          \n",
              "4 0           0           0           0          \n",
              "5 0           0           0           0          \n",
              "6 0           0           0           0          "
            ],
            "text/latex": "A matrix: 6 × 39 of type dbl\n\\begin{tabular}{r|lllllllllllllllllllll}\n  & sek & klasa\\_prD & klasa\\_prM & klasa\\_prS & sekc\\_pkdD.E & sekc\\_pkdF & sekc\\_pkdG & sekc\\_pkdH & sekc\\_pkdI & sekc\\_pkdJ & ⋯ & woj28 & woj30 & woj32 & zawod\\_kod22 & zawod\\_kod23 & zawod\\_kod24 & zawod\\_kod25 & zawod\\_kod27 & zawod\\_kod28 & zawod\\_kod29\\\\\n\\hline\n\t1 & 1 & 1 & 0 & 0 & 0 & 0 & 0 & 0 & 0 & 0 & ⋯ & 0 & 0 & 0 & 0 & 0 & 0 & 0 & 0 & 0 & 0\\\\\n\t2 & 1 & 1 & 0 & 0 & 0 & 0 & 0 & 0 & 0 & 0 & ⋯ & 0 & 0 & 0 & 1 & 0 & 0 & 0 & 0 & 0 & 0\\\\\n\t3 & 1 & 1 & 0 & 0 & 0 & 0 & 0 & 0 & 0 & 0 & ⋯ & 0 & 0 & 0 & 1 & 0 & 0 & 0 & 0 & 0 & 0\\\\\n\t4 & 1 & 1 & 0 & 0 & 0 & 0 & 0 & 0 & 0 & 0 & ⋯ & 0 & 0 & 0 & 1 & 0 & 0 & 0 & 0 & 0 & 0\\\\\n\t5 & 1 & 1 & 0 & 0 & 0 & 0 & 0 & 0 & 0 & 0 & ⋯ & 0 & 0 & 0 & 1 & 0 & 0 & 0 & 0 & 0 & 0\\\\\n\t6 & 1 & 1 & 0 & 0 & 0 & 0 & 0 & 0 & 0 & 0 & ⋯ & 0 & 0 & 0 & 1 & 0 & 0 & 0 & 0 & 0 & 0\\\\\n\\end{tabular}\n",
            "text/markdown": "\nA matrix: 6 × 39 of type dbl\n\n| <!--/--> | sek | klasa_prD | klasa_prM | klasa_prS | sekc_pkdD.E | sekc_pkdF | sekc_pkdG | sekc_pkdH | sekc_pkdI | sekc_pkdJ | ⋯ | woj28 | woj30 | woj32 | zawod_kod22 | zawod_kod23 | zawod_kod24 | zawod_kod25 | zawod_kod27 | zawod_kod28 | zawod_kod29 |\n|---|---|---|---|---|---|---|---|---|---|---|---|---|---|---|---|---|---|---|---|---|---|\n| 1 | 1 | 1 | 0 | 0 | 0 | 0 | 0 | 0 | 0 | 0 | ⋯ | 0 | 0 | 0 | 0 | 0 | 0 | 0 | 0 | 0 | 0 |\n| 2 | 1 | 1 | 0 | 0 | 0 | 0 | 0 | 0 | 0 | 0 | ⋯ | 0 | 0 | 0 | 1 | 0 | 0 | 0 | 0 | 0 | 0 |\n| 3 | 1 | 1 | 0 | 0 | 0 | 0 | 0 | 0 | 0 | 0 | ⋯ | 0 | 0 | 0 | 1 | 0 | 0 | 0 | 0 | 0 | 0 |\n| 4 | 1 | 1 | 0 | 0 | 0 | 0 | 0 | 0 | 0 | 0 | ⋯ | 0 | 0 | 0 | 1 | 0 | 0 | 0 | 0 | 0 | 0 |\n| 5 | 1 | 1 | 0 | 0 | 0 | 0 | 0 | 0 | 0 | 0 | ⋯ | 0 | 0 | 0 | 1 | 0 | 0 | 0 | 0 | 0 | 0 |\n| 6 | 1 | 1 | 0 | 0 | 0 | 0 | 0 | 0 | 0 | 0 | ⋯ | 0 | 0 | 0 | 1 | 0 | 0 | 0 | 0 | 0 | 0 |\n\n",
            "text/html": [
              "<table class=\"dataframe\">\n",
              "<caption>A matrix: 6 × 39 of type dbl</caption>\n",
              "<thead>\n",
              "\t<tr><th></th><th scope=col>sek</th><th scope=col>klasa_prD</th><th scope=col>klasa_prM</th><th scope=col>klasa_prS</th><th scope=col>sekc_pkdD.E</th><th scope=col>sekc_pkdF</th><th scope=col>sekc_pkdG</th><th scope=col>sekc_pkdH</th><th scope=col>sekc_pkdI</th><th scope=col>sekc_pkdJ</th><th scope=col>⋯</th><th scope=col>woj28</th><th scope=col>woj30</th><th scope=col>woj32</th><th scope=col>zawod_kod22</th><th scope=col>zawod_kod23</th><th scope=col>zawod_kod24</th><th scope=col>zawod_kod25</th><th scope=col>zawod_kod27</th><th scope=col>zawod_kod28</th><th scope=col>zawod_kod29</th></tr>\n",
              "</thead>\n",
              "<tbody>\n",
              "\t<tr><th scope=row>1</th><td>1</td><td>1</td><td>0</td><td>0</td><td>0</td><td>0</td><td>0</td><td>0</td><td>0</td><td>0</td><td>⋯</td><td>0</td><td>0</td><td>0</td><td>0</td><td>0</td><td>0</td><td>0</td><td>0</td><td>0</td><td>0</td></tr>\n",
              "\t<tr><th scope=row>2</th><td>1</td><td>1</td><td>0</td><td>0</td><td>0</td><td>0</td><td>0</td><td>0</td><td>0</td><td>0</td><td>⋯</td><td>0</td><td>0</td><td>0</td><td>1</td><td>0</td><td>0</td><td>0</td><td>0</td><td>0</td><td>0</td></tr>\n",
              "\t<tr><th scope=row>3</th><td>1</td><td>1</td><td>0</td><td>0</td><td>0</td><td>0</td><td>0</td><td>0</td><td>0</td><td>0</td><td>⋯</td><td>0</td><td>0</td><td>0</td><td>1</td><td>0</td><td>0</td><td>0</td><td>0</td><td>0</td><td>0</td></tr>\n",
              "\t<tr><th scope=row>4</th><td>1</td><td>1</td><td>0</td><td>0</td><td>0</td><td>0</td><td>0</td><td>0</td><td>0</td><td>0</td><td>⋯</td><td>0</td><td>0</td><td>0</td><td>1</td><td>0</td><td>0</td><td>0</td><td>0</td><td>0</td><td>0</td></tr>\n",
              "\t<tr><th scope=row>5</th><td>1</td><td>1</td><td>0</td><td>0</td><td>0</td><td>0</td><td>0</td><td>0</td><td>0</td><td>0</td><td>⋯</td><td>0</td><td>0</td><td>0</td><td>1</td><td>0</td><td>0</td><td>0</td><td>0</td><td>0</td><td>0</td></tr>\n",
              "\t<tr><th scope=row>6</th><td>1</td><td>1</td><td>0</td><td>0</td><td>0</td><td>0</td><td>0</td><td>0</td><td>0</td><td>0</td><td>⋯</td><td>0</td><td>0</td><td>0</td><td>1</td><td>0</td><td>0</td><td>0</td><td>0</td><td>0</td><td>0</td></tr>\n",
              "</tbody>\n",
              "</table>\n"
            ]
          },
          "metadata": {
            "tags": []
          }
        }
      ]
    },
    {
      "cell_type": "code",
      "metadata": {
        "colab": {
          "base_uri": "https://localhost:8080/",
          "height": 52
        },
        "id": "564YhH0XJ-qc",
        "outputId": "0d4a09c6-fb96-425d-9361-8ce0d7588037"
      },
      "source": [
        "dim(X_A)\n",
        "dim(X_B)"
      ],
      "execution_count": 52,
      "outputs": [
        {
          "output_type": "display_data",
          "data": {
            "text/plain": [
              "[1] 10972    39"
            ],
            "text/latex": "\\begin{enumerate*}\n\\item 10972\n\\item 39\n\\end{enumerate*}\n",
            "text/markdown": "1. 10972\n2. 39\n\n\n",
            "text/html": [
              "<style>\n",
              ".list-inline {list-style: none; margin:0; padding: 0}\n",
              ".list-inline>li {display: inline-block}\n",
              ".list-inline>li:not(:last-child)::after {content: \"\\00b7\"; padding: 0 .5ex}\n",
              "</style>\n",
              "<ol class=list-inline><li>10972</li><li>39</li></ol>\n"
            ]
          },
          "metadata": {
            "tags": []
          }
        },
        {
          "output_type": "display_data",
          "data": {
            "text/plain": [
              "[1] 9974   39"
            ],
            "text/latex": "\\begin{enumerate*}\n\\item 9974\n\\item 39\n\\end{enumerate*}\n",
            "text/markdown": "1. 9974\n2. 39\n\n\n",
            "text/html": [
              "<style>\n",
              ".list-inline {list-style: none; margin:0; padding: 0}\n",
              ".list-inline>li {display: inline-block}\n",
              ".list-inline>li:not(:last-child)::after {content: \"\\00b7\"; padding: 0 .5ex}\n",
              "</style>\n",
              "<ol class=list-inline><li>9974</li><li>39</li></ol>\n"
            ]
          },
          "metadata": {
            "tags": []
          }
        }
      ]
    },
    {
      "cell_type": "markdown",
      "metadata": {
        "id": "Ms9bZW2UJ6fO"
      },
      "source": [
        "W zbiorze A mamy 10972 obserwacje, a zbiorze B 9974. Oznacza to, że musimy znaleźć 9974 jednostek ze zbioru A dla jednostek ze zbioru B (mogą się powtarzać)."
      ]
    },
    {
      "cell_type": "code",
      "metadata": {
        "colab": {
          "base_uri": "https://localhost:8080/"
        },
        "id": "M5O_PXiBJlsD",
        "outputId": "8e2f42cf-20df-4ed7-9a85-beb029468326"
      },
      "source": [
        "sasiedzi <- nn2(data = X_A, query = X_B, k = 1)\n",
        "str(sasiedzi,1)"
      ],
      "execution_count": 53,
      "outputs": [
        {
          "output_type": "stream",
          "text": [
            "List of 2\n",
            " $ nn.idx  : int [1:9974, 1] 9509 1293 603 3148 3148 8203 7651 8203 6687 10723 ...\n",
            " $ nn.dists: num [1:9974, 1] 1 0 0 0 0 ...\n"
          ],
          "name": "stdout"
        }
      ]
    },
    {
      "cell_type": "markdown",
      "metadata": {
        "id": "mhPv5_O6KovC"
      },
      "source": [
        "Funkcja `nn2` zwraca listę składającą się z dwóch wektorów:\n",
        "\n",
        "+ `nn.indx` -- indeksy (numery wierszy) ze zbioru `X_A`,\n",
        "+ `nn.dists` -- odległości między sąsiadami ze zbiorów `X_A` i `X_B` "
      ]
    },
    {
      "cell_type": "markdown",
      "metadata": {
        "id": "Mutav-h-LUZE"
      },
      "source": [
        "Wyznaczamy teraz estymator $\\hat{\\theta}_{M1}$ czyli chcemy poznać odsetek podmiotów poszukujących pracowników na jedną zmianę."
      ]
    },
    {
      "cell_type": "code",
      "metadata": {
        "colab": {
          "base_uri": "https://localhost:8080/"
        },
        "id": "J6TlJBLhK9mh",
        "outputId": "0b3cd22e-e035-4fd9-b29d-12c7c05bc36d"
      },
      "source": [
        "indeksy <- sasiedzi$nn.idx[,1]\n",
        "y <- proba_nielosowa$jedna_zmiana[indeksy]\n",
        "naiwny <- weighted.mean(proba_nielosowa$jedna_zmiana, proba_nielosowa$wolne_miejsca_cbop)\n",
        "theta_1 <- weighted.mean(y, proba_losowa$waga*proba_losowa$wolne_miejsca)\n",
        "print(c(naiwny = naiwny, theta_1 = theta_1))"
      ],
      "execution_count": 54,
      "outputs": [
        {
          "output_type": "stream",
          "text": [
            "   naiwny   theta_1 \n",
            "0.5204615 0.7216355 \n"
          ],
          "name": "stdout"
        }
      ]
    },
    {
      "cell_type": "markdown",
      "metadata": {
        "id": "85O-8R61N-by"
      },
      "source": [
        "Oznacza to, że około 72% podmiotów poszukuje pracowników do pracy na jedną zmianę. Gdybyśmy wykorzystali wyłącznie dane z CBOP ten odstek wynosiłby 52%. Porówjamy teraz wyniki z wykorzystaniem łączenia na podstawie $\\hat{y}$."
      ]
    },
    {
      "cell_type": "markdown",
      "metadata": {
        "id": "9qn44sVkJPq4"
      },
      "source": [
        "## Metoda Rivers'a -- łączenie na podstawie $\\hat{y}$"
      ]
    },
    {
      "cell_type": "markdown",
      "metadata": {
        "id": "YUBuvjPXMyqH"
      },
      "source": [
        "Budujemy model"
      ]
    },
    {
      "cell_type": "code",
      "metadata": {
        "colab": {
          "base_uri": "https://localhost:8080/",
          "height": 86
        },
        "id": "ivlxsTwSMOFV",
        "outputId": "ad7ca56f-926f-45cf-d4a6-12e81b9525ee"
      },
      "source": [
        "model_a <- glm(formula = jedna_zmiana ~ sek + klasa_pr + sekc_pkd + woj + zawod_kod2, \n",
        "               data = proba_nielosowa,\n",
        "               family = binomial(),\n",
        "               weights = proba_nielosowa$wolne_miejsca_cbop)\n",
        "\n",
        "y_hat_b <- fitted(model_a)\n",
        "y_hat_b <- predict(model_a, proba_losowa, type = \"response\")\n",
        "\n",
        "summary(y_hat_b)\n",
        "summary(y_hat_a)"
      ],
      "execution_count": 55,
      "outputs": [
        {
          "output_type": "display_data",
          "data": {
            "text/plain": [
              "   Min. 1st Qu.  Median    Mean 3rd Qu.    Max. \n",
              "0.04645 0.27988 0.49770 0.53685 0.81273 0.99871 "
            ]
          },
          "metadata": {
            "tags": []
          }
        },
        {
          "output_type": "display_data",
          "data": {
            "text/plain": [
              "   Min. 1st Qu.  Median    Mean 3rd Qu.    Max. \n",
              "0.08782 0.26598 0.39881 0.50140 0.76689 0.99081 "
            ]
          },
          "metadata": {
            "tags": []
          }
        }
      ]
    },
    {
      "cell_type": "markdown",
      "metadata": {
        "id": "AKdKIg_BMz3D"
      },
      "source": [
        "Szukamy sąsiadów na podstawie wartości przewidywanych"
      ]
    },
    {
      "cell_type": "code",
      "metadata": {
        "colab": {
          "base_uri": "https://localhost:8080/"
        },
        "id": "kd6E4N_gMxsz",
        "outputId": "70eb4293-7dab-4153-ea7d-44f73ae70670"
      },
      "source": [
        "sasiedzi_hat <- nn2(data = y_hat_a, query = y_hat_b, k = 1)\n",
        "str(sasiedzi_hat,1)"
      ],
      "execution_count": 56,
      "outputs": [
        {
          "output_type": "stream",
          "text": [
            "List of 2\n",
            " $ nn.idx  : int [1:9974, 1] 6698 2328 6992 3757 3757 2412 4482 741 3242 788 ...\n",
            " $ nn.dists: num [1:9974, 1] 1.03e-04 5.37e-06 6.49e-05 4.27e-04 4.27e-04 ...\n"
          ],
          "name": "stdout"
        }
      ]
    },
    {
      "cell_type": "markdown",
      "metadata": {
        "id": "8HqrHJcANPm5"
      },
      "source": [
        "Estymator"
      ]
    },
    {
      "cell_type": "code",
      "metadata": {
        "colab": {
          "base_uri": "https://localhost:8080/"
        },
        "id": "CTrOYLNyNRDw",
        "outputId": "a78673f0-42a5-40b9-d6f6-94e0796e842d"
      },
      "source": [
        "indeksy_hat <- sasiedzi_hat$nn.idx[,1]\n",
        "y_hat <- proba_nielosowa$jedna_zmiana[indeksy_hat]\n",
        "theta_2 <- weighted.mean(y_hat, proba_losowa$waga*proba_losowa$wolne_miejsca)\n",
        "print(c(naiwny = naiwny, theta_1 = theta_1, theta_2 = theta_2))"
      ],
      "execution_count": 57,
      "outputs": [
        {
          "output_type": "stream",
          "text": [
            "   naiwny   theta_1   theta_2 \n",
            "0.5204615 0.7216355 0.6733063 \n"
          ],
          "name": "stdout"
        }
      ]
    },
    {
      "cell_type": "markdown",
      "metadata": {
        "id": "r8oAqCp3PAM-"
      },
      "source": [
        "Wykorzystując podejście oparte na wartościach przewidywanych ($\\hat{y}$) otrzymujemy oszacowanie niższe tj. 67% ale mając na względzie obciążenie $O_p (n^{1/2-1/p})$ bardziej ufamy wynikowi na podstawie wartości przewidywanych."
      ]
    }
  ]
}