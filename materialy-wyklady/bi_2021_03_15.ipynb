{
  "nbformat": 4,
  "nbformat_minor": 0,
  "metadata": {
    "colab": {
      "name": "bi-2021-03-15.ipynb",
      "provenance": [],
      "collapsed_sections": [],
      "authorship_tag": "ABX9TyMvEEuCeWa96mSnUiL9PQlj",
      "include_colab_link": true
    },
    "kernelspec": {
      "name": "ir",
      "display_name": "R"
    }
  },
  "cells": [
    {
      "cell_type": "markdown",
      "metadata": {
        "id": "view-in-github",
        "colab_type": "text"
      },
      "source": [
        "<a href=\"https://colab.research.google.com/github/DepartmentOfStatisticsPUE/bi-2021/blob/main/materialy-wyklady/bi_2021_03_15.ipynb\" target=\"_parent\"><img src=\"https://colab.research.google.com/assets/colab-badge.svg\" alt=\"Open In Colab\"/></a>"
      ]
    },
    {
      "cell_type": "markdown",
      "metadata": {
        "id": "B82y4B618NGf"
      },
      "source": [
        "# Badania symulacyjne \n",
        "\n",
        "W ramach przedmiotu Badania Interentowe prowadzimy małe badania symulacyjne na podstawie wybranych artykułów naukowych."
      ]
    },
    {
      "cell_type": "code",
      "metadata": {
        "colab": {
          "base_uri": "https://localhost:8080/",
          "height": 271
        },
        "id": "l6hDecah6_By",
        "outputId": "9d9eda65-f32a-48dc-bab2-9cae14be2960"
      },
      "source": [
        "set.seed(123) ## konieczne aby mieć powtarzalne wyniki\n",
        "N <- 1000000 ## wielkość populacji\n",
        "X_1 <- rnorm(N, 1,1) ## rozkład zmiennej X_1 ~ N(1,1)\n",
        "X_2 <- rexp(N, 1) ## rozkład zmiennej X_2 ~ Exp(1)\n",
        "epsilon <- rnorm(N) ## rozkład zmiennej epsilon ~ N(0,1)\n",
        "\n",
        "Y_1 <- 1 + X_1 + X_2 + epsilon\n",
        "Y_2 <- 0.5*(X_1 - 0.5)^2 + X_2 + epsilon\n",
        "\n",
        "populacja <- data.frame(id = 1:N, X_1, X_2, Y_1, Y_2)\n",
        "head(populacja)"
      ],
      "execution_count": 8,
      "outputs": [
        {
          "output_type": "display_data",
          "data": {
            "text/plain": [
              "  id X_1       X_2       Y_1      Y_2      \n",
              "1 1  0.4395244 1.6399764 3.856908 2.4192128\n",
              "2 2  0.7698225 0.8362165 2.224028 0.4906076\n",
              "3 3  2.5587083 0.2214909 3.119574 1.6800052\n",
              "4 4  1.0705084 0.6128547 3.090614 1.1828452\n",
              "5 5  1.1292877 0.4650717 4.641065 2.7097784\n",
              "6 6  2.7150650 1.1759146 5.217566 3.9557575"
            ],
            "text/latex": "A data.frame: 6 × 5\n\\begin{tabular}{r|lllll}\n  & id & X\\_1 & X\\_2 & Y\\_1 & Y\\_2\\\\\n  & <int> & <dbl> & <dbl> & <dbl> & <dbl>\\\\\n\\hline\n\t1 & 1 & 0.4395244 & 1.6399764 & 3.856908 & 2.4192128\\\\\n\t2 & 2 & 0.7698225 & 0.8362165 & 2.224028 & 0.4906076\\\\\n\t3 & 3 & 2.5587083 & 0.2214909 & 3.119574 & 1.6800052\\\\\n\t4 & 4 & 1.0705084 & 0.6128547 & 3.090614 & 1.1828452\\\\\n\t5 & 5 & 1.1292877 & 0.4650717 & 4.641065 & 2.7097784\\\\\n\t6 & 6 & 2.7150650 & 1.1759146 & 5.217566 & 3.9557575\\\\\n\\end{tabular}\n",
            "text/markdown": "\nA data.frame: 6 × 5\n\n| <!--/--> | id &lt;int&gt; | X_1 &lt;dbl&gt; | X_2 &lt;dbl&gt; | Y_1 &lt;dbl&gt; | Y_2 &lt;dbl&gt; |\n|---|---|---|---|---|---|\n| 1 | 1 | 0.4395244 | 1.6399764 | 3.856908 | 2.4192128 |\n| 2 | 2 | 0.7698225 | 0.8362165 | 2.224028 | 0.4906076 |\n| 3 | 3 | 2.5587083 | 0.2214909 | 3.119574 | 1.6800052 |\n| 4 | 4 | 1.0705084 | 0.6128547 | 3.090614 | 1.1828452 |\n| 5 | 5 | 1.1292877 | 0.4650717 | 4.641065 | 2.7097784 |\n| 6 | 6 | 2.7150650 | 1.1759146 | 5.217566 | 3.9557575 |\n\n",
            "text/html": [
              "<table class=\"dataframe\">\n",
              "<caption>A data.frame: 6 × 5</caption>\n",
              "<thead>\n",
              "\t<tr><th></th><th scope=col>id</th><th scope=col>X_1</th><th scope=col>X_2</th><th scope=col>Y_1</th><th scope=col>Y_2</th></tr>\n",
              "\t<tr><th></th><th scope=col>&lt;int&gt;</th><th scope=col>&lt;dbl&gt;</th><th scope=col>&lt;dbl&gt;</th><th scope=col>&lt;dbl&gt;</th><th scope=col>&lt;dbl&gt;</th></tr>\n",
              "</thead>\n",
              "<tbody>\n",
              "\t<tr><th scope=row>1</th><td>1</td><td>0.4395244</td><td>1.6399764</td><td>3.856908</td><td>2.4192128</td></tr>\n",
              "\t<tr><th scope=row>2</th><td>2</td><td>0.7698225</td><td>0.8362165</td><td>2.224028</td><td>0.4906076</td></tr>\n",
              "\t<tr><th scope=row>3</th><td>3</td><td>2.5587083</td><td>0.2214909</td><td>3.119574</td><td>1.6800052</td></tr>\n",
              "\t<tr><th scope=row>4</th><td>4</td><td>1.0705084</td><td>0.6128547</td><td>3.090614</td><td>1.1828452</td></tr>\n",
              "\t<tr><th scope=row>5</th><td>5</td><td>1.1292877</td><td>0.4650717</td><td>4.641065</td><td>2.7097784</td></tr>\n",
              "\t<tr><th scope=row>6</th><td>6</td><td>2.7150650</td><td>1.1759146</td><td>5.217566</td><td>3.9557575</td></tr>\n",
              "</tbody>\n",
              "</table>\n"
            ]
          },
          "metadata": {
            "tags": []
          }
        }
      ]
    },
    {
      "cell_type": "markdown",
      "metadata": {
        "id": "Ybla1r7u-7Vx"
      },
      "source": [
        "Tworzymy wektor prawdopodobieństw przynależności do źródła big data."
      ]
    },
    {
      "cell_type": "code",
      "metadata": {
        "colab": {
          "base_uri": "https://localhost:8080/",
          "height": 271
        },
        "id": "U7Vo3Ls8_Cjt",
        "outputId": "e717c575-21fa-491e-8d5e-28b2e366fdab"
      },
      "source": [
        "populacja$p_1 <- exp(populacja$X_2) / (1 + exp(populacja$X_2))\n",
        "head(populacja)"
      ],
      "execution_count": 9,
      "outputs": [
        {
          "output_type": "display_data",
          "data": {
            "text/plain": [
              "  id X_1       X_2       Y_1      Y_2       p_1      \n",
              "1 1  0.4395244 1.6399764 3.856908 2.4192128 0.8375317\n",
              "2 2  0.7698225 0.8362165 2.224028 0.4906076 0.6976678\n",
              "3 3  2.5587083 0.2214909 3.119574 1.6800052 0.5551475\n",
              "4 4  1.0705084 0.6128547 3.090614 1.1828452 0.6485917\n",
              "5 5  1.1292877 0.4650717 4.641065 2.7097784 0.6142166\n",
              "6 6  2.7150650 1.1759146 5.217566 3.9557575 0.7642124"
            ],
            "text/latex": "A data.frame: 6 × 6\n\\begin{tabular}{r|llllll}\n  & id & X\\_1 & X\\_2 & Y\\_1 & Y\\_2 & p\\_1\\\\\n  & <int> & <dbl> & <dbl> & <dbl> & <dbl> & <dbl>\\\\\n\\hline\n\t1 & 1 & 0.4395244 & 1.6399764 & 3.856908 & 2.4192128 & 0.8375317\\\\\n\t2 & 2 & 0.7698225 & 0.8362165 & 2.224028 & 0.4906076 & 0.6976678\\\\\n\t3 & 3 & 2.5587083 & 0.2214909 & 3.119574 & 1.6800052 & 0.5551475\\\\\n\t4 & 4 & 1.0705084 & 0.6128547 & 3.090614 & 1.1828452 & 0.6485917\\\\\n\t5 & 5 & 1.1292877 & 0.4650717 & 4.641065 & 2.7097784 & 0.6142166\\\\\n\t6 & 6 & 2.7150650 & 1.1759146 & 5.217566 & 3.9557575 & 0.7642124\\\\\n\\end{tabular}\n",
            "text/markdown": "\nA data.frame: 6 × 6\n\n| <!--/--> | id &lt;int&gt; | X_1 &lt;dbl&gt; | X_2 &lt;dbl&gt; | Y_1 &lt;dbl&gt; | Y_2 &lt;dbl&gt; | p_1 &lt;dbl&gt; |\n|---|---|---|---|---|---|---|\n| 1 | 1 | 0.4395244 | 1.6399764 | 3.856908 | 2.4192128 | 0.8375317 |\n| 2 | 2 | 0.7698225 | 0.8362165 | 2.224028 | 0.4906076 | 0.6976678 |\n| 3 | 3 | 2.5587083 | 0.2214909 | 3.119574 | 1.6800052 | 0.5551475 |\n| 4 | 4 | 1.0705084 | 0.6128547 | 3.090614 | 1.1828452 | 0.6485917 |\n| 5 | 5 | 1.1292877 | 0.4650717 | 4.641065 | 2.7097784 | 0.6142166 |\n| 6 | 6 | 2.7150650 | 1.1759146 | 5.217566 | 3.9557575 | 0.7642124 |\n\n",
            "text/html": [
              "<table class=\"dataframe\">\n",
              "<caption>A data.frame: 6 × 6</caption>\n",
              "<thead>\n",
              "\t<tr><th></th><th scope=col>id</th><th scope=col>X_1</th><th scope=col>X_2</th><th scope=col>Y_1</th><th scope=col>Y_2</th><th scope=col>p_1</th></tr>\n",
              "\t<tr><th></th><th scope=col>&lt;int&gt;</th><th scope=col>&lt;dbl&gt;</th><th scope=col>&lt;dbl&gt;</th><th scope=col>&lt;dbl&gt;</th><th scope=col>&lt;dbl&gt;</th><th scope=col>&lt;dbl&gt;</th></tr>\n",
              "</thead>\n",
              "<tbody>\n",
              "\t<tr><th scope=row>1</th><td>1</td><td>0.4395244</td><td>1.6399764</td><td>3.856908</td><td>2.4192128</td><td>0.8375317</td></tr>\n",
              "\t<tr><th scope=row>2</th><td>2</td><td>0.7698225</td><td>0.8362165</td><td>2.224028</td><td>0.4906076</td><td>0.6976678</td></tr>\n",
              "\t<tr><th scope=row>3</th><td>3</td><td>2.5587083</td><td>0.2214909</td><td>3.119574</td><td>1.6800052</td><td>0.5551475</td></tr>\n",
              "\t<tr><th scope=row>4</th><td>4</td><td>1.0705084</td><td>0.6128547</td><td>3.090614</td><td>1.1828452</td><td>0.6485917</td></tr>\n",
              "\t<tr><th scope=row>5</th><td>5</td><td>1.1292877</td><td>0.4650717</td><td>4.641065</td><td>2.7097784</td><td>0.6142166</td></tr>\n",
              "\t<tr><th scope=row>6</th><td>6</td><td>2.7150650</td><td>1.1759146</td><td>5.217566</td><td>3.9557575</td><td>0.7642124</td></tr>\n",
              "</tbody>\n",
              "</table>\n"
            ]
          },
          "metadata": {
            "tags": []
          }
        }
      ]
    },
    {
      "cell_type": "code",
      "metadata": {
        "colab": {
          "base_uri": "https://localhost:8080/",
          "height": 288
        },
        "id": "8ZUEWNQR_Wgz",
        "outputId": "c048d874-3eb0-496f-c95d-54297d40f958"
      },
      "source": [
        "set.seed(123)\n",
        "populacja$delta_1 <- rbinom(n = N, prob = populacja$p_1, size = 1)\n",
        "head(populacja)\n",
        "sum(populacja$delta_1)"
      ],
      "execution_count": 14,
      "outputs": [
        {
          "output_type": "display_data",
          "data": {
            "text/plain": [
              "  id X_1       X_2       Y_1      Y_2       p_1       delta_1\n",
              "1 1  0.4395244 1.6399764 3.856908 2.4192128 0.8375317 1      \n",
              "2 2  0.7698225 0.8362165 2.224028 0.4906076 0.6976678 0      \n",
              "3 3  2.5587083 0.2214909 3.119574 1.6800052 0.5551475 1      \n",
              "4 4  1.0705084 0.6128547 3.090614 1.1828452 0.6485917 0      \n",
              "5 5  1.1292877 0.4650717 4.641065 2.7097784 0.6142166 0      \n",
              "6 6  2.7150650 1.1759146 5.217566 3.9557575 0.7642124 1      "
            ],
            "text/latex": "A data.frame: 6 × 7\n\\begin{tabular}{r|lllllll}\n  & id & X\\_1 & X\\_2 & Y\\_1 & Y\\_2 & p\\_1 & delta\\_1\\\\\n  & <int> & <dbl> & <dbl> & <dbl> & <dbl> & <dbl> & <int>\\\\\n\\hline\n\t1 & 1 & 0.4395244 & 1.6399764 & 3.856908 & 2.4192128 & 0.8375317 & 1\\\\\n\t2 & 2 & 0.7698225 & 0.8362165 & 2.224028 & 0.4906076 & 0.6976678 & 0\\\\\n\t3 & 3 & 2.5587083 & 0.2214909 & 3.119574 & 1.6800052 & 0.5551475 & 1\\\\\n\t4 & 4 & 1.0705084 & 0.6128547 & 3.090614 & 1.1828452 & 0.6485917 & 0\\\\\n\t5 & 5 & 1.1292877 & 0.4650717 & 4.641065 & 2.7097784 & 0.6142166 & 0\\\\\n\t6 & 6 & 2.7150650 & 1.1759146 & 5.217566 & 3.9557575 & 0.7642124 & 1\\\\\n\\end{tabular}\n",
            "text/markdown": "\nA data.frame: 6 × 7\n\n| <!--/--> | id &lt;int&gt; | X_1 &lt;dbl&gt; | X_2 &lt;dbl&gt; | Y_1 &lt;dbl&gt; | Y_2 &lt;dbl&gt; | p_1 &lt;dbl&gt; | delta_1 &lt;int&gt; |\n|---|---|---|---|---|---|---|---|\n| 1 | 1 | 0.4395244 | 1.6399764 | 3.856908 | 2.4192128 | 0.8375317 | 1 |\n| 2 | 2 | 0.7698225 | 0.8362165 | 2.224028 | 0.4906076 | 0.6976678 | 0 |\n| 3 | 3 | 2.5587083 | 0.2214909 | 3.119574 | 1.6800052 | 0.5551475 | 1 |\n| 4 | 4 | 1.0705084 | 0.6128547 | 3.090614 | 1.1828452 | 0.6485917 | 0 |\n| 5 | 5 | 1.1292877 | 0.4650717 | 4.641065 | 2.7097784 | 0.6142166 | 0 |\n| 6 | 6 | 2.7150650 | 1.1759146 | 5.217566 | 3.9557575 | 0.7642124 | 1 |\n\n",
            "text/html": [
              "<table class=\"dataframe\">\n",
              "<caption>A data.frame: 6 × 7</caption>\n",
              "<thead>\n",
              "\t<tr><th></th><th scope=col>id</th><th scope=col>X_1</th><th scope=col>X_2</th><th scope=col>Y_1</th><th scope=col>Y_2</th><th scope=col>p_1</th><th scope=col>delta_1</th></tr>\n",
              "\t<tr><th></th><th scope=col>&lt;int&gt;</th><th scope=col>&lt;dbl&gt;</th><th scope=col>&lt;dbl&gt;</th><th scope=col>&lt;dbl&gt;</th><th scope=col>&lt;dbl&gt;</th><th scope=col>&lt;dbl&gt;</th><th scope=col>&lt;int&gt;</th></tr>\n",
              "</thead>\n",
              "<tbody>\n",
              "\t<tr><th scope=row>1</th><td>1</td><td>0.4395244</td><td>1.6399764</td><td>3.856908</td><td>2.4192128</td><td>0.8375317</td><td>1</td></tr>\n",
              "\t<tr><th scope=row>2</th><td>2</td><td>0.7698225</td><td>0.8362165</td><td>2.224028</td><td>0.4906076</td><td>0.6976678</td><td>0</td></tr>\n",
              "\t<tr><th scope=row>3</th><td>3</td><td>2.5587083</td><td>0.2214909</td><td>3.119574</td><td>1.6800052</td><td>0.5551475</td><td>1</td></tr>\n",
              "\t<tr><th scope=row>4</th><td>4</td><td>1.0705084</td><td>0.6128547</td><td>3.090614</td><td>1.1828452</td><td>0.6485917</td><td>0</td></tr>\n",
              "\t<tr><th scope=row>5</th><td>5</td><td>1.1292877</td><td>0.4650717</td><td>4.641065</td><td>2.7097784</td><td>0.6142166</td><td>0</td></tr>\n",
              "\t<tr><th scope=row>6</th><td>6</td><td>2.7150650</td><td>1.1759146</td><td>5.217566</td><td>3.9557575</td><td>0.7642124</td><td>1</td></tr>\n",
              "</tbody>\n",
              "</table>\n"
            ]
          },
          "metadata": {
            "tags": []
          }
        },
        {
          "output_type": "display_data",
          "data": {
            "text/plain": [
              "[1] 693383"
            ],
            "text/latex": "693383",
            "text/markdown": "693383",
            "text/html": [
              "693383"
            ]
          },
          "metadata": {
            "tags": []
          }
        }
      ]
    },
    {
      "cell_type": "code",
      "metadata": {
        "colab": {
          "base_uri": "https://localhost:8080/",
          "height": 34
        },
        "id": "uj5B0SeRAOas",
        "outputId": "952d22ba-9437-472b-ce12-5f7e4d2ec68c"
      },
      "source": [
        "c(\"populacja\" = mean(populacja$Y_1), \n",
        "  \"big_data\" = mean(populacja$Y_1[populacja$delta_1 == 1]))"
      ],
      "execution_count": 16,
      "outputs": [
        {
          "output_type": "display_data",
          "data": {
            "text/plain": [
              "populacja  big_data \n",
              " 3.000183  3.186211 "
            ],
            "text/latex": "\\begin{description*}\n\\item[populacja] 3.0001829795246\n\\item[big\\textbackslash{}\\_data] 3.18621116149871\n\\end{description*}\n",
            "text/markdown": "populacja\n:   3.0001829795246big_data\n:   3.18621116149871\n\n",
            "text/html": [
              "<style>\n",
              ".dl-inline {width: auto; margin:0; padding: 0}\n",
              ".dl-inline>dt, .dl-inline>dd {float: none; width: auto; display: inline-block}\n",
              ".dl-inline>dt::after {content: \":\\0020\"; padding-right: .5ex}\n",
              ".dl-inline>dt:not(:first-of-type) {padding-left: .5ex}\n",
              "</style><dl class=dl-inline><dt>populacja</dt><dd>3.0001829795246</dd><dt>big_data</dt><dd>3.18621116149871</dd></dl>\n"
            ]
          },
          "metadata": {
            "tags": []
          }
        }
      ]
    }
  ]
}